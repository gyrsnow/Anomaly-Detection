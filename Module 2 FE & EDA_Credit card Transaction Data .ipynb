{
 "cells": [
  {
   "cell_type": "markdown",
   "id": "565aa40f",
   "metadata": {
    "toc": true
   },
   "source": [
    "<h1>Table of Contents<span class=\"tocSkip\"></span></h1>\n",
    "<div class=\"toc\"><ul class=\"toc-item\"><li><span><a href=\"#Feature-Engineering-(FE)-&amp;-EDA-Assignment-2\" data-toc-modified-id=\"Feature-Engineering-(FE)-&amp;-EDA-Assignment-2-1\">Feature Engineering (FE) &amp; EDA Assignment 2</a></span></li><li><span><a href=\"#Dataset-Introduction\" data-toc-modified-id=\"Dataset-Introduction-2\">Dataset Introduction</a></span></li><li><span><a href=\"#1.-Data-Preparation\" data-toc-modified-id=\"1.-Data-Preparation-3\">1. Data Preparation</a></span></li><li><span><a href=\"#1.1-Create-Date-Fields\" data-toc-modified-id=\"1.1-Create-Date-Fields-4\">1.1 Create Date Fields</a></span></li><li><span><a href=\"#2.-Initial-Observations\" data-toc-modified-id=\"2.-Initial-Observations-5\">2. Initial Observations</a></span><ul class=\"toc-item\"><li><ul class=\"toc-item\"><li><ul class=\"toc-item\"><li><span><a href=\"#From-the-chart-above,-it-is-obvious-that-University-of-Oklahoma-has-the-most-transactions,-followed-by-Univ.-of-Okla-health-science-center.\" data-toc-modified-id=\"From-the-chart-above,-it-is-obvious-that-University-of-Oklahoma-has-the-most-transactions,-followed-by-Univ.-of-Okla-health-science-center.-5.0.0.1\">From the chart above, it is obvious that University of Oklahoma has the most transactions, followed by Univ. of Okla health science center.</a></span></li><li><span><a href=\"#From-this-graph-above,-we-can-see-the-the-three-categories-with-the-highest-number-of-merchant-purchases-are-bookstores,-industrial-supplies-and-medical-equipment.\" data-toc-modified-id=\"From-this-graph-above,-we-can-see-the-the-three-categories-with-the-highest-number-of-merchant-purchases-are-bookstores,-industrial-supplies-and-medical-equipment.-5.0.0.2\">From this graph above, we can see the the three categories with the highest number of merchant purchases are bookstores, industrial supplies and medical equipment.</a></span></li></ul></li></ul></li></ul></li><li><span><a href=\"#3.-Feature-Engineering\" data-toc-modified-id=\"3.-Feature-Engineering-6\">3. Feature Engineering</a></span><ul class=\"toc-item\"><li><span><a href=\"#Feature-1:-The-ratio-to-average-amount\" data-toc-modified-id=\"Feature-1:-The-ratio-to-average-amount-6.1\">Feature 1: The ratio to average amount</a></span><ul class=\"toc-item\"><li><span><a href=\"#My-thought-process:\" data-toc-modified-id=\"My-thought-process:-6.1.1\">My thought process:</a></span></li></ul></li><li><span><a href=\"#Feature-2:-The-ratio-to-the-median-amount\" data-toc-modified-id=\"Feature-2:-The-ratio-to-the-median-amount-6.2\">Feature 2: The ratio to the median amount</a></span><ul class=\"toc-item\"><li><span><a href=\"#My-thought-process:\" data-toc-modified-id=\"My-thought-process:-6.2.1\">My thought process:</a></span></li></ul></li><li><span><a href=\"#Feature-3:-The-ratio-to-average-amount-spent-per-transaction-over-a-month-on-all-transactions\" data-toc-modified-id=\"Feature-3:-The-ratio-to-average-amount-spent-per-transaction-over-a-month-on-all-transactions-6.3\">Feature 3: The ratio to average amount spent per transaction over a month on all transactions</a></span><ul class=\"toc-item\"><li><span><a href=\"#My-thought-process:\" data-toc-modified-id=\"My-thought-process:-6.3.1\">My thought process:</a></span></li></ul></li><li><span><a href=\"#Feature-4:-The-ratio-to-the-median-amount-spent-per-transaction-over-a-month-on-all-transactions\" data-toc-modified-id=\"Feature-4:-The-ratio-to-the-median-amount-spent-per-transaction-over-a-month-on-all-transactions-6.4\">Feature 4: The ratio to the median amount spent per transaction over a month on all transactions</a></span><ul class=\"toc-item\"><li><span><a href=\"#My-thought-process:\" data-toc-modified-id=\"My-thought-process:-6.4.1\">My thought process:</a></span></li></ul></li><li><span><a href=\"#Feature-5:-The-ratio-to-average-amount-spent-per-transaction-over-day-of-week-on-all-transactions\" data-toc-modified-id=\"Feature-5:-The-ratio-to-average-amount-spent-per-transaction-over-day-of-week-on-all-transactions-6.5\">Feature 5: The ratio to average amount spent per transaction over day of week on all transactions</a></span><ul class=\"toc-item\"><li><span><a href=\"#My-thought-process:\" data-toc-modified-id=\"My-thought-process:-6.5.1\">My thought process:</a></span></li></ul></li><li><span><a href=\"#Feature-6:-The-ratio-to-median-amount-spent-per-transaction-over-day-of-week-on-all-transactions\" data-toc-modified-id=\"Feature-6:-The-ratio-to-median-amount-spent-per-transaction-over-day-of-week-on-all-transactions-6.6\">Feature 6: The ratio to median amount spent per transaction over day of week on all transactions</a></span><ul class=\"toc-item\"><li><span><a href=\"#My-thought-process:\" data-toc-modified-id=\"My-thought-process:-6.6.1\">My thought process:</a></span></li></ul></li><li><span><a href=\"#Feature-7:-The-ratio-to-average-amount-spent-per-transaction-over-a-week-on-all-transactions\" data-toc-modified-id=\"Feature-7:-The-ratio-to-average-amount-spent-per-transaction-over-a-week-on-all-transactions-6.7\">Feature 7: The ratio to average amount spent per transaction over a week on all transactions</a></span><ul class=\"toc-item\"><li><span><a href=\"#My-thought-process:\" data-toc-modified-id=\"My-thought-process:-6.7.1\">My thought process:</a></span></li></ul></li><li><span><a href=\"#Feature-8:-The-ratio-to-median-amount-spent-per-transaction-over-a-week-on-all-transactions\" data-toc-modified-id=\"Feature-8:-The-ratio-to-median-amount-spent-per-transaction-over-a-week-on-all-transactions-6.8\">Feature 8: The ratio to median amount spent per transaction over a week on all transactions</a></span><ul class=\"toc-item\"><li><span><a href=\"#My-thought-process:\" data-toc-modified-id=\"My-thought-process:-6.8.1\">My thought process:</a></span></li></ul></li><li><span><a href=\"#Feature-9:--The-ratio-of-average-personal-monthly-spending-on-same-merchant-to-the-average-spending-on-all-same-merchant-transaction\" data-toc-modified-id=\"Feature-9:--The-ratio-of-average-personal-monthly-spending-on-same-merchant-to-the-average-spending-on-all-same-merchant-transaction-6.9\">Feature 9:  The ratio of average personal monthly spending on same merchant to the average spending on all same merchant transaction</a></span><ul class=\"toc-item\"><li><span><a href=\"#My-thought-process:\" data-toc-modified-id=\"My-thought-process:-6.9.1\">My thought process:</a></span></li></ul></li><li><span><a href=\"#Feature-10:-The-ratio-of-median-personal-monthly-spending-on-same-merchant-to-the-median-spending-on-all-same-merchant-transaction\" data-toc-modified-id=\"Feature-10:-The-ratio-of-median-personal-monthly-spending-on-same-merchant-to-the-median-spending-on-all-same-merchant-transaction-6.10\">Feature 10: The ratio of median personal monthly spending on same merchant to the median spending on all same merchant transaction</a></span><ul class=\"toc-item\"><li><span><a href=\"#My-thought-process:\" data-toc-modified-id=\"My-thought-process:-6.10.1\">My thought process:</a></span></li></ul></li><li><span><a href=\"#Feature-11:-The-ratio-of-individual-monthly-number-of-transactions-to-total-annual-transactions-number\" data-toc-modified-id=\"Feature-11:-The-ratio-of-individual-monthly-number-of-transactions-to-total-annual-transactions-number-6.11\">Feature 11: The ratio of individual monthly number of transactions to total annual transactions number</a></span><ul class=\"toc-item\"><li><span><a href=\"#My-thought-process:\" data-toc-modified-id=\"My-thought-process:-6.11.1\">My thought process:</a></span></li></ul></li><li><span><a href=\"#Feature-12:-The-ratio-of-individual-monthly-purchases-of-the-same-merchant-to-the-total-number-of-purchases-for-the-year\" data-toc-modified-id=\"Feature-12:-The-ratio-of-individual-monthly-purchases-of-the-same-merchant-to-the-total-number-of-purchases-for-the-year-6.12\">Feature 12: The ratio of individual monthly purchases of the same merchant to the total number of purchases for the year</a></span><ul class=\"toc-item\"><li><span><a href=\"#My-thought-process:\" data-toc-modified-id=\"My-thought-process:-6.12.1\">My thought process:</a></span></li></ul></li><li><span><a href=\"#Feature-13:-The-ratio-of-average-personal-monthly-spending-on-same-merchant-to-the-average-spending-on-all-same-merchant-transaction-over-month\" data-toc-modified-id=\"Feature-13:-The-ratio-of-average-personal-monthly-spending-on-same-merchant-to-the-average-spending-on-all-same-merchant-transaction-over-month-6.13\">Feature 13: The ratio of average personal monthly spending on same merchant to the average spending on all same merchant transaction over month</a></span><ul class=\"toc-item\"><li><span><a href=\"#My-thought-process:\" data-toc-modified-id=\"My-thought-process:-6.13.1\">My thought process:</a></span></li></ul></li><li><span><a href=\"#Feature-14:-The-ratio-of-median-personal-monthly-spending-on-same-merchant-to-the-median-spending-on-all-same-merchant-transaction-over-month\" data-toc-modified-id=\"Feature-14:-The-ratio-of-median-personal-monthly-spending-on-same-merchant-to-the-median-spending-on-all-same-merchant-transaction-over-month-6.14\">Feature 14: The ratio of median personal monthly spending on same merchant to the median spending on all same merchant transaction over month</a></span><ul class=\"toc-item\"><li><span><a href=\"#My-thought-process:\" data-toc-modified-id=\"My-thought-process:-6.14.1\">My thought process:</a></span></li></ul></li><li><span><a href=\"#Feature-15:-The-ratio-of-average-personal-monthly-spending-on-same-merchant-to-the-average-spending-on-all-same-merchant-transaction-over-week\" data-toc-modified-id=\"Feature-15:-The-ratio-of-average-personal-monthly-spending-on-same-merchant-to-the-average-spending-on-all-same-merchant-transaction-over-week-6.15\">Feature 15: The ratio of average personal monthly spending on same merchant to the average spending on all same merchant transaction over week</a></span><ul class=\"toc-item\"><li><span><a href=\"#My-thought-process:\" data-toc-modified-id=\"My-thought-process:-6.15.1\">My thought process:</a></span></li></ul></li><li><span><a href=\"#Feature-16:-The-ratio-of-average-personal-monthly-spending-on-same-merchant-to-the-average-spending-on-all-same-merchant-transaction-over-week\" data-toc-modified-id=\"Feature-16:-The-ratio-of-average-personal-monthly-spending-on-same-merchant-to-the-average-spending-on-all-same-merchant-transaction-over-week-6.16\">Feature 16: The ratio of average personal monthly spending on same merchant to the average spending on all same merchant transaction over week</a></span><ul class=\"toc-item\"><li><span><a href=\"#My-thought-process:\" data-toc-modified-id=\"My-thought-process:-6.16.1\">My thought process:</a></span></li></ul></li><li><span><a href=\"#Feature-17:-The-ratio-of-the-amount-of-the-same-merchant-purchased-on-the-same-day-by-an-individual-to-the-total-amount-of-the-same--merchant-purchased\" data-toc-modified-id=\"Feature-17:-The-ratio-of-the-amount-of-the-same-merchant-purchased-on-the-same-day-by-an-individual-to-the-total-amount-of-the-same--merchant-purchased-6.17\">Feature 17: The ratio of the amount of the same merchant purchased on the same day by an individual to the total amount of the same  merchant purchased</a></span><ul class=\"toc-item\"><li><span><a href=\"#My-thought-process:\" data-toc-modified-id=\"My-thought-process:-6.17.1\">My thought process:</a></span></li></ul></li></ul></li><li><span><a href=\"#Conclusion\" data-toc-modified-id=\"Conclusion-7\">Conclusion</a></span></li><li><span><a href=\"#Insight\" data-toc-modified-id=\"Insight-8\">Insight</a></span></li></ul></div>"
   ]
  },
  {
   "cell_type": "markdown",
   "id": "05571559",
   "metadata": {},
   "source": [
    "# Feature Engineering (FE) & EDA Assignment 2"
   ]
  },
  {
   "cell_type": "markdown",
   "id": "bbe5d96a",
   "metadata": {},
   "source": [
    "* APAN5420: ANOMALY DETECTION\n",
    "* Author Yaorui Guo"
   ]
  },
  {
   "cell_type": "markdown",
   "id": "4cfb8987",
   "metadata": {},
   "source": [
    "# Dataset Introduction\n"
   ]
  },
  {
   "cell_type": "markdown",
   "id": "4a10b744",
   "metadata": {},
   "source": [
    "Oklahoma purchase credit card transactions project. The Office of Management and Enterprise Services in the State of Oklahoma has made its purchase credit card transactions available. This dataset contains information on purchases made through the purchase card programs administered by the state and higher education institutions."
   ]
  },
  {
   "cell_type": "markdown",
   "id": "9b8a4614",
   "metadata": {},
   "source": [
    "# 1. Data Preparation"
   ]
  },
  {
   "cell_type": "code",
   "execution_count": 1,
   "id": "c177273f",
   "metadata": {},
   "outputs": [
    {
     "data": {
      "text/html": [
       "<div>\n",
       "<style scoped>\n",
       "    .dataframe tbody tr th:only-of-type {\n",
       "        vertical-align: middle;\n",
       "    }\n",
       "\n",
       "    .dataframe tbody tr th {\n",
       "        vertical-align: top;\n",
       "    }\n",
       "\n",
       "    .dataframe thead th {\n",
       "        text-align: right;\n",
       "    }\n",
       "</style>\n",
       "<table border=\"1\" class=\"dataframe\">\n",
       "  <thead>\n",
       "    <tr style=\"text-align: right;\">\n",
       "      <th></th>\n",
       "      <th>Year-Month</th>\n",
       "      <th>Agency Number</th>\n",
       "      <th>Agency Name</th>\n",
       "      <th>Cardholder Last Name</th>\n",
       "      <th>Cardholder First Initial</th>\n",
       "      <th>Description</th>\n",
       "      <th>Amount</th>\n",
       "      <th>Vendor</th>\n",
       "      <th>Transaction Date</th>\n",
       "      <th>Posted Date</th>\n",
       "      <th>Merchant Category Code (MCC)</th>\n",
       "    </tr>\n",
       "  </thead>\n",
       "  <tbody>\n",
       "    <tr>\n",
       "      <th>0</th>\n",
       "      <td>201307</td>\n",
       "      <td>1000</td>\n",
       "      <td>OKLAHOMA STATE UNIVERSITY</td>\n",
       "      <td>Mason</td>\n",
       "      <td>C</td>\n",
       "      <td>GENERAL PURCHASE</td>\n",
       "      <td>890.00</td>\n",
       "      <td>NACAS</td>\n",
       "      <td>07/30/2013 12:00:00 AM</td>\n",
       "      <td>07/31/2013 12:00:00 AM</td>\n",
       "      <td>CHARITABLE AND SOCIAL SERVICE ORGANIZATIONS</td>\n",
       "    </tr>\n",
       "    <tr>\n",
       "      <th>1</th>\n",
       "      <td>201307</td>\n",
       "      <td>1000</td>\n",
       "      <td>OKLAHOMA STATE UNIVERSITY</td>\n",
       "      <td>Mason</td>\n",
       "      <td>C</td>\n",
       "      <td>ROOM CHARGES</td>\n",
       "      <td>368.96</td>\n",
       "      <td>SHERATON HOTEL</td>\n",
       "      <td>07/30/2013 12:00:00 AM</td>\n",
       "      <td>07/31/2013 12:00:00 AM</td>\n",
       "      <td>SHERATON</td>\n",
       "    </tr>\n",
       "    <tr>\n",
       "      <th>2</th>\n",
       "      <td>201307</td>\n",
       "      <td>1000</td>\n",
       "      <td>OKLAHOMA STATE UNIVERSITY</td>\n",
       "      <td>Massey</td>\n",
       "      <td>J</td>\n",
       "      <td>GENERAL PURCHASE</td>\n",
       "      <td>165.82</td>\n",
       "      <td>SEARS.COM 9300</td>\n",
       "      <td>07/29/2013 12:00:00 AM</td>\n",
       "      <td>07/31/2013 12:00:00 AM</td>\n",
       "      <td>DIRCT MARKETING/DIRCT MARKETERS--NOT ELSEWHERE...</td>\n",
       "    </tr>\n",
       "    <tr>\n",
       "      <th>3</th>\n",
       "      <td>201307</td>\n",
       "      <td>1000</td>\n",
       "      <td>OKLAHOMA STATE UNIVERSITY</td>\n",
       "      <td>Massey</td>\n",
       "      <td>T</td>\n",
       "      <td>GENERAL PURCHASE</td>\n",
       "      <td>96.39</td>\n",
       "      <td>WAL-MART #0137</td>\n",
       "      <td>07/30/2013 12:00:00 AM</td>\n",
       "      <td>07/31/2013 12:00:00 AM</td>\n",
       "      <td>GROCERY STORES,AND SUPERMARKETS</td>\n",
       "    </tr>\n",
       "    <tr>\n",
       "      <th>4</th>\n",
       "      <td>201307</td>\n",
       "      <td>1000</td>\n",
       "      <td>OKLAHOMA STATE UNIVERSITY</td>\n",
       "      <td>Mauro-Herrera</td>\n",
       "      <td>M</td>\n",
       "      <td>HAMMERMILL COPY PLUS COPY EA</td>\n",
       "      <td>125.96</td>\n",
       "      <td>STAPLES DIRECT</td>\n",
       "      <td>07/30/2013 12:00:00 AM</td>\n",
       "      <td>07/31/2013 12:00:00 AM</td>\n",
       "      <td>STATIONERY, OFFICE SUPPLIES, PRINTING AND WRIT...</td>\n",
       "    </tr>\n",
       "  </tbody>\n",
       "</table>\n",
       "</div>"
      ],
      "text/plain": [
       "   Year-Month  Agency Number                Agency Name Cardholder Last Name  \\\n",
       "0      201307           1000  OKLAHOMA STATE UNIVERSITY                Mason   \n",
       "1      201307           1000  OKLAHOMA STATE UNIVERSITY                Mason   \n",
       "2      201307           1000  OKLAHOMA STATE UNIVERSITY               Massey   \n",
       "3      201307           1000  OKLAHOMA STATE UNIVERSITY               Massey   \n",
       "4      201307           1000  OKLAHOMA STATE UNIVERSITY        Mauro-Herrera   \n",
       "\n",
       "  Cardholder First Initial                   Description  Amount  \\\n",
       "0                        C              GENERAL PURCHASE  890.00   \n",
       "1                        C                  ROOM CHARGES  368.96   \n",
       "2                        J              GENERAL PURCHASE  165.82   \n",
       "3                        T              GENERAL PURCHASE   96.39   \n",
       "4                        M  HAMMERMILL COPY PLUS COPY EA  125.96   \n",
       "\n",
       "           Vendor        Transaction Date             Posted Date  \\\n",
       "0           NACAS  07/30/2013 12:00:00 AM  07/31/2013 12:00:00 AM   \n",
       "1  SHERATON HOTEL  07/30/2013 12:00:00 AM  07/31/2013 12:00:00 AM   \n",
       "2  SEARS.COM 9300  07/29/2013 12:00:00 AM  07/31/2013 12:00:00 AM   \n",
       "3  WAL-MART #0137  07/30/2013 12:00:00 AM  07/31/2013 12:00:00 AM   \n",
       "4  STAPLES DIRECT  07/30/2013 12:00:00 AM  07/31/2013 12:00:00 AM   \n",
       "\n",
       "                        Merchant Category Code (MCC)  \n",
       "0        CHARITABLE AND SOCIAL SERVICE ORGANIZATIONS  \n",
       "1                                           SHERATON  \n",
       "2  DIRCT MARKETING/DIRCT MARKETERS--NOT ELSEWHERE...  \n",
       "3                    GROCERY STORES,AND SUPERMARKETS  \n",
       "4  STATIONERY, OFFICE SUPPLIES, PRINTING AND WRIT...  "
      ]
     },
     "execution_count": 1,
     "metadata": {},
     "output_type": "execute_result"
    }
   ],
   "source": [
    "import pandas as pd\n",
    "\n",
    "df = pd.read_csv('purchase_credit_card.csv')    \n",
    "df.head(5) "
   ]
  },
  {
   "cell_type": "code",
   "execution_count": 2,
   "id": "eef646ce",
   "metadata": {},
   "outputs": [
    {
     "name": "stdout",
     "output_type": "stream",
     "text": [
      "(442458, 11)\n",
      "Index(['Year-Month', 'Agency Number', 'Agency Name', 'Cardholder Last Name',\n",
      "       'Cardholder First Initial', 'Description', 'Amount', 'Vendor',\n",
      "       'Transaction Date', 'Posted Date', 'Merchant Category Code (MCC)'],\n",
      "      dtype='object')\n"
     ]
    },
    {
     "data": {
      "text/html": [
       "<div>\n",
       "<style scoped>\n",
       "    .dataframe tbody tr th:only-of-type {\n",
       "        vertical-align: middle;\n",
       "    }\n",
       "\n",
       "    .dataframe tbody tr th {\n",
       "        vertical-align: top;\n",
       "    }\n",
       "\n",
       "    .dataframe thead th {\n",
       "        text-align: right;\n",
       "    }\n",
       "</style>\n",
       "<table border=\"1\" class=\"dataframe\">\n",
       "  <thead>\n",
       "    <tr style=\"text-align: right;\">\n",
       "      <th></th>\n",
       "      <th>Year-Month</th>\n",
       "      <th>Agency Number</th>\n",
       "      <th>Amount</th>\n",
       "    </tr>\n",
       "  </thead>\n",
       "  <tbody>\n",
       "    <tr>\n",
       "      <th>count</th>\n",
       "      <td>442458.000000</td>\n",
       "      <td>442458.000000</td>\n",
       "      <td>4.424580e+05</td>\n",
       "    </tr>\n",
       "    <tr>\n",
       "      <th>mean</th>\n",
       "      <td>201357.284375</td>\n",
       "      <td>42785.860353</td>\n",
       "      <td>4.249912e+02</td>\n",
       "    </tr>\n",
       "    <tr>\n",
       "      <th>std</th>\n",
       "      <td>47.107417</td>\n",
       "      <td>33378.461293</td>\n",
       "      <td>5.266509e+03</td>\n",
       "    </tr>\n",
       "    <tr>\n",
       "      <th>min</th>\n",
       "      <td>201307.000000</td>\n",
       "      <td>1000.000000</td>\n",
       "      <td>-4.286304e+04</td>\n",
       "    </tr>\n",
       "    <tr>\n",
       "      <th>25%</th>\n",
       "      <td>201309.000000</td>\n",
       "      <td>1000.000000</td>\n",
       "      <td>3.091000e+01</td>\n",
       "    </tr>\n",
       "    <tr>\n",
       "      <th>50%</th>\n",
       "      <td>201401.000000</td>\n",
       "      <td>47700.000000</td>\n",
       "      <td>1.048900e+02</td>\n",
       "    </tr>\n",
       "    <tr>\n",
       "      <th>75%</th>\n",
       "      <td>201404.000000</td>\n",
       "      <td>76000.000000</td>\n",
       "      <td>3.450000e+02</td>\n",
       "    </tr>\n",
       "    <tr>\n",
       "      <th>max</th>\n",
       "      <td>201406.000000</td>\n",
       "      <td>98000.000000</td>\n",
       "      <td>1.903858e+06</td>\n",
       "    </tr>\n",
       "  </tbody>\n",
       "</table>\n",
       "</div>"
      ],
      "text/plain": [
       "          Year-Month  Agency Number        Amount\n",
       "count  442458.000000  442458.000000  4.424580e+05\n",
       "mean   201357.284375   42785.860353  4.249912e+02\n",
       "std        47.107417   33378.461293  5.266509e+03\n",
       "min    201307.000000    1000.000000 -4.286304e+04\n",
       "25%    201309.000000    1000.000000  3.091000e+01\n",
       "50%    201401.000000   47700.000000  1.048900e+02\n",
       "75%    201404.000000   76000.000000  3.450000e+02\n",
       "max    201406.000000   98000.000000  1.903858e+06"
      ]
     },
     "execution_count": 2,
     "metadata": {},
     "output_type": "execute_result"
    }
   ],
   "source": [
    "# check dimensions of the dataset,  there is 442,458 rows and 11 columns \n",
    "print(df.shape)\n",
    "print(df.columns) \n",
    "df.describe() "
   ]
  },
  {
   "cell_type": "code",
   "execution_count": 3,
   "id": "00dd825e",
   "metadata": {},
   "outputs": [
    {
     "name": "stdout",
     "output_type": "stream",
     "text": [
      "Index(['Year_Month', 'Agency_Number', 'Agency_Name', 'Cardholder_Last_Name',\n",
      "       'Cardholder_First_Initial', 'Description', 'Amount', 'Vendor',\n",
      "       'Transaction_Date', 'Posted_Date', 'Merchant_Category'],\n",
      "      dtype='object')\n"
     ]
    }
   ],
   "source": [
    "# change column names \n",
    "df.columns = ['Year_Month', 'Agency_Number', 'Agency_Name', 'Cardholder_Last_Name',\n",
    "      'Cardholder_First_Initial', 'Description', 'Amount', 'Vendor', 'Transaction_Date',\n",
    "      'Posted_Date', 'Merchant_Category']\n",
    "print(df.columns) "
   ]
  },
  {
   "cell_type": "markdown",
   "id": "91e20c6e",
   "metadata": {},
   "source": [
    "# 1.1 Create Date Fields"
   ]
  },
  {
   "cell_type": "code",
   "execution_count": 4,
   "id": "7b1711d5",
   "metadata": {},
   "outputs": [
    {
     "data": {
      "text/plain": [
       "Wednesday    89644\n",
       "Thursday     87537\n",
       "Tuesday      86919\n",
       "Friday       79917\n",
       "Monday       61809\n",
       "Saturday     26307\n",
       "Sunday       10325\n",
       "Name: Day_of_Week, dtype: int64"
      ]
     },
     "execution_count": 4,
     "metadata": {},
     "output_type": "execute_result"
    }
   ],
   "source": [
    "#Creating separate Year and Month columns for future feature engineering\n",
    "# Converting Transaction_Date and Posted_date from Python Object data type to datetime\n",
    "df['Transaction_Date']=pd.to_datetime(df['Transaction_Date'])\n",
    "df['Posted_Date']=pd.to_datetime(df['Posted_Date'])\n",
    "\n",
    "df['Year_Month'].dtype\n",
    "df['Year_Month']=pd.to_datetime(df['Year_Month'], format='%Y%m')\n",
    "df['Year'] = df['Year_Month'].dt.year\n",
    "df['Month'] = df['Year_Month'].dt.month\n",
    "#Creating 'Week_Number' from 'Transaction_Date'\n",
    "df['Week_Number'] = df['Transaction_Date'].dt.isocalendar().week\n",
    "\n",
    "#Creating 'Day_of_Week' from 'Transaction_Date'\n",
    "dayOfWeek={0:'Monday', 1:'Tuesday', 2:'Wednesday', 3:'Thursday', 4:'Friday', 5:'Saturday', 6:'Sunday'}\n",
    "df['Day_of_Week'] = df['Transaction_Date'].dt.dayofweek.map(dayOfWeek)\n",
    "\n",
    "df['Day_of_Week'].value_counts()"
   ]
  },
  {
   "cell_type": "code",
   "execution_count": 5,
   "id": "06e52304",
   "metadata": {},
   "outputs": [
    {
     "data": {
      "text/html": [
       "<div>\n",
       "<style scoped>\n",
       "    .dataframe tbody tr th:only-of-type {\n",
       "        vertical-align: middle;\n",
       "    }\n",
       "\n",
       "    .dataframe tbody tr th {\n",
       "        vertical-align: top;\n",
       "    }\n",
       "\n",
       "    .dataframe thead th {\n",
       "        text-align: right;\n",
       "    }\n",
       "</style>\n",
       "<table border=\"1\" class=\"dataframe\">\n",
       "  <thead>\n",
       "    <tr style=\"text-align: right;\">\n",
       "      <th></th>\n",
       "      <th>Year_Month</th>\n",
       "      <th>Agency_Number</th>\n",
       "      <th>Agency_Name</th>\n",
       "      <th>Cardholder_Last_Name</th>\n",
       "      <th>Cardholder_First_Initial</th>\n",
       "      <th>Description</th>\n",
       "      <th>Amount</th>\n",
       "      <th>Vendor</th>\n",
       "      <th>Transaction_Date</th>\n",
       "      <th>Posted_Date</th>\n",
       "      <th>Merchant_Category</th>\n",
       "      <th>Year</th>\n",
       "      <th>Month</th>\n",
       "      <th>Week_Number</th>\n",
       "      <th>Day_of_Week</th>\n",
       "    </tr>\n",
       "  </thead>\n",
       "  <tbody>\n",
       "    <tr>\n",
       "      <th>0</th>\n",
       "      <td>2013-07-01</td>\n",
       "      <td>1000</td>\n",
       "      <td>OKLAHOMA STATE UNIVERSITY</td>\n",
       "      <td>Mason</td>\n",
       "      <td>C</td>\n",
       "      <td>GENERAL PURCHASE</td>\n",
       "      <td>890.00</td>\n",
       "      <td>NACAS</td>\n",
       "      <td>2013-07-30</td>\n",
       "      <td>2013-07-31</td>\n",
       "      <td>CHARITABLE AND SOCIAL SERVICE ORGANIZATIONS</td>\n",
       "      <td>2013</td>\n",
       "      <td>7</td>\n",
       "      <td>31</td>\n",
       "      <td>Tuesday</td>\n",
       "    </tr>\n",
       "    <tr>\n",
       "      <th>1</th>\n",
       "      <td>2013-07-01</td>\n",
       "      <td>1000</td>\n",
       "      <td>OKLAHOMA STATE UNIVERSITY</td>\n",
       "      <td>Mason</td>\n",
       "      <td>C</td>\n",
       "      <td>ROOM CHARGES</td>\n",
       "      <td>368.96</td>\n",
       "      <td>SHERATON HOTEL</td>\n",
       "      <td>2013-07-30</td>\n",
       "      <td>2013-07-31</td>\n",
       "      <td>SHERATON</td>\n",
       "      <td>2013</td>\n",
       "      <td>7</td>\n",
       "      <td>31</td>\n",
       "      <td>Tuesday</td>\n",
       "    </tr>\n",
       "    <tr>\n",
       "      <th>2</th>\n",
       "      <td>2013-07-01</td>\n",
       "      <td>1000</td>\n",
       "      <td>OKLAHOMA STATE UNIVERSITY</td>\n",
       "      <td>Massey</td>\n",
       "      <td>J</td>\n",
       "      <td>GENERAL PURCHASE</td>\n",
       "      <td>165.82</td>\n",
       "      <td>SEARS.COM 9300</td>\n",
       "      <td>2013-07-29</td>\n",
       "      <td>2013-07-31</td>\n",
       "      <td>DIRCT MARKETING/DIRCT MARKETERS--NOT ELSEWHERE...</td>\n",
       "      <td>2013</td>\n",
       "      <td>7</td>\n",
       "      <td>31</td>\n",
       "      <td>Monday</td>\n",
       "    </tr>\n",
       "    <tr>\n",
       "      <th>3</th>\n",
       "      <td>2013-07-01</td>\n",
       "      <td>1000</td>\n",
       "      <td>OKLAHOMA STATE UNIVERSITY</td>\n",
       "      <td>Massey</td>\n",
       "      <td>T</td>\n",
       "      <td>GENERAL PURCHASE</td>\n",
       "      <td>96.39</td>\n",
       "      <td>WAL-MART #0137</td>\n",
       "      <td>2013-07-30</td>\n",
       "      <td>2013-07-31</td>\n",
       "      <td>GROCERY STORES,AND SUPERMARKETS</td>\n",
       "      <td>2013</td>\n",
       "      <td>7</td>\n",
       "      <td>31</td>\n",
       "      <td>Tuesday</td>\n",
       "    </tr>\n",
       "    <tr>\n",
       "      <th>4</th>\n",
       "      <td>2013-07-01</td>\n",
       "      <td>1000</td>\n",
       "      <td>OKLAHOMA STATE UNIVERSITY</td>\n",
       "      <td>Mauro-Herrera</td>\n",
       "      <td>M</td>\n",
       "      <td>HAMMERMILL COPY PLUS COPY EA</td>\n",
       "      <td>125.96</td>\n",
       "      <td>STAPLES DIRECT</td>\n",
       "      <td>2013-07-30</td>\n",
       "      <td>2013-07-31</td>\n",
       "      <td>STATIONERY, OFFICE SUPPLIES, PRINTING AND WRIT...</td>\n",
       "      <td>2013</td>\n",
       "      <td>7</td>\n",
       "      <td>31</td>\n",
       "      <td>Tuesday</td>\n",
       "    </tr>\n",
       "  </tbody>\n",
       "</table>\n",
       "</div>"
      ],
      "text/plain": [
       "  Year_Month  Agency_Number                Agency_Name Cardholder_Last_Name  \\\n",
       "0 2013-07-01           1000  OKLAHOMA STATE UNIVERSITY                Mason   \n",
       "1 2013-07-01           1000  OKLAHOMA STATE UNIVERSITY                Mason   \n",
       "2 2013-07-01           1000  OKLAHOMA STATE UNIVERSITY               Massey   \n",
       "3 2013-07-01           1000  OKLAHOMA STATE UNIVERSITY               Massey   \n",
       "4 2013-07-01           1000  OKLAHOMA STATE UNIVERSITY        Mauro-Herrera   \n",
       "\n",
       "  Cardholder_First_Initial                   Description  Amount  \\\n",
       "0                        C              GENERAL PURCHASE  890.00   \n",
       "1                        C                  ROOM CHARGES  368.96   \n",
       "2                        J              GENERAL PURCHASE  165.82   \n",
       "3                        T              GENERAL PURCHASE   96.39   \n",
       "4                        M  HAMMERMILL COPY PLUS COPY EA  125.96   \n",
       "\n",
       "           Vendor Transaction_Date Posted_Date  \\\n",
       "0           NACAS       2013-07-30  2013-07-31   \n",
       "1  SHERATON HOTEL       2013-07-30  2013-07-31   \n",
       "2  SEARS.COM 9300       2013-07-29  2013-07-31   \n",
       "3  WAL-MART #0137       2013-07-30  2013-07-31   \n",
       "4  STAPLES DIRECT       2013-07-30  2013-07-31   \n",
       "\n",
       "                                   Merchant_Category  Year  Month  \\\n",
       "0        CHARITABLE AND SOCIAL SERVICE ORGANIZATIONS  2013      7   \n",
       "1                                           SHERATON  2013      7   \n",
       "2  DIRCT MARKETING/DIRCT MARKETERS--NOT ELSEWHERE...  2013      7   \n",
       "3                    GROCERY STORES,AND SUPERMARKETS  2013      7   \n",
       "4  STATIONERY, OFFICE SUPPLIES, PRINTING AND WRIT...  2013      7   \n",
       "\n",
       "   Week_Number Day_of_Week  \n",
       "0           31     Tuesday  \n",
       "1           31     Tuesday  \n",
       "2           31      Monday  \n",
       "3           31     Tuesday  \n",
       "4           31     Tuesday  "
      ]
     },
     "execution_count": 5,
     "metadata": {},
     "output_type": "execute_result"
    }
   ],
   "source": [
    "df.head()"
   ]
  },
  {
   "cell_type": "markdown",
   "id": "fa7e42ef",
   "metadata": {},
   "source": [
    "# 2. Initial Observations"
   ]
  },
  {
   "cell_type": "code",
   "execution_count": 6,
   "id": "8a811805",
   "metadata": {},
   "outputs": [
    {
     "data": {
      "text/plain": [
       "<AxesSubplot:xlabel='Count', ylabel='Agency_Name'>"
      ]
     },
     "execution_count": 6,
     "metadata": {},
     "output_type": "execute_result"
    },
    {
     "data": {
      "image/png": "[encoded data removed]",
      "text/plain": [
       "<Figure size 432x288 with 1 Axes>"
      ]
     },
     "metadata": {},
     "output_type": "display_data"
    }
   ],
   "source": [
    "import numpy as np\n",
    "import plotly\n",
    "import pandas as pd\n",
    "import plotly.express as px\n",
    "\n",
    "# Summarize the count statistics by agency_name in df_count\n",
    "df_count = df['Agency_Name'].value_counts()\n",
    "df_count = pd.DataFrame(df_count).reset_index()\n",
    "df_count.columns = ['Agency_Name','Count']\n",
    "\n",
    "fig = px.bar(df_count, x='Agency_Name', y='Count', color = 'Agency_Name', width=1000, height=400)\n",
    "import seaborn as sns\n",
    "sns.set_theme(style=\"whitegrid\")\n",
    "sns.barplot(y=\"Agency_Name\", x=\"Count\", data=df_count[1:20])"
   ]
  },
  {
   "cell_type": "markdown",
   "id": "7c734708",
   "metadata": {},
   "source": [
    "#### From the chart above, it is obvious that University of Oklahoma has the most transactions, followed by Univ. of Okla health science center."
   ]
  },
  {
   "cell_type": "code",
   "execution_count": 7,
   "id": "388ab951",
   "metadata": {},
   "outputs": [
    {
     "data": {
      "text/plain": [
       "<AxesSubplot:xlabel='Count', ylabel='Merchant_Category'>"
      ]
     },
     "execution_count": 7,
     "metadata": {},
     "output_type": "execute_result"
    },
    {
     "data": {
      "image/png": "[encoded data removed]",
      "text/plain": [
       "<Figure size 432x288 with 1 Axes>"
      ]
     },
     "metadata": {},
     "output_type": "display_data"
    }
   ],
   "source": [
    "# Summarize the count statistics by Merchant_Categoryin df_count\n",
    "df_count = df['Merchant_Category'].value_counts()\n",
    "df_count = pd.DataFrame(df_count).reset_index()\n",
    "df_count.columns = ['Merchant_Category','Count']\n",
    "\n",
    "fig = px.bar(df_count, x='Merchant_Category', y='Count', color = 'Merchant_Category', width=1000, height=400)\n",
    "sns.set_theme(style=\"whitegrid\")\n",
    "sns.barplot(y=\"Merchant_Category\", x=\"Count\", data=df_count[1:20])"
   ]
  },
  {
   "cell_type": "markdown",
   "id": "cd3c8df9",
   "metadata": {},
   "source": [
    "#### From this graph above, we can see the the three categories with the highest number of merchant purchases are bookstores, industrial supplies and medical equipment."
   ]
  },
  {
   "cell_type": "markdown",
   "id": "8f4b0788",
   "metadata": {},
   "source": [
    "# 3. Feature Engineering"
   ]
  },
  {
   "cell_type": "markdown",
   "id": "ccb51665",
   "metadata": {},
   "source": [
    "## Feature 1: The ratio to average amount"
   ]
  },
  {
   "cell_type": "code",
   "execution_count": 8,
   "id": "a18adbce",
   "metadata": {},
   "outputs": [],
   "source": [
    "# create average spending group by agency and merchant category \n",
    "stat_by_agency = df.groupby(['Agency_Name', 'Merchant_Category'])['Amount'].mean()\n",
    "stat_by_agency = pd.DataFrame(stat_by_agency)\n",
    "stat_by_agency.columns = ['AVG_amount']"
   ]
  },
  {
   "cell_type": "code",
   "execution_count": 9,
   "id": "4a7d8929",
   "metadata": {},
   "outputs": [],
   "source": [
    "# add the new feature average spending to the dataset \n",
    "df1 = pd.merge(df, stat_by_agency, how='left', on=['Agency_Name', 'Merchant_Category'])\n",
    "\n",
    "df1['agency_merchant_avg_ratio_amount'] = np.where(df1['AVG_amount']==0,0, df1['Amount'] / df1['AVG_amount'])"
   ]
  },
  {
   "cell_type": "code",
   "execution_count": 10,
   "id": "12075ce2",
   "metadata": {},
   "outputs": [],
   "source": [
    "# cut by percentile for plotting\n",
    "var = 'agency_merchant_avg_ratio_amount'\n",
    "binned_var = var + '_D'\n",
    "percentile = [0,0.01,0.05,0.2,0.5,0.8,0.95,0.99,1]\n",
    "df1[binned_var] = pd.qcut( df1[var],percentile)"
   ]
  },
  {
   "cell_type": "code",
   "execution_count": 11,
   "id": "7ed70d5b",
   "metadata": {},
   "outputs": [
    {
     "data": {
      "text/plain": [
       "[Text(0, 0, '(-2735.681, -0.681]'),\n",
       " Text(1, 0, '(-0.681, 0.0212]'),\n",
       " Text(2, 0, '(0.0212, 0.133]'),\n",
       " Text(3, 0, '(0.133, 0.515]'),\n",
       " Text(4, 0, '(0.515, 1.298]'),\n",
       " Text(5, 0, '(1.298, 3.515]'),\n",
       " Text(6, 0, '(3.515, 8.71]'),\n",
       " Text(7, 0, '(8.71, 2735.68]')]"
      ]
     },
     "execution_count": 11,
     "metadata": {},
     "output_type": "execute_result"
    },
    {
     "data": {
      "image/png": "[encoded data removed]",
      "text/plain": [
       "<Figure size 432x288 with 1 Axes>"
      ]
     },
     "metadata": {},
     "output_type": "display_data"
    }
   ],
   "source": [
    "import matplotlib.pyplot as plt\n",
    "plt.figure(figsize=(6,4))\n",
    "g = sns.countplot(x=\"agency_merchant_avg_ratio_amount_D\", data=df1)\n",
    "g.set_xticklabels(g.get_xticklabels(), rotation=90)"
   ]
  },
  {
   "cell_type": "code",
   "execution_count": 111,
   "id": "03ee3f72",
   "metadata": {},
   "outputs": [
    {
     "data": {
      "text/html": [
       "<div>\n",
       "<style scoped>\n",
       "    .dataframe tbody tr th:only-of-type {\n",
       "        vertical-align: middle;\n",
       "    }\n",
       "\n",
       "    .dataframe tbody tr th {\n",
       "        vertical-align: top;\n",
       "    }\n",
       "\n",
       "    .dataframe thead th {\n",
       "        text-align: right;\n",
       "    }\n",
       "</style>\n",
       "<table border=\"1\" class=\"dataframe\">\n",
       "  <thead>\n",
       "    <tr style=\"text-align: right;\">\n",
       "      <th></th>\n",
       "      <th>Agency_Number</th>\n",
       "      <th>Amount</th>\n",
       "      <th>Year</th>\n",
       "      <th>Month</th>\n",
       "      <th>Week_Number</th>\n",
       "      <th>AVG_amount</th>\n",
       "      <th>agency_merchant_avg_ratio_amount</th>\n",
       "    </tr>\n",
       "  </thead>\n",
       "  <tbody>\n",
       "    <tr>\n",
       "      <th>count</th>\n",
       "      <td>22258.000000</td>\n",
       "      <td>2.225800e+04</td>\n",
       "      <td>22258.000000</td>\n",
       "      <td>22258.000000</td>\n",
       "      <td>22258.000000</td>\n",
       "      <td>22258.000000</td>\n",
       "      <td>22258.000000</td>\n",
       "    </tr>\n",
       "    <tr>\n",
       "      <th>mean</th>\n",
       "      <td>39681.939078</td>\n",
       "      <td>3.620566e+03</td>\n",
       "      <td>2013.516578</td>\n",
       "      <td>6.371462</td>\n",
       "      <td>25.947255</td>\n",
       "      <td>446.413250</td>\n",
       "      <td>7.683601</td>\n",
       "    </tr>\n",
       "    <tr>\n",
       "      <th>std</th>\n",
       "      <td>33968.800334</td>\n",
       "      <td>2.251857e+04</td>\n",
       "      <td>0.499736</td>\n",
       "      <td>3.307711</td>\n",
       "      <td>14.301851</td>\n",
       "      <td>1042.310448</td>\n",
       "      <td>22.642873</td>\n",
       "    </tr>\n",
       "    <tr>\n",
       "      <th>min</th>\n",
       "      <td>1000.000000</td>\n",
       "      <td>-1.449840e+03</td>\n",
       "      <td>2013.000000</td>\n",
       "      <td>1.000000</td>\n",
       "      <td>1.000000</td>\n",
       "      <td>-116.184000</td>\n",
       "      <td>3.500253</td>\n",
       "    </tr>\n",
       "    <tr>\n",
       "      <th>25%</th>\n",
       "      <td>1000.000000</td>\n",
       "      <td>8.910000e+02</td>\n",
       "      <td>2013.000000</td>\n",
       "      <td>4.000000</td>\n",
       "      <td>14.000000</td>\n",
       "      <td>142.621600</td>\n",
       "      <td>4.185678</td>\n",
       "    </tr>\n",
       "    <tr>\n",
       "      <th>50%</th>\n",
       "      <td>35000.000000</td>\n",
       "      <td>1.792225e+03</td>\n",
       "      <td>2014.000000</td>\n",
       "      <td>6.000000</td>\n",
       "      <td>26.000000</td>\n",
       "      <td>324.029366</td>\n",
       "      <td>5.378789</td>\n",
       "    </tr>\n",
       "    <tr>\n",
       "      <th>75%</th>\n",
       "      <td>76000.000000</td>\n",
       "      <td>3.127205e+03</td>\n",
       "      <td>2014.000000</td>\n",
       "      <td>9.000000</td>\n",
       "      <td>38.000000</td>\n",
       "      <td>477.961816</td>\n",
       "      <td>7.759167</td>\n",
       "    </tr>\n",
       "    <tr>\n",
       "      <th>max</th>\n",
       "      <td>98000.000000</td>\n",
       "      <td>1.903858e+06</td>\n",
       "      <td>2014.000000</td>\n",
       "      <td>12.000000</td>\n",
       "      <td>52.000000</td>\n",
       "      <td>103816.391500</td>\n",
       "      <td>2735.680000</td>\n",
       "    </tr>\n",
       "  </tbody>\n",
       "</table>\n",
       "</div>"
      ],
      "text/plain": [
       "       Agency_Number        Amount          Year         Month   Week_Number  \\\n",
       "count   22258.000000  2.225800e+04  22258.000000  22258.000000  22258.000000   \n",
       "mean    39681.939078  3.620566e+03   2013.516578      6.371462     25.947255   \n",
       "std     33968.800334  2.251857e+04      0.499736      3.307711     14.301851   \n",
       "min      1000.000000 -1.449840e+03   2013.000000      1.000000      1.000000   \n",
       "25%      1000.000000  8.910000e+02   2013.000000      4.000000     14.000000   \n",
       "50%     35000.000000  1.792225e+03   2014.000000      6.000000     26.000000   \n",
       "75%     76000.000000  3.127205e+03   2014.000000      9.000000     38.000000   \n",
       "max     98000.000000  1.903858e+06   2014.000000     12.000000     52.000000   \n",
       "\n",
       "          AVG_amount  agency_merchant_avg_ratio_amount  \n",
       "count   22258.000000                      22258.000000  \n",
       "mean      446.413250                          7.683601  \n",
       "std      1042.310448                         22.642873  \n",
       "min      -116.184000                          3.500253  \n",
       "25%       142.621600                          4.185678  \n",
       "50%       324.029366                          5.378789  \n",
       "75%       477.961816                          7.759167  \n",
       "max    103816.391500                       2735.680000  "
      ]
     },
     "execution_count": 111,
     "metadata": {},
     "output_type": "execute_result"
    }
   ],
   "source": [
    "df1[df1['agency_merchant_avg_ratio_amount']>3.5].describe()"
   ]
  },
  {
   "cell_type": "markdown",
   "id": "8b870178",
   "metadata": {},
   "source": [
    "### My thought process:\n",
    "Dividing the ratio by percentile helps us find anomalies more easily.\n",
    "\n",
    "The frequency histogram shows that values of ratio greater than 3.5 are very unusual, with about 22,000 data."
   ]
  },
  {
   "cell_type": "markdown",
   "id": "9c422524",
   "metadata": {},
   "source": [
    "## Feature 2: The ratio to the median amount"
   ]
  },
  {
   "cell_type": "code",
   "execution_count": 13,
   "id": "c66f1378",
   "metadata": {},
   "outputs": [],
   "source": [
    "# create median spending group by agency and merchant category \n",
    "stat_by_agency = df.groupby(['Agency_Name', 'Merchant_Category'])['Amount'].median() \n",
    "stat_by_agency = pd.DataFrame(stat_by_agency)\n",
    "stat_by_agency.columns = ['Median_amount']"
   ]
  },
  {
   "cell_type": "code",
   "execution_count": 14,
   "id": "87cbe6f5",
   "metadata": {},
   "outputs": [
    {
     "data": {
      "text/plain": [
       "count    442458.000000\n",
       "mean          4.952685\n",
       "std        1078.581350\n",
       "min       -1003.176471\n",
       "25%           0.466090\n",
       "50%           1.000000\n",
       "75%           2.121102\n",
       "max      528116.052705\n",
       "Name: agency_merchant_median_ratio_amount, dtype: float64"
      ]
     },
     "execution_count": 14,
     "metadata": {},
     "output_type": "execute_result"
    }
   ],
   "source": [
    "# add the new feature mdeian spending to the dataset \n",
    "df2 = pd.merge(df, stat_by_agency, how='left', on=['Agency_Name', 'Merchant_Category'])\n",
    "\n",
    "df2['agency_merchant_median_ratio_amount'] = np.where(df2['Median_amount']==0,0, df2['Amount'] / df2['Median_amount'])\n",
    "df2['agency_merchant_median_ratio_amount'].describe()"
   ]
  },
  {
   "cell_type": "code",
   "execution_count": 15,
   "id": "256c451d",
   "metadata": {},
   "outputs": [],
   "source": [
    "# cut by percentile for plotting\n",
    "var = 'agency_merchant_median_ratio_amount'\n",
    "binned_var = var + '_D'\n",
    "percentile = [0,0.01,0.05,0.2,0.5,0.8,0.95,0.99,1]\n",
    "df2[binned_var] = pd.qcut( df2[var],percentile)"
   ]
  },
  {
   "cell_type": "code",
   "execution_count": 16,
   "id": "ceca8b40",
   "metadata": {},
   "outputs": [
    {
     "data": {
      "text/plain": [
       "[Text(0, 0, '(-1003.177, -1.121]'),\n",
       " Text(1, 0, '(-1.121, 0.0653]'),\n",
       " Text(2, 0, '(0.0653, 0.362]'),\n",
       " Text(3, 0, '(0.362, 1.0]'),\n",
       " Text(4, 0, '(1.0, 2.691]'),\n",
       " Text(5, 0, '(2.691, 9.283]'),\n",
       " Text(6, 0, '(9.283, 28.085]'),\n",
       " Text(7, 0, '(28.085, 528116.053]')]"
      ]
     },
     "execution_count": 16,
     "metadata": {},
     "output_type": "execute_result"
    },
    {
     "data": {
      "image/png": "[encoded data removed]",
      "text/plain": [
       "<Figure size 432x288 with 1 Axes>"
      ]
     },
     "metadata": {},
     "output_type": "display_data"
    }
   ],
   "source": [
    "import matplotlib.pyplot as plt\n",
    "plt.figure(figsize=(6,4))\n",
    "g = sns.countplot(x=\"agency_merchant_median_ratio_amount_D\", data=df2)\n",
    "g.set_xticklabels(g.get_xticklabels(), rotation=90)"
   ]
  },
  {
   "cell_type": "code",
   "execution_count": 114,
   "id": "e3253b43",
   "metadata": {},
   "outputs": [
    {
     "data": {
      "text/html": [
       "<div>\n",
       "<style scoped>\n",
       "    .dataframe tbody tr th:only-of-type {\n",
       "        vertical-align: middle;\n",
       "    }\n",
       "\n",
       "    .dataframe tbody tr th {\n",
       "        vertical-align: top;\n",
       "    }\n",
       "\n",
       "    .dataframe thead th {\n",
       "        text-align: right;\n",
       "    }\n",
       "</style>\n",
       "<table border=\"1\" class=\"dataframe\">\n",
       "  <thead>\n",
       "    <tr style=\"text-align: right;\">\n",
       "      <th></th>\n",
       "      <th>Agency_Number</th>\n",
       "      <th>Amount</th>\n",
       "      <th>Year</th>\n",
       "      <th>Month</th>\n",
       "      <th>Week_Number</th>\n",
       "      <th>Median_amount</th>\n",
       "      <th>agency_merchant_median_ratio_amount</th>\n",
       "    </tr>\n",
       "  </thead>\n",
       "  <tbody>\n",
       "    <tr>\n",
       "      <th>count</th>\n",
       "      <td>88181.000000</td>\n",
       "      <td>8.818100e+04</td>\n",
       "      <td>88181.000000</td>\n",
       "      <td>88181.000000</td>\n",
       "      <td>88181.000000</td>\n",
       "      <td>88181.000000</td>\n",
       "      <td>88181.000000</td>\n",
       "    </tr>\n",
       "    <tr>\n",
       "      <th>mean</th>\n",
       "      <td>40057.617854</td>\n",
       "      <td>1.517456e+03</td>\n",
       "      <td>2013.510756</td>\n",
       "      <td>6.395062</td>\n",
       "      <td>26.032445</td>\n",
       "      <td>154.042085</td>\n",
       "      <td>21.607617</td>\n",
       "    </tr>\n",
       "    <tr>\n",
       "      <th>std</th>\n",
       "      <td>34007.293528</td>\n",
       "      <td>1.165038e+04</td>\n",
       "      <td>0.499887</td>\n",
       "      <td>3.329794</td>\n",
       "      <td>14.400058</td>\n",
       "      <td>252.127141</td>\n",
       "      <td>2415.956491</td>\n",
       "    </tr>\n",
       "    <tr>\n",
       "      <th>min</th>\n",
       "      <td>1000.000000</td>\n",
       "      <td>-1.111930e+03</td>\n",
       "      <td>2013.000000</td>\n",
       "      <td>1.000000</td>\n",
       "      <td>1.000000</td>\n",
       "      <td>-207.350000</td>\n",
       "      <td>2.700155</td>\n",
       "    </tr>\n",
       "    <tr>\n",
       "      <th>25%</th>\n",
       "      <td>1000.000000</td>\n",
       "      <td>3.080000e+02</td>\n",
       "      <td>2013.000000</td>\n",
       "      <td>4.000000</td>\n",
       "      <td>14.000000</td>\n",
       "      <td>57.000000</td>\n",
       "      <td>3.597890</td>\n",
       "    </tr>\n",
       "    <tr>\n",
       "      <th>50%</th>\n",
       "      <td>35000.000000</td>\n",
       "      <td>6.444000e+02</td>\n",
       "      <td>2014.000000</td>\n",
       "      <td>6.000000</td>\n",
       "      <td>26.000000</td>\n",
       "      <td>106.160000</td>\n",
       "      <td>5.253012</td>\n",
       "    </tr>\n",
       "    <tr>\n",
       "      <th>75%</th>\n",
       "      <td>76000.000000</td>\n",
       "      <td>1.370900e+03</td>\n",
       "      <td>2014.000000</td>\n",
       "      <td>9.000000</td>\n",
       "      <td>38.000000</td>\n",
       "      <td>186.290000</td>\n",
       "      <td>9.306613</td>\n",
       "    </tr>\n",
       "    <tr>\n",
       "      <th>max</th>\n",
       "      <td>98000.000000</td>\n",
       "      <td>1.903858e+06</td>\n",
       "      <td>2014.000000</td>\n",
       "      <td>12.000000</td>\n",
       "      <td>52.000000</td>\n",
       "      <td>16511.000000</td>\n",
       "      <td>528116.052705</td>\n",
       "    </tr>\n",
       "  </tbody>\n",
       "</table>\n",
       "</div>"
      ],
      "text/plain": [
       "       Agency_Number        Amount          Year         Month   Week_Number  \\\n",
       "count   88181.000000  8.818100e+04  88181.000000  88181.000000  88181.000000   \n",
       "mean    40057.617854  1.517456e+03   2013.510756      6.395062     26.032445   \n",
       "std     34007.293528  1.165038e+04      0.499887      3.329794     14.400058   \n",
       "min      1000.000000 -1.111930e+03   2013.000000      1.000000      1.000000   \n",
       "25%      1000.000000  3.080000e+02   2013.000000      4.000000     14.000000   \n",
       "50%     35000.000000  6.444000e+02   2014.000000      6.000000     26.000000   \n",
       "75%     76000.000000  1.370900e+03   2014.000000      9.000000     38.000000   \n",
       "max     98000.000000  1.903858e+06   2014.000000     12.000000     52.000000   \n",
       "\n",
       "       Median_amount  agency_merchant_median_ratio_amount  \n",
       "count   88181.000000                         88181.000000  \n",
       "mean      154.042085                            21.607617  \n",
       "std       252.127141                          2415.956491  \n",
       "min      -207.350000                             2.700155  \n",
       "25%        57.000000                             3.597890  \n",
       "50%       106.160000                             5.253012  \n",
       "75%       186.290000                             9.306613  \n",
       "max     16511.000000                        528116.052705  "
      ]
     },
     "execution_count": 114,
     "metadata": {},
     "output_type": "execute_result"
    }
   ],
   "source": [
    "df2[df2['agency_merchant_median_ratio_amount']>2.7].describe()"
   ]
  },
  {
   "cell_type": "markdown",
   "id": "9bc21815",
   "metadata": {},
   "source": [
    "### My thought process:\n",
    "The median and mean have different distributions.\n",
    "\n",
    "There is a clear rise in the distribution in the 80% to 95% percentage range, so I chose a threshold of 2.7 with about 88,000 data."
   ]
  },
  {
   "cell_type": "markdown",
   "id": "5fca535f",
   "metadata": {},
   "source": [
    "## Feature 3: The ratio to average amount spent per transaction over a month on all transactions"
   ]
  },
  {
   "cell_type": "code",
   "execution_count": 116,
   "id": "275c7629",
   "metadata": {},
   "outputs": [],
   "source": [
    "# create average spending group by agency, merchant category and month\n",
    "stat_by_agency = df.groupby(['Agency_Name', 'Merchant_Category','Month'])['Amount'].mean()\n",
    "stat_by_agency = pd.DataFrame(stat_by_agency)\n",
    "stat_by_agency.columns = ['AVG_month_amount']"
   ]
  },
  {
   "cell_type": "code",
   "execution_count": 117,
   "id": "fbba87bd",
   "metadata": {},
   "outputs": [],
   "source": [
    "# add the new feature average spending to the dataset \n",
    "df3 = pd.merge(df, stat_by_agency, how='left', on=['Agency_Name', 'Merchant_Category','Month'])\n",
    "\n",
    "df3['agency_merchant_month_avg_ratio_amount'] = np.where(df3['AVG_month_amount']==0,0, df3['Amount'] / df3['AVG_month_amount'])"
   ]
  },
  {
   "cell_type": "code",
   "execution_count": 118,
   "id": "863a384a",
   "metadata": {},
   "outputs": [],
   "source": [
    "# cut by percentile for plotting\n",
    "var = 'agency_merchant_month_avg_ratio_amount'\n",
    "binned_var = var + '_D'\n",
    "percentile = [0,0.01,0.05,0.2,0.5,0.8,0.95,0.99,1]\n",
    "df3[binned_var] = pd.qcut( df3[var],percentile)"
   ]
  },
  {
   "cell_type": "code",
   "execution_count": 119,
   "id": "a2efff7d",
   "metadata": {},
   "outputs": [
    {
     "data": {
      "text/plain": [
       "[Text(0, 0, '(-2.4477063974758644e+16, -0.734]'),\n",
       " Text(1, 0, '(-0.734, 0.0239]'),\n",
       " Text(2, 0, '(0.0239, 0.151]'),\n",
       " Text(3, 0, '(0.151, 0.598]'),\n",
       " Text(4, 0, '(0.598, 1.34]'),\n",
       " Text(5, 0, '(1.34, 3.417]'),\n",
       " Text(6, 0, '(3.417, 8.05]'),\n",
       " Text(7, 0, '(8.05, 3.0596329968448308e+16]')]"
      ]
     },
     "execution_count": 119,
     "metadata": {},
     "output_type": "execute_result"
    },
    {
     "data": {
      "image/png": "[encoded data removed]",
      "text/plain": [
       "<Figure size 432x288 with 1 Axes>"
      ]
     },
     "metadata": {},
     "output_type": "display_data"
    }
   ],
   "source": [
    "plt.figure(figsize=(6,4))\n",
    "g = sns.countplot(x=binned_var, data=df3)\n",
    "g.set_xticklabels(g.get_xticklabels(), rotation=90)"
   ]
  },
  {
   "cell_type": "code",
   "execution_count": 120,
   "id": "8c1ffb82",
   "metadata": {},
   "outputs": [
    {
     "data": {
      "text/html": [
       "<div>\n",
       "<style scoped>\n",
       "    .dataframe tbody tr th:only-of-type {\n",
       "        vertical-align: middle;\n",
       "    }\n",
       "\n",
       "    .dataframe tbody tr th {\n",
       "        vertical-align: top;\n",
       "    }\n",
       "\n",
       "    .dataframe thead th {\n",
       "        text-align: right;\n",
       "    }\n",
       "</style>\n",
       "<table border=\"1\" class=\"dataframe\">\n",
       "  <thead>\n",
       "    <tr style=\"text-align: right;\">\n",
       "      <th></th>\n",
       "      <th>Agency_Number</th>\n",
       "      <th>Amount</th>\n",
       "      <th>Year</th>\n",
       "      <th>Month</th>\n",
       "      <th>Week_Number</th>\n",
       "      <th>AVG_month_amount</th>\n",
       "      <th>agency_merchant_month_avg_ratio_amount</th>\n",
       "    </tr>\n",
       "  </thead>\n",
       "  <tbody>\n",
       "    <tr>\n",
       "      <th>count</th>\n",
       "      <td>22302.000000</td>\n",
       "      <td>2.230200e+04</td>\n",
       "      <td>22302.000000</td>\n",
       "      <td>22302.000000</td>\n",
       "      <td>22302.000000</td>\n",
       "      <td>22302.000000</td>\n",
       "      <td>2.230200e+04</td>\n",
       "    </tr>\n",
       "    <tr>\n",
       "      <th>mean</th>\n",
       "      <td>39357.725765</td>\n",
       "      <td>3.231917e+03</td>\n",
       "      <td>2013.509102</td>\n",
       "      <td>6.389696</td>\n",
       "      <td>26.001883</td>\n",
       "      <td>457.964243</td>\n",
       "      <td>1.371910e+12</td>\n",
       "    </tr>\n",
       "    <tr>\n",
       "      <th>std</th>\n",
       "      <td>34301.821853</td>\n",
       "      <td>2.216347e+04</td>\n",
       "      <td>0.499928</td>\n",
       "      <td>3.360179</td>\n",
       "      <td>14.527902</td>\n",
       "      <td>1550.012260</td>\n",
       "      <td>2.048790e+14</td>\n",
       "    </tr>\n",
       "    <tr>\n",
       "      <th>min</th>\n",
       "      <td>1000.000000</td>\n",
       "      <td>-4.286304e+04</td>\n",
       "      <td>2013.000000</td>\n",
       "      <td>1.000000</td>\n",
       "      <td>1.000000</td>\n",
       "      <td>-8196.534000</td>\n",
       "      <td>3.400010e+00</td>\n",
       "    </tr>\n",
       "    <tr>\n",
       "      <th>25%</th>\n",
       "      <td>1000.000000</td>\n",
       "      <td>7.250300e+02</td>\n",
       "      <td>2013.000000</td>\n",
       "      <td>4.000000</td>\n",
       "      <td>13.000000</td>\n",
       "      <td>132.690903</td>\n",
       "      <td>4.003499e+00</td>\n",
       "    </tr>\n",
       "    <tr>\n",
       "      <th>50%</th>\n",
       "      <td>34500.000000</td>\n",
       "      <td>1.535570e+03</td>\n",
       "      <td>2014.000000</td>\n",
       "      <td>6.000000</td>\n",
       "      <td>26.000000</td>\n",
       "      <td>288.607108</td>\n",
       "      <td>5.063276e+00</td>\n",
       "    </tr>\n",
       "    <tr>\n",
       "      <th>75%</th>\n",
       "      <td>76000.000000</td>\n",
       "      <td>2.859180e+03</td>\n",
       "      <td>2014.000000</td>\n",
       "      <td>9.000000</td>\n",
       "      <td>38.000000</td>\n",
       "      <td>474.725600</td>\n",
       "      <td>7.220744e+00</td>\n",
       "    </tr>\n",
       "    <tr>\n",
       "      <th>max</th>\n",
       "      <td>98000.000000</td>\n",
       "      <td>1.903858e+06</td>\n",
       "      <td>2014.000000</td>\n",
       "      <td>12.000000</td>\n",
       "      <td>52.000000</td>\n",
       "      <td>109408.980625</td>\n",
       "      <td>3.059633e+16</td>\n",
       "    </tr>\n",
       "  </tbody>\n",
       "</table>\n",
       "</div>"
      ],
      "text/plain": [
       "       Agency_Number        Amount          Year         Month   Week_Number  \\\n",
       "count   22302.000000  2.230200e+04  22302.000000  22302.000000  22302.000000   \n",
       "mean    39357.725765  3.231917e+03   2013.509102      6.389696     26.001883   \n",
       "std     34301.821853  2.216347e+04      0.499928      3.360179     14.527902   \n",
       "min      1000.000000 -4.286304e+04   2013.000000      1.000000      1.000000   \n",
       "25%      1000.000000  7.250300e+02   2013.000000      4.000000     13.000000   \n",
       "50%     34500.000000  1.535570e+03   2014.000000      6.000000     26.000000   \n",
       "75%     76000.000000  2.859180e+03   2014.000000      9.000000     38.000000   \n",
       "max     98000.000000  1.903858e+06   2014.000000     12.000000     52.000000   \n",
       "\n",
       "       AVG_month_amount  agency_merchant_month_avg_ratio_amount  \n",
       "count      22302.000000                            2.230200e+04  \n",
       "mean         457.964243                            1.371910e+12  \n",
       "std         1550.012260                            2.048790e+14  \n",
       "min        -8196.534000                            3.400010e+00  \n",
       "25%          132.690903                            4.003499e+00  \n",
       "50%          288.607108                            5.063276e+00  \n",
       "75%          474.725600                            7.220744e+00  \n",
       "max       109408.980625                            3.059633e+16  "
      ]
     },
     "execution_count": 120,
     "metadata": {},
     "output_type": "execute_result"
    }
   ],
   "source": [
    "df3[df3[var]>3.4].describe()"
   ]
  },
  {
   "cell_type": "markdown",
   "id": "61a4ee92",
   "metadata": {},
   "source": [
    "### My thought process:\n",
    "With the previous two features, I added the month to detect anomalies.\n",
    "\n",
    "Similar to the first feature result, I chose a threshold of 3.4 and obtained about 22,000 abnormity."
   ]
  },
  {
   "cell_type": "markdown",
   "id": "a6039ba7",
   "metadata": {},
   "source": [
    "## Feature 4: The ratio to the median amount spent per transaction over a month on all transactions"
   ]
  },
  {
   "cell_type": "code",
   "execution_count": 23,
   "id": "81c318b8",
   "metadata": {},
   "outputs": [],
   "source": [
    "# create average spending group by agency, merchant category and month\n",
    "stat_by_agency = df.groupby(['Agency_Name', 'Merchant_Category','Month'])['Amount'].median() \n",
    "stat_by_agency = pd.DataFrame(stat_by_agency)\n",
    "stat_by_agency.columns = ['Median_month_amount']"
   ]
  },
  {
   "cell_type": "code",
   "execution_count": 24,
   "id": "57d53474",
   "metadata": {},
   "outputs": [],
   "source": [
    "# add the new feature average spending to the dataset \n",
    "df4 = pd.merge(df, stat_by_agency, how='left', on=['Agency_Name', 'Merchant_Category','Month'])\n",
    "\n",
    "df4['agency_merchant_month_median_ratio_amount'] = np.where(df4['Median_month_amount']==0,0, df4['Amount'] / df4['Median_month_amount'])"
   ]
  },
  {
   "cell_type": "code",
   "execution_count": 25,
   "id": "1bce71c4",
   "metadata": {},
   "outputs": [],
   "source": [
    "# cut by percentile for plotting\n",
    "var = 'agency_merchant_month_median_ratio_amount'\n",
    "binned_var = var + '_D'\n",
    "percentile = [0,0.01,0.05,0.2,0.5,0.8,0.95,0.99,1]\n",
    "df4[binned_var] = pd.qcut( df4[var],percentile)"
   ]
  },
  {
   "cell_type": "code",
   "execution_count": 26,
   "id": "c1da554c",
   "metadata": {},
   "outputs": [
    {
     "data": {
      "text/plain": [
       "[Text(0, 0, '(-29642.001, -1.103]'),\n",
       " Text(1, 0, '(-1.103, 0.0687]'),\n",
       " Text(2, 0, '(0.0687, 0.389]'),\n",
       " Text(3, 0, '(0.389, 1.0]'),\n",
       " Text(4, 0, '(1.0, 2.425]'),\n",
       " Text(5, 0, '(2.425, 8.71]'),\n",
       " Text(6, 0, '(8.71, 27.182]'),\n",
       " Text(7, 0, '(27.182, 598420.506]')]"
      ]
     },
     "execution_count": 26,
     "metadata": {},
     "output_type": "execute_result"
    },
    {
     "data": {
      "image/png": "[encoded data removed]",
      "text/plain": [
       "<Figure size 432x288 with 1 Axes>"
      ]
     },
     "metadata": {},
     "output_type": "display_data"
    }
   ],
   "source": [
    "plt.figure(figsize=(6,4))\n",
    "g = sns.countplot(x=binned_var, data=df4)\n",
    "g.set_xticklabels(g.get_xticklabels(), rotation=90)"
   ]
  },
  {
   "cell_type": "code",
   "execution_count": 27,
   "id": "fa97cb95",
   "metadata": {},
   "outputs": [
    {
     "data": {
      "text/html": [
       "<div>\n",
       "<style scoped>\n",
       "    .dataframe tbody tr th:only-of-type {\n",
       "        vertical-align: middle;\n",
       "    }\n",
       "\n",
       "    .dataframe tbody tr th {\n",
       "        vertical-align: top;\n",
       "    }\n",
       "\n",
       "    .dataframe thead th {\n",
       "        text-align: right;\n",
       "    }\n",
       "</style>\n",
       "<table border=\"1\" class=\"dataframe\">\n",
       "  <thead>\n",
       "    <tr style=\"text-align: right;\">\n",
       "      <th></th>\n",
       "      <th>Agency_Number</th>\n",
       "      <th>Amount</th>\n",
       "      <th>Year</th>\n",
       "      <th>Month</th>\n",
       "      <th>Week_Number</th>\n",
       "      <th>Median_month_amount</th>\n",
       "      <th>agency_merchant_month_median_ratio_amount</th>\n",
       "    </tr>\n",
       "  </thead>\n",
       "  <tbody>\n",
       "    <tr>\n",
       "      <th>count</th>\n",
       "      <td>85895.000000</td>\n",
       "      <td>8.589500e+04</td>\n",
       "      <td>85895.000000</td>\n",
       "      <td>85895.000000</td>\n",
       "      <td>85895.000000</td>\n",
       "      <td>85895.000000</td>\n",
       "      <td>85895.000000</td>\n",
       "    </tr>\n",
       "    <tr>\n",
       "      <th>mean</th>\n",
       "      <td>39608.276384</td>\n",
       "      <td>1.396473e+03</td>\n",
       "      <td>2013.503918</td>\n",
       "      <td>6.422248</td>\n",
       "      <td>26.153036</td>\n",
       "      <td>152.993126</td>\n",
       "      <td>22.984826</td>\n",
       "    </tr>\n",
       "    <tr>\n",
       "      <th>std</th>\n",
       "      <td>34413.337472</td>\n",
       "      <td>1.145646e+04</td>\n",
       "      <td>0.499988</td>\n",
       "      <td>3.349971</td>\n",
       "      <td>14.486174</td>\n",
       "      <td>303.019464</td>\n",
       "      <td>2711.965779</td>\n",
       "    </tr>\n",
       "    <tr>\n",
       "      <th>min</th>\n",
       "      <td>1000.000000</td>\n",
       "      <td>-3.187000e+03</td>\n",
       "      <td>2013.000000</td>\n",
       "      <td>1.000000</td>\n",
       "      <td>1.000000</td>\n",
       "      <td>-1146.000000</td>\n",
       "      <td>2.500058</td>\n",
       "    </tr>\n",
       "    <tr>\n",
       "      <th>25%</th>\n",
       "      <td>1000.000000</td>\n",
       "      <td>2.739500e+02</td>\n",
       "      <td>2013.000000</td>\n",
       "      <td>4.000000</td>\n",
       "      <td>14.000000</td>\n",
       "      <td>53.795000</td>\n",
       "      <td>3.355892</td>\n",
       "    </tr>\n",
       "    <tr>\n",
       "      <th>50%</th>\n",
       "      <td>34500.000000</td>\n",
       "      <td>5.792000e+02</td>\n",
       "      <td>2014.000000</td>\n",
       "      <td>6.000000</td>\n",
       "      <td>26.000000</td>\n",
       "      <td>99.390000</td>\n",
       "      <td>4.975033</td>\n",
       "    </tr>\n",
       "    <tr>\n",
       "      <th>75%</th>\n",
       "      <td>76000.000000</td>\n",
       "      <td>1.264685e+03</td>\n",
       "      <td>2014.000000</td>\n",
       "      <td>9.000000</td>\n",
       "      <td>39.000000</td>\n",
       "      <td>184.375000</td>\n",
       "      <td>8.928983</td>\n",
       "    </tr>\n",
       "    <tr>\n",
       "      <th>max</th>\n",
       "      <td>98000.000000</td>\n",
       "      <td>1.903858e+06</td>\n",
       "      <td>2014.000000</td>\n",
       "      <td>12.000000</td>\n",
       "      <td>52.000000</td>\n",
       "      <td>59558.145000</td>\n",
       "      <td>598420.505983</td>\n",
       "    </tr>\n",
       "  </tbody>\n",
       "</table>\n",
       "</div>"
      ],
      "text/plain": [
       "       Agency_Number        Amount          Year         Month   Week_Number  \\\n",
       "count   85895.000000  8.589500e+04  85895.000000  85895.000000  85895.000000   \n",
       "mean    39608.276384  1.396473e+03   2013.503918      6.422248     26.153036   \n",
       "std     34413.337472  1.145646e+04      0.499988      3.349971     14.486174   \n",
       "min      1000.000000 -3.187000e+03   2013.000000      1.000000      1.000000   \n",
       "25%      1000.000000  2.739500e+02   2013.000000      4.000000     14.000000   \n",
       "50%     34500.000000  5.792000e+02   2014.000000      6.000000     26.000000   \n",
       "75%     76000.000000  1.264685e+03   2014.000000      9.000000     39.000000   \n",
       "max     98000.000000  1.903858e+06   2014.000000     12.000000     52.000000   \n",
       "\n",
       "       Median_month_amount  agency_merchant_month_median_ratio_amount  \n",
       "count         85895.000000                               85895.000000  \n",
       "mean            152.993126                                  22.984826  \n",
       "std             303.019464                                2711.965779  \n",
       "min           -1146.000000                                   2.500058  \n",
       "25%              53.795000                                   3.355892  \n",
       "50%              99.390000                                   4.975033  \n",
       "75%             184.375000                                   8.928983  \n",
       "max           59558.145000                              598420.505983  "
      ]
     },
     "execution_count": 27,
     "metadata": {},
     "output_type": "execute_result"
    }
   ],
   "source": [
    "df4[df4[var]>2.5].describe()"
   ]
  },
  {
   "cell_type": "markdown",
   "id": "17903e99",
   "metadata": {},
   "source": [
    "### My thought process:\n",
    "With the previous two features, I added the month to detect anomalies.\n",
    "\n",
    "Similar to the feature2 result, I chose a threshold of 2.5 and obtained about 85,000 abnormity."
   ]
  },
  {
   "cell_type": "markdown",
   "id": "ccc420be",
   "metadata": {},
   "source": [
    "## Feature 5: The ratio to average amount spent per transaction over day of week on all transactions"
   ]
  },
  {
   "cell_type": "code",
   "execution_count": 123,
   "id": "0bfab09c",
   "metadata": {},
   "outputs": [],
   "source": [
    "# create average spending group by agency,merchant category, month and day of week\n",
    "stat_by_agency = df.groupby(['Agency_Name', 'Merchant_Category','Month','Day_of_Week'])['Amount'].mean()\n",
    "stat_by_agency = pd.DataFrame(stat_by_agency)\n",
    "\n",
    "colName = 'AVG_month_week_amount'\n",
    "stat_by_agency.columns = [colName]"
   ]
  },
  {
   "cell_type": "code",
   "execution_count": 124,
   "id": "a01c446f",
   "metadata": {},
   "outputs": [],
   "source": [
    "# add the new feature average spending to the dataset \n",
    "df5 = pd.merge(df, stat_by_agency, how='left', on=['Agency_Name', 'Merchant_Category','Month','Day_of_Week'])\n",
    "\n",
    "colRatioName = 'agency_merchant_month_week_avg_ratio_amount'\n",
    "df5[colRatioName] = np.where(df5[colName]==0,0, df5['Amount'] / df5[colName])"
   ]
  },
  {
   "cell_type": "code",
   "execution_count": 125,
   "id": "60ecb1a2",
   "metadata": {},
   "outputs": [],
   "source": [
    "# cut by percentile for plotting\n",
    "var = colRatioName\n",
    "binned_var = var + '_D'\n",
    "percentile = [0,0.01,0.05,0.2,0.5,0.8,0.95,0.99,1]\n",
    "df5[binned_var] = pd.qcut( df5[var],percentile)"
   ]
  },
  {
   "cell_type": "code",
   "execution_count": 126,
   "id": "997527d2",
   "metadata": {},
   "outputs": [
    {
     "data": {
      "text/plain": [
       "[Text(0, 0, '(-2.4621319900322856e+16, -0.809]'),\n",
       " Text(1, 0, '(-0.809, 0.032]'),\n",
       " Text(2, 0, '(0.032, 0.199]'),\n",
       " Text(3, 0, '(0.199, 0.799]'),\n",
       " Text(4, 0, '(0.799, 1.339]'),\n",
       " Text(5, 0, '(1.339, 3.136]'),\n",
       " Text(6, 0, '(3.136, 7.013]'),\n",
       " Text(7, 0, '(7.013, 3.315528935046906e+16]')]"
      ]
     },
     "execution_count": 126,
     "metadata": {},
     "output_type": "execute_result"
    },
    {
     "data": {
      "image/png": "[encoded data removed]",
      "text/plain": [
       "<Figure size 432x288 with 1 Axes>"
      ]
     },
     "metadata": {},
     "output_type": "display_data"
    }
   ],
   "source": [
    "plt.figure(figsize=(6,4))\n",
    "g = sns.countplot(x=binned_var, data=df5)\n",
    "g.set_xticklabels(g.get_xticklabels(), rotation=90)"
   ]
  },
  {
   "cell_type": "code",
   "execution_count": 128,
   "id": "30564e62",
   "metadata": {},
   "outputs": [
    {
     "data": {
      "text/html": [
       "<div>\n",
       "<style scoped>\n",
       "    .dataframe tbody tr th:only-of-type {\n",
       "        vertical-align: middle;\n",
       "    }\n",
       "\n",
       "    .dataframe tbody tr th {\n",
       "        vertical-align: top;\n",
       "    }\n",
       "\n",
       "    .dataframe thead th {\n",
       "        text-align: right;\n",
       "    }\n",
       "</style>\n",
       "<table border=\"1\" class=\"dataframe\">\n",
       "  <thead>\n",
       "    <tr style=\"text-align: right;\">\n",
       "      <th></th>\n",
       "      <th>Agency_Number</th>\n",
       "      <th>Amount</th>\n",
       "      <th>Year</th>\n",
       "      <th>Month</th>\n",
       "      <th>Week_Number</th>\n",
       "      <th>AVG_month_week_amount</th>\n",
       "      <th>agency_merchant_month_week_avg_ratio_amount</th>\n",
       "    </tr>\n",
       "  </thead>\n",
       "  <tbody>\n",
       "    <tr>\n",
       "      <th>count</th>\n",
       "      <td>22606.000000</td>\n",
       "      <td>2.260600e+04</td>\n",
       "      <td>22606.000000</td>\n",
       "      <td>22606.000000</td>\n",
       "      <td>22606.000000</td>\n",
       "      <td>22606.000000</td>\n",
       "      <td>2.260600e+04</td>\n",
       "    </tr>\n",
       "    <tr>\n",
       "      <th>mean</th>\n",
       "      <td>39418.583562</td>\n",
       "      <td>2.393459e+03</td>\n",
       "      <td>2013.505574</td>\n",
       "      <td>6.416792</td>\n",
       "      <td>26.117181</td>\n",
       "      <td>443.973815</td>\n",
       "      <td>1.466659e+12</td>\n",
       "    </tr>\n",
       "    <tr>\n",
       "      <th>std</th>\n",
       "      <td>34889.430139</td>\n",
       "      <td>1.679183e+04</td>\n",
       "      <td>0.499980</td>\n",
       "      <td>3.347744</td>\n",
       "      <td>14.476305</td>\n",
       "      <td>3733.577174</td>\n",
       "      <td>2.205164e+14</td>\n",
       "    </tr>\n",
       "    <tr>\n",
       "      <th>min</th>\n",
       "      <td>1000.000000</td>\n",
       "      <td>-4.174000e+04</td>\n",
       "      <td>2013.000000</td>\n",
       "      <td>1.000000</td>\n",
       "      <td>1.000000</td>\n",
       "      <td>-5912.388000</td>\n",
       "      <td>3.100108e+00</td>\n",
       "    </tr>\n",
       "    <tr>\n",
       "      <th>25%</th>\n",
       "      <td>1000.000000</td>\n",
       "      <td>4.935225e+02</td>\n",
       "      <td>2013.000000</td>\n",
       "      <td>4.000000</td>\n",
       "      <td>14.000000</td>\n",
       "      <td>107.208049</td>\n",
       "      <td>3.625949e+00</td>\n",
       "    </tr>\n",
       "    <tr>\n",
       "      <th>50%</th>\n",
       "      <td>34500.000000</td>\n",
       "      <td>1.145655e+03</td>\n",
       "      <td>2014.000000</td>\n",
       "      <td>6.000000</td>\n",
       "      <td>26.000000</td>\n",
       "      <td>235.290000</td>\n",
       "      <td>4.472459e+00</td>\n",
       "    </tr>\n",
       "    <tr>\n",
       "      <th>75%</th>\n",
       "      <td>76000.000000</td>\n",
       "      <td>2.358668e+03</td>\n",
       "      <td>2014.000000</td>\n",
       "      <td>9.000000</td>\n",
       "      <td>39.000000</td>\n",
       "      <td>448.836984</td>\n",
       "      <td>6.287619e+00</td>\n",
       "    </tr>\n",
       "    <tr>\n",
       "      <th>max</th>\n",
       "      <td>98000.000000</td>\n",
       "      <td>1.903858e+06</td>\n",
       "      <td>2014.000000</td>\n",
       "      <td>12.000000</td>\n",
       "      <td>52.000000</td>\n",
       "      <td>475966.102500</td>\n",
       "      <td>3.315529e+16</td>\n",
       "    </tr>\n",
       "  </tbody>\n",
       "</table>\n",
       "</div>"
      ],
      "text/plain": [
       "       Agency_Number        Amount          Year         Month   Week_Number  \\\n",
       "count   22606.000000  2.260600e+04  22606.000000  22606.000000  22606.000000   \n",
       "mean    39418.583562  2.393459e+03   2013.505574      6.416792     26.117181   \n",
       "std     34889.430139  1.679183e+04      0.499980      3.347744     14.476305   \n",
       "min      1000.000000 -4.174000e+04   2013.000000      1.000000      1.000000   \n",
       "25%      1000.000000  4.935225e+02   2013.000000      4.000000     14.000000   \n",
       "50%     34500.000000  1.145655e+03   2014.000000      6.000000     26.000000   \n",
       "75%     76000.000000  2.358668e+03   2014.000000      9.000000     39.000000   \n",
       "max     98000.000000  1.903858e+06   2014.000000     12.000000     52.000000   \n",
       "\n",
       "       AVG_month_week_amount  agency_merchant_month_week_avg_ratio_amount  \n",
       "count           22606.000000                                 2.260600e+04  \n",
       "mean              443.973815                                 1.466659e+12  \n",
       "std              3733.577174                                 2.205164e+14  \n",
       "min             -5912.388000                                 3.100108e+00  \n",
       "25%               107.208049                                 3.625949e+00  \n",
       "50%               235.290000                                 4.472459e+00  \n",
       "75%               448.836984                                 6.287619e+00  \n",
       "max            475966.102500                                 3.315529e+16  "
      ]
     },
     "execution_count": 128,
     "metadata": {},
     "output_type": "execute_result"
    }
   ],
   "source": [
    "df5[df5[var]>3.1].describe()"
   ]
  },
  {
   "cell_type": "markdown",
   "id": "81226dc5",
   "metadata": {},
   "source": [
    "### My thought process:\n",
    "Based on feature 3, I wanted to be more specific, so I added the day of the week\n",
    "\n",
    "Similar to the feature3 result, I chose a threshold of 3.1 and obtained about 22,000 abnormity."
   ]
  },
  {
   "cell_type": "markdown",
   "id": "a67f1e8c",
   "metadata": {},
   "source": [
    "## Feature 6: The ratio to median amount spent per transaction over day of week on all transactions"
   ]
  },
  {
   "cell_type": "code",
   "execution_count": 33,
   "id": "5b3b27f3",
   "metadata": {},
   "outputs": [],
   "source": [
    "# create average spending group by agency, merchant category, month and day of week\n",
    "stat_by_agency = df.groupby(['Agency_Name', 'Merchant_Category','Month','Day_of_Week'])['Amount'].median() \n",
    "stat_by_agency = pd.DataFrame(stat_by_agency)\n",
    "\n",
    "colName = 'Median_month_week_amount'\n",
    "stat_by_agency.columns = [colName]"
   ]
  },
  {
   "cell_type": "code",
   "execution_count": 34,
   "id": "197a7e49",
   "metadata": {},
   "outputs": [
    {
     "data": {
      "text/plain": [
       "count    442458.000000\n",
       "mean          3.917258\n",
       "std        1109.682313\n",
       "min       -6336.000000\n",
       "25%           0.596555\n",
       "50%           1.000000\n",
       "75%           1.596101\n",
       "max      737929.600775\n",
       "Name: agency_merchant_month_week_median_ratio_amount, dtype: float64"
      ]
     },
     "execution_count": 34,
     "metadata": {},
     "output_type": "execute_result"
    }
   ],
   "source": [
    "# add the new feature average spending to the dataset \n",
    "df6 = pd.merge(df, stat_by_agency, how='left', on=['Agency_Name', 'Merchant_Category','Month','Day_of_Week'])\n",
    "\n",
    "colRatioName = 'agency_merchant_month_week_median_ratio_amount'\n",
    "df6[colRatioName] = np.where(df6[colName]==0,0, df6['Amount'] / df6[colName])\n",
    "df6[colRatioName].describe()"
   ]
  },
  {
   "cell_type": "code",
   "execution_count": 35,
   "id": "8791fa63",
   "metadata": {},
   "outputs": [],
   "source": [
    "# cut by percentile for plotting\n",
    "var = colRatioName\n",
    "binned_var = var + '_D'\n",
    "percentile = [0,0.01,0.05,0.2,0.5,0.8,0.95,0.99,1]\n",
    "df6[binned_var] = pd.qcut( df6[var],percentile)"
   ]
  },
  {
   "cell_type": "code",
   "execution_count": 36,
   "id": "3ab8e2ff",
   "metadata": {},
   "outputs": [
    {
     "data": {
      "text/plain": [
       "[Text(0, 0, '(-6336.001, -1.077]'),\n",
       " Text(1, 0, '(-1.077, 0.0833]'),\n",
       " Text(2, 0, '(0.0833, 0.46]'),\n",
       " Text(3, 0, '(0.46, 1.0]'),\n",
       " Text(4, 0, '(1.0, 1.955]'),\n",
       " Text(5, 0, '(1.955, 7.429]'),\n",
       " Text(6, 0, '(7.429, 24.24]'),\n",
       " Text(7, 0, '(24.24, 737929.601]')]"
      ]
     },
     "execution_count": 36,
     "metadata": {},
     "output_type": "execute_result"
    },
    {
     "data": {
      "image/png": "[encoded data removed]",
      "text/plain": [
       "<Figure size 432x288 with 1 Axes>"
      ]
     },
     "metadata": {},
     "output_type": "display_data"
    }
   ],
   "source": [
    "plt.figure(figsize=(6,4))\n",
    "g = sns.countplot(x=binned_var, data=df6)\n",
    "g.set_xticklabels(g.get_xticklabels(), rotation=90)"
   ]
  },
  {
   "cell_type": "code",
   "execution_count": 37,
   "id": "7a6c4e4d",
   "metadata": {},
   "outputs": [
    {
     "data": {
      "text/html": [
       "<div>\n",
       "<style scoped>\n",
       "    .dataframe tbody tr th:only-of-type {\n",
       "        vertical-align: middle;\n",
       "    }\n",
       "\n",
       "    .dataframe tbody tr th {\n",
       "        vertical-align: top;\n",
       "    }\n",
       "\n",
       "    .dataframe thead th {\n",
       "        text-align: right;\n",
       "    }\n",
       "</style>\n",
       "<table border=\"1\" class=\"dataframe\">\n",
       "  <thead>\n",
       "    <tr style=\"text-align: right;\">\n",
       "      <th></th>\n",
       "      <th>Agency_Number</th>\n",
       "      <th>Amount</th>\n",
       "      <th>Year</th>\n",
       "      <th>Month</th>\n",
       "      <th>Week_Number</th>\n",
       "      <th>Median_month_week_amount</th>\n",
       "      <th>agency_merchant_month_week_median_ratio_amount</th>\n",
       "    </tr>\n",
       "  </thead>\n",
       "  <tbody>\n",
       "    <tr>\n",
       "      <th>count</th>\n",
       "      <td>85750.000000</td>\n",
       "      <td>8.575000e+04</td>\n",
       "      <td>85750.000000</td>\n",
       "      <td>85750.000000</td>\n",
       "      <td>85750.000000</td>\n",
       "      <td>85750.000000</td>\n",
       "      <td>85750.000000</td>\n",
       "    </tr>\n",
       "    <tr>\n",
       "      <th>mean</th>\n",
       "      <td>39220.369679</td>\n",
       "      <td>1.125090e+03</td>\n",
       "      <td>2013.504338</td>\n",
       "      <td>6.408023</td>\n",
       "      <td>26.093271</td>\n",
       "      <td>155.686715</td>\n",
       "      <td>17.360369</td>\n",
       "    </tr>\n",
       "    <tr>\n",
       "      <th>std</th>\n",
       "      <td>34884.722294</td>\n",
       "      <td>8.846172e+03</td>\n",
       "      <td>0.499984</td>\n",
       "      <td>3.341963</td>\n",
       "      <td>14.449692</td>\n",
       "      <td>386.180748</td>\n",
       "      <td>2520.471412</td>\n",
       "    </tr>\n",
       "    <tr>\n",
       "      <th>min</th>\n",
       "      <td>1000.000000</td>\n",
       "      <td>-3.007645e+04</td>\n",
       "      <td>2013.000000</td>\n",
       "      <td>1.000000</td>\n",
       "      <td>1.000000</td>\n",
       "      <td>-15009.820000</td>\n",
       "      <td>2.000000</td>\n",
       "    </tr>\n",
       "    <tr>\n",
       "      <th>25%</th>\n",
       "      <td>1000.000000</td>\n",
       "      <td>2.032500e+02</td>\n",
       "      <td>2013.000000</td>\n",
       "      <td>4.000000</td>\n",
       "      <td>14.000000</td>\n",
       "      <td>47.740000</td>\n",
       "      <td>2.739057</td>\n",
       "    </tr>\n",
       "    <tr>\n",
       "      <th>50%</th>\n",
       "      <td>34500.000000</td>\n",
       "      <td>4.564400e+02</td>\n",
       "      <td>2014.000000</td>\n",
       "      <td>6.000000</td>\n",
       "      <td>26.000000</td>\n",
       "      <td>90.152500</td>\n",
       "      <td>4.110568</td>\n",
       "    </tr>\n",
       "    <tr>\n",
       "      <th>75%</th>\n",
       "      <td>76000.000000</td>\n",
       "      <td>1.037158e+03</td>\n",
       "      <td>2014.000000</td>\n",
       "      <td>9.000000</td>\n",
       "      <td>38.000000</td>\n",
       "      <td>183.600000</td>\n",
       "      <td>7.634387</td>\n",
       "    </tr>\n",
       "    <tr>\n",
       "      <th>max</th>\n",
       "      <td>98000.000000</td>\n",
       "      <td>1.903858e+06</td>\n",
       "      <td>2014.000000</td>\n",
       "      <td>12.000000</td>\n",
       "      <td>52.000000</td>\n",
       "      <td>78235.390000</td>\n",
       "      <td>737929.600775</td>\n",
       "    </tr>\n",
       "  </tbody>\n",
       "</table>\n",
       "</div>"
      ],
      "text/plain": [
       "       Agency_Number        Amount          Year         Month   Week_Number  \\\n",
       "count   85750.000000  8.575000e+04  85750.000000  85750.000000  85750.000000   \n",
       "mean    39220.369679  1.125090e+03   2013.504338      6.408023     26.093271   \n",
       "std     34884.722294  8.846172e+03      0.499984      3.341963     14.449692   \n",
       "min      1000.000000 -3.007645e+04   2013.000000      1.000000      1.000000   \n",
       "25%      1000.000000  2.032500e+02   2013.000000      4.000000     14.000000   \n",
       "50%     34500.000000  4.564400e+02   2014.000000      6.000000     26.000000   \n",
       "75%     76000.000000  1.037158e+03   2014.000000      9.000000     38.000000   \n",
       "max     98000.000000  1.903858e+06   2014.000000     12.000000     52.000000   \n",
       "\n",
       "       Median_month_week_amount  \\\n",
       "count              85750.000000   \n",
       "mean                 155.686715   \n",
       "std                  386.180748   \n",
       "min               -15009.820000   \n",
       "25%                   47.740000   \n",
       "50%                   90.152500   \n",
       "75%                  183.600000   \n",
       "max                78235.390000   \n",
       "\n",
       "       agency_merchant_month_week_median_ratio_amount  \n",
       "count                                    85750.000000  \n",
       "mean                                        17.360369  \n",
       "std                                       2520.471412  \n",
       "min                                          2.000000  \n",
       "25%                                          2.739057  \n",
       "50%                                          4.110568  \n",
       "75%                                          7.634387  \n",
       "max                                     737929.600775  "
      ]
     },
     "execution_count": 37,
     "metadata": {},
     "output_type": "execute_result"
    }
   ],
   "source": [
    "df6[df6[var]>2].describe()"
   ]
  },
  {
   "cell_type": "markdown",
   "id": "1d386aab",
   "metadata": {},
   "source": [
    "### My thought process:\n",
    "Based on feature 4, I added the day of the week.\n",
    "\n",
    "This time the frequency histogram has changed significantly, the number of distribution intervals between 50% and 80% has decreased a lot, the anomalous rise is still present in the 80% to 95% interval. This time I chose 2 as the threshold value and got about 85000 anomalies"
   ]
  },
  {
   "cell_type": "markdown",
   "id": "c2be7eb3",
   "metadata": {},
   "source": [
    "## Feature 7: The ratio to average amount spent per transaction over a week on all transactions"
   ]
  },
  {
   "cell_type": "code",
   "execution_count": 38,
   "id": "2561d87d",
   "metadata": {},
   "outputs": [],
   "source": [
    "# create average spending group by agency, merchant category and week number\n",
    "stat_by_agency = df.groupby(['Agency_Name','Merchant_Category','Week_Number'])['Amount'].mean()\n",
    "stat_by_agency = pd.DataFrame(stat_by_agency)\n",
    "\n",
    "colName = 'AVG_week_amount'\n",
    "stat_by_agency.columns = [colName]"
   ]
  },
  {
   "cell_type": "code",
   "execution_count": 39,
   "id": "abb910c3",
   "metadata": {},
   "outputs": [],
   "source": [
    "# add the new feature average spending to the dataset \n",
    "df7 = pd.merge(df, stat_by_agency, how='left', on=['Agency_Name','Merchant_Category','Week_Number'])\n",
    "\n",
    "colRatioName = 'agency_Merchant_week_avg_ratio_amount'\n",
    "df7[colRatioName] = np.where(df7[colName]==0,0, df7['Amount'] / df7[colName])"
   ]
  },
  {
   "cell_type": "code",
   "execution_count": 40,
   "id": "e9cb6232",
   "metadata": {},
   "outputs": [],
   "source": [
    "# cut by percentile for plotting\n",
    "var = colRatioName\n",
    "binned_var = var + '_D'\n",
    "percentile = [0,0.01,0.05,0.2,0.5,0.8,0.95,0.99,1]\n",
    "df7[binned_var] = pd.qcut( df7[var],percentile)"
   ]
  },
  {
   "cell_type": "code",
   "execution_count": 41,
   "id": "fd425247",
   "metadata": {},
   "outputs": [
    {
     "data": {
      "text/plain": [
       "[Text(0, 0, '(-6.078170647089906e+17, -0.847]'),\n",
       " Text(1, 0, '(-0.847, 0.029]'),\n",
       " Text(2, 0, '(0.029, 0.184]'),\n",
       " Text(3, 0, '(0.184, 0.745]'),\n",
       " Text(4, 0, '(0.745, 1.351]'),\n",
       " Text(5, 0, '(1.351, 3.23]'),\n",
       " Text(6, 0, '(3.23, 7.324]'),\n",
       " Text(7, 0, '(7.324, 6.078170647089906e+17]')]"
      ]
     },
     "execution_count": 41,
     "metadata": {},
     "output_type": "execute_result"
    },
    {
     "data": {
      "image/png": "[encoded data removed]",
      "text/plain": [
       "<Figure size 432x288 with 1 Axes>"
      ]
     },
     "metadata": {},
     "output_type": "display_data"
    }
   ],
   "source": [
    "plt.figure(figsize=(6,4))\n",
    "g = sns.countplot(x=binned_var, data=df7)\n",
    "g.set_xticklabels(g.get_xticklabels(), rotation=90)"
   ]
  },
  {
   "cell_type": "code",
   "execution_count": 42,
   "id": "af2d9ba5",
   "metadata": {},
   "outputs": [
    {
     "data": {
      "text/html": [
       "<div>\n",
       "<style scoped>\n",
       "    .dataframe tbody tr th:only-of-type {\n",
       "        vertical-align: middle;\n",
       "    }\n",
       "\n",
       "    .dataframe tbody tr th {\n",
       "        vertical-align: top;\n",
       "    }\n",
       "\n",
       "    .dataframe thead th {\n",
       "        text-align: right;\n",
       "    }\n",
       "</style>\n",
       "<table border=\"1\" class=\"dataframe\">\n",
       "  <thead>\n",
       "    <tr style=\"text-align: right;\">\n",
       "      <th></th>\n",
       "      <th>Agency_Number</th>\n",
       "      <th>Amount</th>\n",
       "      <th>Year</th>\n",
       "      <th>Month</th>\n",
       "      <th>AVG_week_amount</th>\n",
       "      <th>agency_Merchant_week_avg_ratio_amount</th>\n",
       "    </tr>\n",
       "  </thead>\n",
       "  <tbody>\n",
       "    <tr>\n",
       "      <th>count</th>\n",
       "      <td>22474.000000</td>\n",
       "      <td>2.247400e+04</td>\n",
       "      <td>22474.000000</td>\n",
       "      <td>22474.000000</td>\n",
       "      <td>22474.000000</td>\n",
       "      <td>2.247400e+04</td>\n",
       "    </tr>\n",
       "    <tr>\n",
       "      <th>mean</th>\n",
       "      <td>39710.251847</td>\n",
       "      <td>2.670515e+03</td>\n",
       "      <td>2013.505384</td>\n",
       "      <td>6.423289</td>\n",
       "      <td>478.861720</td>\n",
       "      <td>3.365273e+14</td>\n",
       "    </tr>\n",
       "    <tr>\n",
       "      <th>std</th>\n",
       "      <td>34844.494892</td>\n",
       "      <td>2.155627e+04</td>\n",
       "      <td>0.499982</td>\n",
       "      <td>3.357675</td>\n",
       "      <td>4867.836188</td>\n",
       "      <td>1.003722e+16</td>\n",
       "    </tr>\n",
       "    <tr>\n",
       "      <th>min</th>\n",
       "      <td>1000.000000</td>\n",
       "      <td>-4.174000e+04</td>\n",
       "      <td>2013.000000</td>\n",
       "      <td>1.000000</td>\n",
       "      <td>-2462.338000</td>\n",
       "      <td>3.200143e+00</td>\n",
       "    </tr>\n",
       "    <tr>\n",
       "      <th>25%</th>\n",
       "      <td>1000.000000</td>\n",
       "      <td>5.208900e+02</td>\n",
       "      <td>2013.000000</td>\n",
       "      <td>4.000000</td>\n",
       "      <td>107.118825</td>\n",
       "      <td>3.765896e+00</td>\n",
       "    </tr>\n",
       "    <tr>\n",
       "      <th>50%</th>\n",
       "      <td>34500.000000</td>\n",
       "      <td>1.210725e+03</td>\n",
       "      <td>2014.000000</td>\n",
       "      <td>6.000000</td>\n",
       "      <td>243.199661</td>\n",
       "      <td>4.656646e+00</td>\n",
       "    </tr>\n",
       "    <tr>\n",
       "      <th>75%</th>\n",
       "      <td>76000.000000</td>\n",
       "      <td>2.445980e+03</td>\n",
       "      <td>2014.000000</td>\n",
       "      <td>9.000000</td>\n",
       "      <td>445.828873</td>\n",
       "      <td>6.524607e+00</td>\n",
       "    </tr>\n",
       "    <tr>\n",
       "      <th>max</th>\n",
       "      <td>98000.000000</td>\n",
       "      <td>1.903858e+06</td>\n",
       "      <td>2014.000000</td>\n",
       "      <td>12.000000</td>\n",
       "      <td>475969.140000</td>\n",
       "      <td>6.078171e+17</td>\n",
       "    </tr>\n",
       "  </tbody>\n",
       "</table>\n",
       "</div>"
      ],
      "text/plain": [
       "       Agency_Number        Amount          Year         Month  \\\n",
       "count   22474.000000  2.247400e+04  22474.000000  22474.000000   \n",
       "mean    39710.251847  2.670515e+03   2013.505384      6.423289   \n",
       "std     34844.494892  2.155627e+04      0.499982      3.357675   \n",
       "min      1000.000000 -4.174000e+04   2013.000000      1.000000   \n",
       "25%      1000.000000  5.208900e+02   2013.000000      4.000000   \n",
       "50%     34500.000000  1.210725e+03   2014.000000      6.000000   \n",
       "75%     76000.000000  2.445980e+03   2014.000000      9.000000   \n",
       "max     98000.000000  1.903858e+06   2014.000000     12.000000   \n",
       "\n",
       "       AVG_week_amount  agency_Merchant_week_avg_ratio_amount  \n",
       "count     22474.000000                           2.247400e+04  \n",
       "mean        478.861720                           3.365273e+14  \n",
       "std        4867.836188                           1.003722e+16  \n",
       "min       -2462.338000                           3.200143e+00  \n",
       "25%         107.118825                           3.765896e+00  \n",
       "50%         243.199661                           4.656646e+00  \n",
       "75%         445.828873                           6.524607e+00  \n",
       "max      475969.140000                           6.078171e+17  "
      ]
     },
     "execution_count": 42,
     "metadata": {},
     "output_type": "execute_result"
    }
   ],
   "source": [
    "df7[df7[var]>3.2].describe()"
   ]
  },
  {
   "cell_type": "markdown",
   "id": "d3e52dea",
   "metadata": {},
   "source": [
    "### My thought process:\n",
    "I added the week number to feature 1 to check if I could detect some changes in the weekly trades.\n",
    "\n",
    "The results are similar to the previous mean features, I chose a threshold of 3.2 and obtained 22,000 data."
   ]
  },
  {
   "cell_type": "markdown",
   "id": "e9c4bf61",
   "metadata": {},
   "source": [
    "## Feature 8: The ratio to median amount spent per transaction over a week on all transactions"
   ]
  },
  {
   "cell_type": "code",
   "execution_count": 43,
   "id": "13199514",
   "metadata": {},
   "outputs": [],
   "source": [
    "# create average spending group by agency, merchant category and week number\n",
    "stat_by_agency = df.groupby(['Agency_Name', 'Merchant_Category','Week_Number'])['Amount'].median() \n",
    "stat_by_agency = pd.DataFrame(stat_by_agency)\n",
    "\n",
    "colName = 'Median_week_amount'\n",
    "stat_by_agency.columns = [colName]"
   ]
  },
  {
   "cell_type": "code",
   "execution_count": 44,
   "id": "b0c7fa6d",
   "metadata": {},
   "outputs": [],
   "source": [
    "# add the new feature average spending to the dataset \n",
    "df8 = pd.merge(df, stat_by_agency, how='left', on=['Agency_Name', 'Merchant_Category','Week_Number'])\n",
    "\n",
    "colRatioName = 'agency_merchant_week_median_ratio_amount'\n",
    "df8[colRatioName] = np.where(df8[colName]==0,0, df8['Amount'] / df8[colName])"
   ]
  },
  {
   "cell_type": "code",
   "execution_count": 45,
   "id": "ea232682",
   "metadata": {},
   "outputs": [],
   "source": [
    "# cut by percentile for plotting\n",
    "var = colRatioName\n",
    "binned_var = var + '_D'\n",
    "percentile = [0,0.01,0.05,0.2,0.5,0.8,0.95,0.99,1]\n",
    "df8[binned_var] = pd.qcut( df8[var],percentile)"
   ]
  },
  {
   "cell_type": "code",
   "execution_count": 46,
   "id": "3283bfb7",
   "metadata": {},
   "outputs": [
    {
     "data": {
      "text/plain": [
       "[Text(0, 0, '(-2811.001, -1.104]'),\n",
       " Text(1, 0, '(-1.104, 0.0776]'),\n",
       " Text(2, 0, '(0.0776, 0.437]'),\n",
       " Text(3, 0, '(0.437, 1.0]'),\n",
       " Text(4, 0, '(1.0, 2.045]'),\n",
       " Text(5, 0, '(2.045, 7.78]'),\n",
       " Text(6, 0, '(7.78, 25.505]'),\n",
       " Text(7, 0, '(25.505, 235424.342]')]"
      ]
     },
     "execution_count": 46,
     "metadata": {},
     "output_type": "execute_result"
    },
    {
     "data": {
      "image/png": "[encoded data removed]",
      "text/plain": [
       "<Figure size 432x288 with 1 Axes>"
      ]
     },
     "metadata": {},
     "output_type": "display_data"
    }
   ],
   "source": [
    "plt.figure(figsize=(6,4))\n",
    "g = sns.countplot(x=binned_var, data=df8)\n",
    "g.set_xticklabels(g.get_xticklabels(), rotation=90)"
   ]
  },
  {
   "cell_type": "code",
   "execution_count": 47,
   "id": "1b915d45",
   "metadata": {},
   "outputs": [
    {
     "data": {
      "text/html": [
       "<div>\n",
       "<style scoped>\n",
       "    .dataframe tbody tr th:only-of-type {\n",
       "        vertical-align: middle;\n",
       "    }\n",
       "\n",
       "    .dataframe tbody tr th {\n",
       "        vertical-align: top;\n",
       "    }\n",
       "\n",
       "    .dataframe thead th {\n",
       "        text-align: right;\n",
       "    }\n",
       "</style>\n",
       "<table border=\"1\" class=\"dataframe\">\n",
       "  <thead>\n",
       "    <tr style=\"text-align: right;\">\n",
       "      <th></th>\n",
       "      <th>Agency_Number</th>\n",
       "      <th>Amount</th>\n",
       "      <th>Year</th>\n",
       "      <th>Month</th>\n",
       "      <th>Median_week_amount</th>\n",
       "      <th>agency_merchant_week_median_ratio_amount</th>\n",
       "    </tr>\n",
       "  </thead>\n",
       "  <tbody>\n",
       "    <tr>\n",
       "      <th>count</th>\n",
       "      <td>90279.000000</td>\n",
       "      <td>9.027900e+04</td>\n",
       "      <td>90279.000000</td>\n",
       "      <td>90279.000000</td>\n",
       "      <td>90279.000000</td>\n",
       "      <td>90279.000000</td>\n",
       "    </tr>\n",
       "    <tr>\n",
       "      <th>mean</th>\n",
       "      <td>39277.929530</td>\n",
       "      <td>1.162621e+03</td>\n",
       "      <td>2013.505023</td>\n",
       "      <td>6.413562</td>\n",
       "      <td>154.977364</td>\n",
       "      <td>13.935603</td>\n",
       "    </tr>\n",
       "    <tr>\n",
       "      <th>std</th>\n",
       "      <td>34825.113592</td>\n",
       "      <td>1.091553e+04</td>\n",
       "      <td>0.499978</td>\n",
       "      <td>3.343017</td>\n",
       "      <td>328.692498</td>\n",
       "      <td>1094.205124</td>\n",
       "    </tr>\n",
       "    <tr>\n",
       "      <th>min</th>\n",
       "      <td>1000.000000</td>\n",
       "      <td>-4.987040e+03</td>\n",
       "      <td>2013.000000</td>\n",
       "      <td>1.000000</td>\n",
       "      <td>-2474.955000</td>\n",
       "      <td>2.000000</td>\n",
       "    </tr>\n",
       "    <tr>\n",
       "      <th>25%</th>\n",
       "      <td>1000.000000</td>\n",
       "      <td>2.065500e+02</td>\n",
       "      <td>2013.000000</td>\n",
       "      <td>4.000000</td>\n",
       "      <td>48.200000</td>\n",
       "      <td>2.728227</td>\n",
       "    </tr>\n",
       "    <tr>\n",
       "      <th>50%</th>\n",
       "      <td>34500.000000</td>\n",
       "      <td>4.573800e+02</td>\n",
       "      <td>2014.000000</td>\n",
       "      <td>6.000000</td>\n",
       "      <td>90.690000</td>\n",
       "      <td>4.105210</td>\n",
       "    </tr>\n",
       "    <tr>\n",
       "      <th>75%</th>\n",
       "      <td>76000.000000</td>\n",
       "      <td>1.030720e+03</td>\n",
       "      <td>2014.000000</td>\n",
       "      <td>9.000000</td>\n",
       "      <td>182.270000</td>\n",
       "      <td>7.639528</td>\n",
       "    </tr>\n",
       "    <tr>\n",
       "      <th>max</th>\n",
       "      <td>98000.000000</td>\n",
       "      <td>1.903858e+06</td>\n",
       "      <td>2014.000000</td>\n",
       "      <td>12.000000</td>\n",
       "      <td>29999.840000</td>\n",
       "      <td>235424.341627</td>\n",
       "    </tr>\n",
       "  </tbody>\n",
       "</table>\n",
       "</div>"
      ],
      "text/plain": [
       "       Agency_Number        Amount          Year         Month  \\\n",
       "count   90279.000000  9.027900e+04  90279.000000  90279.000000   \n",
       "mean    39277.929530  1.162621e+03   2013.505023      6.413562   \n",
       "std     34825.113592  1.091553e+04      0.499978      3.343017   \n",
       "min      1000.000000 -4.987040e+03   2013.000000      1.000000   \n",
       "25%      1000.000000  2.065500e+02   2013.000000      4.000000   \n",
       "50%     34500.000000  4.573800e+02   2014.000000      6.000000   \n",
       "75%     76000.000000  1.030720e+03   2014.000000      9.000000   \n",
       "max     98000.000000  1.903858e+06   2014.000000     12.000000   \n",
       "\n",
       "       Median_week_amount  agency_merchant_week_median_ratio_amount  \n",
       "count        90279.000000                              90279.000000  \n",
       "mean           154.977364                                 13.935603  \n",
       "std            328.692498                               1094.205124  \n",
       "min          -2474.955000                                  2.000000  \n",
       "25%             48.200000                                  2.728227  \n",
       "50%             90.690000                                  4.105210  \n",
       "75%            182.270000                                  7.639528  \n",
       "max          29999.840000                             235424.341627  "
      ]
     },
     "execution_count": 47,
     "metadata": {},
     "output_type": "execute_result"
    }
   ],
   "source": [
    "df8[df8[var]>2].describe()"
   ]
  },
  {
   "cell_type": "markdown",
   "id": "c79804a9",
   "metadata": {},
   "source": [
    "### My thought process:\n",
    "The same idea is replaced with the median\n",
    "\n",
    "The results are similar to the previous median features, I chose a threshold of 2 and obtained approximately 90,000 data."
   ]
  },
  {
   "cell_type": "markdown",
   "id": "91087c40",
   "metadata": {},
   "source": [
    "## Feature 9:  The ratio of average personal monthly spending on same merchant to the average spending on all same merchant transaction"
   ]
  },
  {
   "cell_type": "code",
   "execution_count": 160,
   "id": "4e39377f",
   "metadata": {},
   "outputs": [],
   "source": [
    "# create average spending group by agency and merchant category \n",
    "stat_by_agency = df.groupby(['Agency_Name', 'Merchant_Category'])['Amount'].mean()\n",
    "stat_by_agency = pd.DataFrame(stat_by_agency)\n",
    "stat_by_agency.columns = ['AVG_amount']"
   ]
  },
  {
   "cell_type": "code",
   "execution_count": 161,
   "id": "2c93fc5f",
   "metadata": {},
   "outputs": [],
   "source": [
    "# create average spending group by cardholder, agency and merchant category \n",
    "stat_by_cust = df.groupby(['Cardholder_Last_Name', 'Cardholder_First_Initial','Agency_Name','Merchant_Category'])['Amount'].mean()\n",
    "stat_by_cust = pd.DataFrame(stat_by_cust)\n",
    "stat_by_cust.columns = ['AVG_amount_cust']"
   ]
  },
  {
   "cell_type": "code",
   "execution_count": 162,
   "id": "7f256079",
   "metadata": {},
   "outputs": [],
   "source": [
    "# add the new feature average spending to the dataset \n",
    "df9 = pd.merge(df, stat_by_agency, how='left', on=['Agency_Name', 'Merchant_Category'])\n",
    "df9 = pd.merge(df9, stat_by_cust, how='left', on=['Cardholder_Last_Name', 'Cardholder_First_Initial','Agency_Name','Merchant_Category'])"
   ]
  },
  {
   "cell_type": "code",
   "execution_count": 163,
   "id": "85d26bf8",
   "metadata": {},
   "outputs": [],
   "source": [
    "colRatioName = 'agency_merchant_cust_avg_ratio_amount'\n",
    "df9[colRatioName] = np.where(df9['AVG_amount']==0,0, df9['AVG_amount_cust'] / df9['AVG_amount'])"
   ]
  },
  {
   "cell_type": "code",
   "execution_count": 164,
   "id": "90ff793a",
   "metadata": {},
   "outputs": [],
   "source": [
    "var = colRatioName\n",
    "binned_var = var + '_D'\n",
    "percentile = [0,0.01,0.05,0.2,0.5,0.8,0.95,0.99,1]\n",
    "df9[binned_var] = pd.qcut(df9[var],percentile)"
   ]
  },
  {
   "cell_type": "code",
   "execution_count": 165,
   "id": "081275fc",
   "metadata": {},
   "outputs": [
    {
     "data": {
      "text/plain": [
       "[Text(0, 0, '(-453.948, 0.0293]'),\n",
       " Text(1, 0, '(0.0293, 0.12]'),\n",
       " Text(2, 0, '(0.12, 0.38]'),\n",
       " Text(3, 0, '(0.38, 0.849]'),\n",
       " Text(4, 0, '(0.849, 1.21]'),\n",
       " Text(5, 0, '(1.21, 2.463]'),\n",
       " Text(6, 0, '(2.463, 5.358]'),\n",
       " Text(7, 0, '(5.358, 455.947]')]"
      ]
     },
     "execution_count": 165,
     "metadata": {},
     "output_type": "execute_result"
    },
    {
     "data": {
      "image/png": "[encoded data removed]",
      "text/plain": [
       "<Figure size 432x288 with 1 Axes>"
      ]
     },
     "metadata": {},
     "output_type": "display_data"
    }
   ],
   "source": [
    "plt.figure(figsize=(6,4))\n",
    "g = sns.countplot(x=binned_var, data=df9)\n",
    "g.set_xticklabels(g.get_xticklabels(), rotation=90)"
   ]
  },
  {
   "cell_type": "code",
   "execution_count": 166,
   "id": "aaf44c18",
   "metadata": {},
   "outputs": [
    {
     "data": {
      "text/html": [
       "<div>\n",
       "<style scoped>\n",
       "    .dataframe tbody tr th:only-of-type {\n",
       "        vertical-align: middle;\n",
       "    }\n",
       "\n",
       "    .dataframe tbody tr th {\n",
       "        vertical-align: top;\n",
       "    }\n",
       "\n",
       "    .dataframe thead th {\n",
       "        text-align: right;\n",
       "    }\n",
       "</style>\n",
       "<table border=\"1\" class=\"dataframe\">\n",
       "  <thead>\n",
       "    <tr style=\"text-align: right;\">\n",
       "      <th></th>\n",
       "      <th>Agency_Number</th>\n",
       "      <th>Amount</th>\n",
       "      <th>Year</th>\n",
       "      <th>Month</th>\n",
       "      <th>Week_Number</th>\n",
       "      <th>AVG_amount</th>\n",
       "      <th>AVG_amount_cust</th>\n",
       "      <th>agency_merchant_cust_avg_ratio_amount</th>\n",
       "    </tr>\n",
       "  </thead>\n",
       "  <tbody>\n",
       "    <tr>\n",
       "      <th>count</th>\n",
       "      <td>20863.000000</td>\n",
       "      <td>2.086300e+04</td>\n",
       "      <td>20863.000000</td>\n",
       "      <td>20863.000000</td>\n",
       "      <td>20863.000000</td>\n",
       "      <td>20863.000000</td>\n",
       "      <td>20863.000000</td>\n",
       "      <td>20863.000000</td>\n",
       "    </tr>\n",
       "    <tr>\n",
       "      <th>mean</th>\n",
       "      <td>37582.629536</td>\n",
       "      <td>2.739359e+03</td>\n",
       "      <td>2013.521402</td>\n",
       "      <td>6.332167</td>\n",
       "      <td>25.786416</td>\n",
       "      <td>543.533010</td>\n",
       "      <td>2739.358510</td>\n",
       "      <td>4.842382</td>\n",
       "    </tr>\n",
       "    <tr>\n",
       "      <th>std</th>\n",
       "      <td>34464.185062</td>\n",
       "      <td>2.293361e+04</td>\n",
       "      <td>0.499554</td>\n",
       "      <td>3.302402</td>\n",
       "      <td>14.293619</td>\n",
       "      <td>1154.433113</td>\n",
       "      <td>12405.964809</td>\n",
       "      <td>7.770395</td>\n",
       "    </tr>\n",
       "    <tr>\n",
       "      <th>min</th>\n",
       "      <td>1000.000000</td>\n",
       "      <td>-4.174000e+04</td>\n",
       "      <td>2013.000000</td>\n",
       "      <td>1.000000</td>\n",
       "      <td>1.000000</td>\n",
       "      <td>-116.184000</td>\n",
       "      <td>-679.620000</td>\n",
       "      <td>2.500032</td>\n",
       "    </tr>\n",
       "    <tr>\n",
       "      <th>25%</th>\n",
       "      <td>1000.000000</td>\n",
       "      <td>2.421450e+02</td>\n",
       "      <td>2013.000000</td>\n",
       "      <td>4.000000</td>\n",
       "      <td>14.000000</td>\n",
       "      <td>157.935508</td>\n",
       "      <td>620.657333</td>\n",
       "      <td>2.871492</td>\n",
       "    </tr>\n",
       "    <tr>\n",
       "      <th>50%</th>\n",
       "      <td>34500.000000</td>\n",
       "      <td>8.364600e+02</td>\n",
       "      <td>2014.000000</td>\n",
       "      <td>6.000000</td>\n",
       "      <td>26.000000</td>\n",
       "      <td>324.029366</td>\n",
       "      <td>1194.666667</td>\n",
       "      <td>3.496458</td>\n",
       "    </tr>\n",
       "    <tr>\n",
       "      <th>75%</th>\n",
       "      <td>76000.000000</td>\n",
       "      <td>2.187445e+03</td>\n",
       "      <td>2014.000000</td>\n",
       "      <td>9.000000</td>\n",
       "      <td>38.000000</td>\n",
       "      <td>496.919118</td>\n",
       "      <td>2168.911961</td>\n",
       "      <td>4.966575</td>\n",
       "    </tr>\n",
       "    <tr>\n",
       "      <th>max</th>\n",
       "      <td>98000.000000</td>\n",
       "      <td>1.903858e+06</td>\n",
       "      <td>2014.000000</td>\n",
       "      <td>12.000000</td>\n",
       "      <td>52.000000</td>\n",
       "      <td>28884.243846</td>\n",
       "      <td>609039.725000</td>\n",
       "      <td>455.946667</td>\n",
       "    </tr>\n",
       "  </tbody>\n",
       "</table>\n",
       "</div>"
      ],
      "text/plain": [
       "       Agency_Number        Amount          Year         Month   Week_Number  \\\n",
       "count   20863.000000  2.086300e+04  20863.000000  20863.000000  20863.000000   \n",
       "mean    37582.629536  2.739359e+03   2013.521402      6.332167     25.786416   \n",
       "std     34464.185062  2.293361e+04      0.499554      3.302402     14.293619   \n",
       "min      1000.000000 -4.174000e+04   2013.000000      1.000000      1.000000   \n",
       "25%      1000.000000  2.421450e+02   2013.000000      4.000000     14.000000   \n",
       "50%     34500.000000  8.364600e+02   2014.000000      6.000000     26.000000   \n",
       "75%     76000.000000  2.187445e+03   2014.000000      9.000000     38.000000   \n",
       "max     98000.000000  1.903858e+06   2014.000000     12.000000     52.000000   \n",
       "\n",
       "         AVG_amount  AVG_amount_cust  agency_merchant_cust_avg_ratio_amount  \n",
       "count  20863.000000     20863.000000                           20863.000000  \n",
       "mean     543.533010      2739.358510                               4.842382  \n",
       "std     1154.433113     12405.964809                               7.770395  \n",
       "min     -116.184000      -679.620000                               2.500032  \n",
       "25%      157.935508       620.657333                               2.871492  \n",
       "50%      324.029366      1194.666667                               3.496458  \n",
       "75%      496.919118      2168.911961                               4.966575  \n",
       "max    28884.243846    609039.725000                             455.946667  "
      ]
     },
     "execution_count": 166,
     "metadata": {},
     "output_type": "execute_result"
    }
   ],
   "source": [
    "df9[df9[var]>2.5].describe()"
   ]
  },
  {
   "cell_type": "markdown",
   "id": "186b3516",
   "metadata": {},
   "source": [
    "### My thought process:\n",
    "This time I chose to compare an individual's consumption to the overall transaction, and if a person's consumption of a product significantly exceeds its average, it should probably be treated as an anomaly.\n",
    "\n",
    "Based on the distribution of the frequency histogram, I chose a threshold of 2.5 and obtained 20,000 data."
   ]
  },
  {
   "cell_type": "markdown",
   "id": "dcb58cf7",
   "metadata": {},
   "source": [
    "## Feature 10: The ratio of median personal monthly spending on same merchant to the median spending on all same merchant transaction"
   ]
  },
  {
   "cell_type": "code",
   "execution_count": 167,
   "id": "f1bc1bdb",
   "metadata": {},
   "outputs": [],
   "source": [
    "# create median spending group by agency and merchant category \n",
    "stat_by_agency = df.groupby(['Agency_Name', 'Merchant_Category'])['Amount'].median()\n",
    "stat_by_agency = pd.DataFrame(stat_by_agency)\n",
    "stat_by_agency.columns = ['median_amount']"
   ]
  },
  {
   "cell_type": "code",
   "execution_count": 168,
   "id": "b166a9b6",
   "metadata": {},
   "outputs": [],
   "source": [
    "# create median spending group by cardholder, agency and merchant category \n",
    "stat_by_cust = df.groupby(['Cardholder_Last_Name', 'Cardholder_First_Initial','Agency_Name','Merchant_Category'])['Amount'].median()\n",
    "stat_by_cust = pd.DataFrame(stat_by_cust)\n",
    "stat_by_cust.columns = ['median_amount_cust']"
   ]
  },
  {
   "cell_type": "code",
   "execution_count": 169,
   "id": "7c786a5b",
   "metadata": {},
   "outputs": [],
   "source": [
    "# add the new feature average spending to the dataset \n",
    "df10 = pd.merge(df, stat_by_agency, how='left', on=['Agency_Name', 'Merchant_Category'])\n",
    "df10 = pd.merge(df10, stat_by_cust, how='left', on=['Cardholder_Last_Name', 'Cardholder_First_Initial','Agency_Name','Merchant_Category'])"
   ]
  },
  {
   "cell_type": "code",
   "execution_count": 172,
   "id": "08264ba2",
   "metadata": {},
   "outputs": [],
   "source": [
    "colRatioName = 'agency_merchant_cust_median_ratio_amount'\n",
    "df10[colRatioName] = np.where(df10['median_amount']==0,0, df10['median_amount_cust'] / df10['median_amount'])"
   ]
  },
  {
   "cell_type": "code",
   "execution_count": 173,
   "id": "5c6b7bbb",
   "metadata": {},
   "outputs": [],
   "source": [
    "var = colRatioName\n",
    "binned_var = var + '_D'\n",
    "percentile = [0,0.01,0.05,0.2,0.5,0.8,0.95,0.99,1]\n",
    "df10[binned_var] = pd.qcut(df10[var],percentile)"
   ]
  },
  {
   "cell_type": "code",
   "execution_count": 174,
   "id": "cb3c69c2",
   "metadata": {},
   "outputs": [
    {
     "data": {
      "text/plain": [
       "[Text(0, 0, '(-308.459, 0.0698]'),\n",
       " Text(1, 0, '(0.0698, 0.256]'),\n",
       " Text(2, 0, '(0.256, 0.629]'),\n",
       " Text(3, 0, '(0.629, 1.0]'),\n",
       " Text(4, 0, '(1.0, 1.716]'),\n",
       " Text(5, 0, '(1.716, 4.8]'),\n",
       " Text(6, 0, '(4.8, 15.195]'),\n",
       " Text(7, 0, '(15.195, 1527.881]')]"
      ]
     },
     "execution_count": 174,
     "metadata": {},
     "output_type": "execute_result"
    },
    {
     "data": {
      "image/png": "[encoded data removed]",
      "text/plain": [
       "<Figure size 432x288 with 1 Axes>"
      ]
     },
     "metadata": {},
     "output_type": "display_data"
    }
   ],
   "source": [
    "plt.figure(figsize=(6,4))\n",
    "g = sns.countplot(x=binned_var, data=df10)\n",
    "g.set_xticklabels(g.get_xticklabels(), rotation=90)"
   ]
  },
  {
   "cell_type": "code",
   "execution_count": 175,
   "id": "aa0d332f",
   "metadata": {},
   "outputs": [
    {
     "data": {
      "text/html": [
       "<div>\n",
       "<style scoped>\n",
       "    .dataframe tbody tr th:only-of-type {\n",
       "        vertical-align: middle;\n",
       "    }\n",
       "\n",
       "    .dataframe tbody tr th {\n",
       "        vertical-align: top;\n",
       "    }\n",
       "\n",
       "    .dataframe thead th {\n",
       "        text-align: right;\n",
       "    }\n",
       "</style>\n",
       "<table border=\"1\" class=\"dataframe\">\n",
       "  <thead>\n",
       "    <tr style=\"text-align: right;\">\n",
       "      <th></th>\n",
       "      <th>Agency_Number</th>\n",
       "      <th>Amount</th>\n",
       "      <th>Year</th>\n",
       "      <th>Month</th>\n",
       "      <th>Week_Number</th>\n",
       "      <th>median_amount</th>\n",
       "      <th>median_amount_cust</th>\n",
       "      <th>agency_merchant_cust_median_ratio_amount</th>\n",
       "    </tr>\n",
       "  </thead>\n",
       "  <tbody>\n",
       "    <tr>\n",
       "      <th>count</th>\n",
       "      <td>71338.000000</td>\n",
       "      <td>7.133800e+04</td>\n",
       "      <td>71338.000000</td>\n",
       "      <td>71338.000000</td>\n",
       "      <td>71338.000000</td>\n",
       "      <td>71338.000000</td>\n",
       "      <td>71338.000000</td>\n",
       "      <td>71338.000000</td>\n",
       "    </tr>\n",
       "    <tr>\n",
       "      <th>mean</th>\n",
       "      <td>36837.081219</td>\n",
       "      <td>1.215118e+03</td>\n",
       "      <td>2013.516106</td>\n",
       "      <td>6.365808</td>\n",
       "      <td>25.908492</td>\n",
       "      <td>159.476226</td>\n",
       "      <td>898.099257</td>\n",
       "      <td>6.412508</td>\n",
       "    </tr>\n",
       "    <tr>\n",
       "      <th>std</th>\n",
       "      <td>34373.375654</td>\n",
       "      <td>8.319309e+03</td>\n",
       "      <td>0.499744</td>\n",
       "      <td>3.313239</td>\n",
       "      <td>14.328230</td>\n",
       "      <td>330.935380</td>\n",
       "      <td>2668.251308</td>\n",
       "      <td>18.486968</td>\n",
       "    </tr>\n",
       "    <tr>\n",
       "      <th>min</th>\n",
       "      <td>1000.000000</td>\n",
       "      <td>-4.286304e+04</td>\n",
       "      <td>2013.000000</td>\n",
       "      <td>1.000000</td>\n",
       "      <td>1.000000</td>\n",
       "      <td>-97.360000</td>\n",
       "      <td>-370.800000</td>\n",
       "      <td>2.000250</td>\n",
       "    </tr>\n",
       "    <tr>\n",
       "      <th>25%</th>\n",
       "      <td>1000.000000</td>\n",
       "      <td>1.400000e+02</td>\n",
       "      <td>2013.000000</td>\n",
       "      <td>4.000000</td>\n",
       "      <td>14.000000</td>\n",
       "      <td>57.405000</td>\n",
       "      <td>209.990000</td>\n",
       "      <td>2.488217</td>\n",
       "    </tr>\n",
       "    <tr>\n",
       "      <th>50%</th>\n",
       "      <td>34500.000000</td>\n",
       "      <td>3.881950e+02</td>\n",
       "      <td>2014.000000</td>\n",
       "      <td>6.000000</td>\n",
       "      <td>26.000000</td>\n",
       "      <td>106.660000</td>\n",
       "      <td>427.035000</td>\n",
       "      <td>3.328019</td>\n",
       "    </tr>\n",
       "    <tr>\n",
       "      <th>75%</th>\n",
       "      <td>76000.000000</td>\n",
       "      <td>9.833200e+02</td>\n",
       "      <td>2014.000000</td>\n",
       "      <td>9.000000</td>\n",
       "      <td>38.000000</td>\n",
       "      <td>186.290000</td>\n",
       "      <td>839.160000</td>\n",
       "      <td>5.628604</td>\n",
       "    </tr>\n",
       "    <tr>\n",
       "      <th>max</th>\n",
       "      <td>98000.000000</td>\n",
       "      <td>1.089180e+06</td>\n",
       "      <td>2014.000000</td>\n",
       "      <td>12.000000</td>\n",
       "      <td>52.000000</td>\n",
       "      <td>16511.000000</td>\n",
       "      <td>187257.125000</td>\n",
       "      <td>1527.881242</td>\n",
       "    </tr>\n",
       "  </tbody>\n",
       "</table>\n",
       "</div>"
      ],
      "text/plain": [
       "       Agency_Number        Amount          Year         Month   Week_Number  \\\n",
       "count   71338.000000  7.133800e+04  71338.000000  71338.000000  71338.000000   \n",
       "mean    36837.081219  1.215118e+03   2013.516106      6.365808     25.908492   \n",
       "std     34373.375654  8.319309e+03      0.499744      3.313239     14.328230   \n",
       "min      1000.000000 -4.286304e+04   2013.000000      1.000000      1.000000   \n",
       "25%      1000.000000  1.400000e+02   2013.000000      4.000000     14.000000   \n",
       "50%     34500.000000  3.881950e+02   2014.000000      6.000000     26.000000   \n",
       "75%     76000.000000  9.833200e+02   2014.000000      9.000000     38.000000   \n",
       "max     98000.000000  1.089180e+06   2014.000000     12.000000     52.000000   \n",
       "\n",
       "       median_amount  median_amount_cust  \\\n",
       "count   71338.000000        71338.000000   \n",
       "mean      159.476226          898.099257   \n",
       "std       330.935380         2668.251308   \n",
       "min       -97.360000         -370.800000   \n",
       "25%        57.405000          209.990000   \n",
       "50%       106.660000          427.035000   \n",
       "75%       186.290000          839.160000   \n",
       "max     16511.000000       187257.125000   \n",
       "\n",
       "       agency_merchant_cust_median_ratio_amount  \n",
       "count                              71338.000000  \n",
       "mean                                   6.412508  \n",
       "std                                   18.486968  \n",
       "min                                    2.000250  \n",
       "25%                                    2.488217  \n",
       "50%                                    3.328019  \n",
       "75%                                    5.628604  \n",
       "max                                 1527.881242  "
      ]
     },
     "execution_count": 175,
     "metadata": {},
     "output_type": "execute_result"
    }
   ],
   "source": [
    "df10[df10[var]>2].describe()"
   ]
  },
  {
   "cell_type": "markdown",
   "id": "12506bcf",
   "metadata": {},
   "source": [
    "### My thought process:\n",
    "As with the previous feature idea, the comparison chosen this time is the median\n",
    "\n",
    "Based on the distribution of the frequency histogram, I chose a threshold of 2 and obtained 71,000 data."
   ]
  },
  {
   "cell_type": "markdown",
   "id": "cad2833d",
   "metadata": {},
   "source": [
    "## Feature 11: The ratio of individual monthly number of transactions to total annual transactions number"
   ]
  },
  {
   "cell_type": "code",
   "execution_count": 200,
   "id": "51a80ea5",
   "metadata": {},
   "outputs": [],
   "source": [
    "# create numer of transactions group by cardgolder,agency and category \n",
    "num_by_cust = df.groupby(['Cardholder_Last_Name','Cardholder_First_Initial','Agency_Name'])['Amount'].count() \n",
    "num_by_cust = pd.DataFrame(num_by_cust)\n",
    "num_by_cust.columns = ['cust_agency_count_total']"
   ]
  },
  {
   "cell_type": "code",
   "execution_count": 201,
   "id": "36469985",
   "metadata": {},
   "outputs": [],
   "source": [
    "# create numer of transactions group by cardgolder,agency and month\n",
    "num_by_month = df.groupby(['Cardholder_Last_Name','Cardholder_First_Initial','Agency_Name','Month'])['Amount'].count() \n",
    "num_by_month = pd.DataFrame(num_by_month)\n",
    "num_by_month.columns = ['cust_agency_count_monthly']"
   ]
  },
  {
   "cell_type": "code",
   "execution_count": 202,
   "id": "9eb293af",
   "metadata": {},
   "outputs": [],
   "source": [
    "df11 = pd.merge(df, num_by_cust, how='left', on=['Cardholder_Last_Name','Cardholder_First_Initial','Agency_Name'])\n",
    "df11 = pd.merge(df11,num_by_month,how='left', on=['Cardholder_Last_Name','Cardholder_First_Initial','Agency_Name','Month'])"
   ]
  },
  {
   "cell_type": "code",
   "execution_count": 203,
   "id": "fc432c47",
   "metadata": {},
   "outputs": [],
   "source": [
    "\n",
    "colRatioName = 'agency_cust_monthly_ratio'\n",
    "df11[colRatioName] = np.where(df11['cust_agency_count_monthly']==0,0, (df11['cust_agency_count_monthly']*12 /df11['cust_agency_count_total']) )\n",
    "\n",
    "\n",
    "\n"
   ]
  },
  {
   "cell_type": "code",
   "execution_count": 204,
   "id": "dcd6d0f2",
   "metadata": {},
   "outputs": [],
   "source": [
    "var = colRatioName\n",
    "binned_var = var + '_D'\n",
    "percentile = [0,0.01,0.05,0.2,0.5,0.8,0.95,0.99,1]\n",
    "df11[binned_var] = pd.qcut(df11[var],percentile)"
   ]
  },
  {
   "cell_type": "code",
   "execution_count": 205,
   "id": "4313f211",
   "metadata": {},
   "outputs": [
    {
     "data": {
      "text/plain": [
       "[Text(0, 0, '(0.0213, 0.33]'),\n",
       " Text(1, 0, '(0.33, 0.58]'),\n",
       " Text(2, 0, '(0.58, 0.865]'),\n",
       " Text(3, 0, '(0.865, 1.191]'),\n",
       " Text(4, 0, '(1.191, 1.89]'),\n",
       " Text(5, 0, '(1.89, 3.649]'),\n",
       " Text(6, 0, '(3.649, 7.102]'),\n",
       " Text(7, 0, '(7.102, 12.0]')]"
      ]
     },
     "execution_count": 205,
     "metadata": {},
     "output_type": "execute_result"
    },
    {
     "data": {
      "image/png": "[encoded data removed]",
      "text/plain": [
       "<Figure size 432x288 with 1 Axes>"
      ]
     },
     "metadata": {},
     "output_type": "display_data"
    }
   ],
   "source": [
    "plt.figure(figsize=(6,4))\n",
    "g = sns.countplot(x=binned_var, data=df11)\n",
    "g.set_xticklabels(g.get_xticklabels(), rotation=90)"
   ]
  },
  {
   "cell_type": "code",
   "execution_count": 206,
   "id": "43cac6e9",
   "metadata": {},
   "outputs": [
    {
     "data": {
      "text/html": [
       "<div>\n",
       "<style scoped>\n",
       "    .dataframe tbody tr th:only-of-type {\n",
       "        vertical-align: middle;\n",
       "    }\n",
       "\n",
       "    .dataframe tbody tr th {\n",
       "        vertical-align: top;\n",
       "    }\n",
       "\n",
       "    .dataframe thead th {\n",
       "        text-align: right;\n",
       "    }\n",
       "</style>\n",
       "<table border=\"1\" class=\"dataframe\">\n",
       "  <thead>\n",
       "    <tr style=\"text-align: right;\">\n",
       "      <th></th>\n",
       "      <th>Agency_Number</th>\n",
       "      <th>Amount</th>\n",
       "      <th>Year</th>\n",
       "      <th>Month</th>\n",
       "      <th>Week_Number</th>\n",
       "      <th>cust_agency_count_total</th>\n",
       "      <th>cust_agency_count_monthly</th>\n",
       "      <th>agency_cust_monthly_ratio</th>\n",
       "    </tr>\n",
       "  </thead>\n",
       "  <tbody>\n",
       "    <tr>\n",
       "      <th>count</th>\n",
       "      <td>22851.000000</td>\n",
       "      <td>22851.000000</td>\n",
       "      <td>22851.000000</td>\n",
       "      <td>22851.000000</td>\n",
       "      <td>22851.000000</td>\n",
       "      <td>22851.000000</td>\n",
       "      <td>22851.000000</td>\n",
       "      <td>22851.000000</td>\n",
       "    </tr>\n",
       "    <tr>\n",
       "      <th>mean</th>\n",
       "      <td>31732.213032</td>\n",
       "      <td>304.286358</td>\n",
       "      <td>2013.519540</td>\n",
       "      <td>6.408691</td>\n",
       "      <td>26.034265</td>\n",
       "      <td>68.444051</td>\n",
       "      <td>28.819351</td>\n",
       "      <td>5.785167</td>\n",
       "    </tr>\n",
       "    <tr>\n",
       "      <th>std</th>\n",
       "      <td>31272.144454</td>\n",
       "      <td>2481.199142</td>\n",
       "      <td>0.499629</td>\n",
       "      <td>2.640786</td>\n",
       "      <td>11.462736</td>\n",
       "      <td>96.870341</td>\n",
       "      <td>40.576216</td>\n",
       "      <td>2.315437</td>\n",
       "    </tr>\n",
       "    <tr>\n",
       "      <th>min</th>\n",
       "      <td>1000.000000</td>\n",
       "      <td>-41740.000000</td>\n",
       "      <td>2013.000000</td>\n",
       "      <td>1.000000</td>\n",
       "      <td>1.000000</td>\n",
       "      <td>1.000000</td>\n",
       "      <td>1.000000</td>\n",
       "      <td>3.613636</td>\n",
       "    </tr>\n",
       "    <tr>\n",
       "      <th>25%</th>\n",
       "      <td>1000.000000</td>\n",
       "      <td>28.000000</td>\n",
       "      <td>2013.000000</td>\n",
       "      <td>5.000000</td>\n",
       "      <td>18.000000</td>\n",
       "      <td>15.000000</td>\n",
       "      <td>7.000000</td>\n",
       "      <td>4.090909</td>\n",
       "    </tr>\n",
       "    <tr>\n",
       "      <th>50%</th>\n",
       "      <td>24000.000000</td>\n",
       "      <td>92.290000</td>\n",
       "      <td>2014.000000</td>\n",
       "      <td>6.000000</td>\n",
       "      <td>26.000000</td>\n",
       "      <td>34.000000</td>\n",
       "      <td>16.000000</td>\n",
       "      <td>4.941176</td>\n",
       "    </tr>\n",
       "    <tr>\n",
       "      <th>75%</th>\n",
       "      <td>65000.000000</td>\n",
       "      <td>273.950000</td>\n",
       "      <td>2014.000000</td>\n",
       "      <td>8.000000</td>\n",
       "      <td>34.000000</td>\n",
       "      <td>79.000000</td>\n",
       "      <td>33.000000</td>\n",
       "      <td>6.405797</td>\n",
       "    </tr>\n",
       "    <tr>\n",
       "      <th>max</th>\n",
       "      <td>98000.000000</td>\n",
       "      <td>343148.500000</td>\n",
       "      <td>2014.000000</td>\n",
       "      <td>12.000000</td>\n",
       "      <td>52.000000</td>\n",
       "      <td>553.000000</td>\n",
       "      <td>251.000000</td>\n",
       "      <td>12.000000</td>\n",
       "    </tr>\n",
       "  </tbody>\n",
       "</table>\n",
       "</div>"
      ],
      "text/plain": [
       "       Agency_Number         Amount          Year         Month   Week_Number  \\\n",
       "count   22851.000000   22851.000000  22851.000000  22851.000000  22851.000000   \n",
       "mean    31732.213032     304.286358   2013.519540      6.408691     26.034265   \n",
       "std     31272.144454    2481.199142      0.499629      2.640786     11.462736   \n",
       "min      1000.000000  -41740.000000   2013.000000      1.000000      1.000000   \n",
       "25%      1000.000000      28.000000   2013.000000      5.000000     18.000000   \n",
       "50%     24000.000000      92.290000   2014.000000      6.000000     26.000000   \n",
       "75%     65000.000000     273.950000   2014.000000      8.000000     34.000000   \n",
       "max     98000.000000  343148.500000   2014.000000     12.000000     52.000000   \n",
       "\n",
       "       cust_agency_count_total  cust_agency_count_monthly  \\\n",
       "count             22851.000000               22851.000000   \n",
       "mean                 68.444051                  28.819351   \n",
       "std                  96.870341                  40.576216   \n",
       "min                   1.000000                   1.000000   \n",
       "25%                  15.000000                   7.000000   \n",
       "50%                  34.000000                  16.000000   \n",
       "75%                  79.000000                  33.000000   \n",
       "max                 553.000000                 251.000000   \n",
       "\n",
       "       agency_cust_monthly_ratio  \n",
       "count               22851.000000  \n",
       "mean                    5.785167  \n",
       "std                     2.315437  \n",
       "min                     3.613636  \n",
       "25%                     4.090909  \n",
       "50%                     4.941176  \n",
       "75%                     6.405797  \n",
       "max                    12.000000  "
      ]
     },
     "execution_count": 206,
     "metadata": {},
     "output_type": "execute_result"
    }
   ],
   "source": [
    "df11[df11[var]>3.6].describe()"
   ]
  },
  {
   "cell_type": "markdown",
   "id": "866c8a7e",
   "metadata": {},
   "source": [
    "### My thought process:\n",
    "In addition to the amount spent, I would like to determine the exception by checking the number of purchases.\n",
    "\n",
    "In feature 11, I only chose agency name because I wanted to compare the number of times the cardholder used the card each month with the total number of times the card was used in a year，and the total number of times divided by 12 is the average number of times the card is used each month. \n",
    "\n",
    "From the frequency histogram, I chose a threshold of 3.6 to get about 22,000 data\n",
    "\n",
    "However, I then thought that the limitation of this feature is that it is more applicable to those who use credit cards regularly and can be easily mistaken for anomalies for irregular users."
   ]
  },
  {
   "cell_type": "markdown",
   "id": "73d798f3",
   "metadata": {},
   "source": [
    "## Feature 12: The ratio of individual monthly purchases of the same merchant to the total number of purchases for the year"
   ]
  },
  {
   "cell_type": "code",
   "execution_count": 207,
   "id": "09cc5f92",
   "metadata": {},
   "outputs": [],
   "source": [
    "# create numer of transactions group by cardgolder,agency and merchant category \n",
    "num_by_cust = df.groupby(['Cardholder_Last_Name','Cardholder_First_Initial','Agency_Name','Merchant_Category'])['Amount'].count() \n",
    "num_by_cust = pd.DataFrame(num_by_cust)\n",
    "num_by_cust.columns = ['cust_agency_merchant_count_total']"
   ]
  },
  {
   "cell_type": "code",
   "execution_count": 208,
   "id": "7c3e3545",
   "metadata": {},
   "outputs": [],
   "source": [
    "# create numer of transactions group by cardgolder,agency, merchant category and month\n",
    "num_by_month = df.groupby(['Cardholder_Last_Name','Cardholder_First_Initial','Agency_Name','Merchant_Category','Month'])['Amount'].count() \n",
    "num_by_month = pd.DataFrame(num_by_month)\n",
    "num_by_month.columns = ['cust_agency_merchant_count_monthly']"
   ]
  },
  {
   "cell_type": "code",
   "execution_count": 209,
   "id": "58e3c6ef",
   "metadata": {},
   "outputs": [],
   "source": [
    "df12 = pd.merge(df, num_by_cust, how='left', on=['Cardholder_Last_Name','Cardholder_First_Initial','Agency_Name','Merchant_Category'])\n",
    "df12 = pd.merge(df12,num_by_month,how='left', on=['Cardholder_Last_Name','Cardholder_First_Initial','Agency_Name','Merchant_Category','Month'])"
   ]
  },
  {
   "cell_type": "code",
   "execution_count": 215,
   "id": "6c4cd87c",
   "metadata": {},
   "outputs": [],
   "source": [
    "colRatioName = 'agency_merchant_cust_monthly_ratio'\n",
    "df12[colRatioName] = np.where(df12['cust_agency_merchant_count_monthly']==0,0, df12['cust_agency_merchant_count_monthly']/(df12['cust_agency_merchant_count_total']/12))"
   ]
  },
  {
   "cell_type": "code",
   "execution_count": 216,
   "id": "5dfe855d",
   "metadata": {},
   "outputs": [],
   "source": [
    "var = colRatioName\n",
    "binned_var = var + '_D'\n",
    "percentile = [0,0.01,0.05,0.2,0.5,0.8,0.95,0.99,1]\n",
    "df12[binned_var] = pd.qcut(df12[var],percentile,duplicates = 'drop')"
   ]
  },
  {
   "cell_type": "code",
   "execution_count": 217,
   "id": "d62efe19",
   "metadata": {},
   "outputs": [
    {
     "data": {
      "text/plain": [
       "[Text(0, 0, '(0.011, 0.4]'),\n",
       " Text(1, 0, '(0.4, 0.676]'),\n",
       " Text(2, 0, '(0.676, 1.043]'),\n",
       " Text(3, 0, '(1.043, 2.0]'),\n",
       " Text(4, 0, '(2.0, 6.0]'),\n",
       " Text(5, 0, '(6.0, 12.0]')]"
      ]
     },
     "execution_count": 217,
     "metadata": {},
     "output_type": "execute_result"
    },
    {
     "data": {
      "image/png": "[encoded data removed]",
      "text/plain": [
       "<Figure size 432x288 with 1 Axes>"
      ]
     },
     "metadata": {},
     "output_type": "display_data"
    }
   ],
   "source": [
    "plt.figure(figsize=(6,4))\n",
    "g = sns.countplot(x=binned_var, data=df12)\n",
    "g.set_xticklabels(g.get_xticklabels(), rotation=90)"
   ]
  },
  {
   "cell_type": "code",
   "execution_count": 218,
   "id": "f220e161",
   "metadata": {},
   "outputs": [
    {
     "data": {
      "text/html": [
       "<div>\n",
       "<style scoped>\n",
       "    .dataframe tbody tr th:only-of-type {\n",
       "        vertical-align: middle;\n",
       "    }\n",
       "\n",
       "    .dataframe tbody tr th {\n",
       "        vertical-align: top;\n",
       "    }\n",
       "\n",
       "    .dataframe thead th {\n",
       "        text-align: right;\n",
       "    }\n",
       "</style>\n",
       "<table border=\"1\" class=\"dataframe\">\n",
       "  <thead>\n",
       "    <tr style=\"text-align: right;\">\n",
       "      <th></th>\n",
       "      <th>Agency_Number</th>\n",
       "      <th>Amount</th>\n",
       "      <th>Year</th>\n",
       "      <th>Month</th>\n",
       "      <th>Week_Number</th>\n",
       "      <th>cust_agency_merchant_count_total</th>\n",
       "      <th>cust_agency_merchant_count_monthly</th>\n",
       "      <th>agency_merchant_cust_monthly_ratio</th>\n",
       "    </tr>\n",
       "  </thead>\n",
       "  <tbody>\n",
       "    <tr>\n",
       "      <th>count</th>\n",
       "      <td>70052.000000</td>\n",
       "      <td>70052.000000</td>\n",
       "      <td>70052.000000</td>\n",
       "      <td>70052.000000</td>\n",
       "      <td>70052.000000</td>\n",
       "      <td>70052.000000</td>\n",
       "      <td>70052.000000</td>\n",
       "      <td>70052.000000</td>\n",
       "    </tr>\n",
       "    <tr>\n",
       "      <th>mean</th>\n",
       "      <td>34715.966710</td>\n",
       "      <td>419.835383</td>\n",
       "      <td>2013.518529</td>\n",
       "      <td>6.361845</td>\n",
       "      <td>25.834880</td>\n",
       "      <td>5.798236</td>\n",
       "      <td>4.383087</td>\n",
       "      <td>10.757037</td>\n",
       "    </tr>\n",
       "    <tr>\n",
       "      <th>std</th>\n",
       "      <td>32073.083912</td>\n",
       "      <td>2102.428881</td>\n",
       "      <td>0.499660</td>\n",
       "      <td>3.134756</td>\n",
       "      <td>13.544116</td>\n",
       "      <td>12.130861</td>\n",
       "      <td>8.083405</td>\n",
       "      <td>1.915598</td>\n",
       "    </tr>\n",
       "    <tr>\n",
       "      <th>min</th>\n",
       "      <td>1000.000000</td>\n",
       "      <td>-42863.040000</td>\n",
       "      <td>2013.000000</td>\n",
       "      <td>1.000000</td>\n",
       "      <td>1.000000</td>\n",
       "      <td>1.000000</td>\n",
       "      <td>1.000000</td>\n",
       "      <td>6.098361</td>\n",
       "    </tr>\n",
       "    <tr>\n",
       "      <th>25%</th>\n",
       "      <td>1000.000000</td>\n",
       "      <td>42.157500</td>\n",
       "      <td>2013.000000</td>\n",
       "      <td>4.000000</td>\n",
       "      <td>15.000000</td>\n",
       "      <td>1.000000</td>\n",
       "      <td>1.000000</td>\n",
       "      <td>9.000000</td>\n",
       "    </tr>\n",
       "    <tr>\n",
       "      <th>50%</th>\n",
       "      <td>32000.000000</td>\n",
       "      <td>128.935000</td>\n",
       "      <td>2014.000000</td>\n",
       "      <td>6.000000</td>\n",
       "      <td>26.000000</td>\n",
       "      <td>2.000000</td>\n",
       "      <td>2.000000</td>\n",
       "      <td>12.000000</td>\n",
       "    </tr>\n",
       "    <tr>\n",
       "      <th>75%</th>\n",
       "      <td>75000.000000</td>\n",
       "      <td>380.000000</td>\n",
       "      <td>2014.000000</td>\n",
       "      <td>9.000000</td>\n",
       "      <td>37.000000</td>\n",
       "      <td>5.000000</td>\n",
       "      <td>4.000000</td>\n",
       "      <td>12.000000</td>\n",
       "    </tr>\n",
       "    <tr>\n",
       "      <th>max</th>\n",
       "      <td>98000.000000</td>\n",
       "      <td>343148.500000</td>\n",
       "      <td>2014.000000</td>\n",
       "      <td>12.000000</td>\n",
       "      <td>52.000000</td>\n",
       "      <td>161.000000</td>\n",
       "      <td>91.000000</td>\n",
       "      <td>12.000000</td>\n",
       "    </tr>\n",
       "  </tbody>\n",
       "</table>\n",
       "</div>"
      ],
      "text/plain": [
       "       Agency_Number         Amount          Year         Month   Week_Number  \\\n",
       "count   70052.000000   70052.000000  70052.000000  70052.000000  70052.000000   \n",
       "mean    34715.966710     419.835383   2013.518529      6.361845     25.834880   \n",
       "std     32073.083912    2102.428881      0.499660      3.134756     13.544116   \n",
       "min      1000.000000  -42863.040000   2013.000000      1.000000      1.000000   \n",
       "25%      1000.000000      42.157500   2013.000000      4.000000     15.000000   \n",
       "50%     32000.000000     128.935000   2014.000000      6.000000     26.000000   \n",
       "75%     75000.000000     380.000000   2014.000000      9.000000     37.000000   \n",
       "max     98000.000000  343148.500000   2014.000000     12.000000     52.000000   \n",
       "\n",
       "       cust_agency_merchant_count_total  cust_agency_merchant_count_monthly  \\\n",
       "count                      70052.000000                        70052.000000   \n",
       "mean                           5.798236                            4.383087   \n",
       "std                           12.130861                            8.083405   \n",
       "min                            1.000000                            1.000000   \n",
       "25%                            1.000000                            1.000000   \n",
       "50%                            2.000000                            2.000000   \n",
       "75%                            5.000000                            4.000000   \n",
       "max                          161.000000                           91.000000   \n",
       "\n",
       "       agency_merchant_cust_monthly_ratio  \n",
       "count                        70052.000000  \n",
       "mean                            10.757037  \n",
       "std                              1.915598  \n",
       "min                              6.098361  \n",
       "25%                              9.000000  \n",
       "50%                             12.000000  \n",
       "75%                             12.000000  \n",
       "max                             12.000000  "
      ]
     },
     "execution_count": 218,
     "metadata": {},
     "output_type": "execute_result"
    }
   ],
   "source": [
    "df12[df12[var]>6].describe()"
   ]
  },
  {
   "cell_type": "markdown",
   "id": "442e79fe",
   "metadata": {},
   "source": [
    "### My thought process:\n",
    "Similar to Feature 11, this time I added product categories with the aim of seeing how often the same products are purchased compared to.\n",
    "\n",
    "This time the histogram became left-skewed and the ratio changed abnormally at a frequency of 95%, so I chose a threshold of 1.5 and got about 70,000 data.\n",
    "\n",
    "The limitation of this feature is that some special items are not purchased repeatedly and may only need to be purchased once for multiple uses, so it is not meaningful to consider the number of monthly purchases and the total number of purchases for such items."
   ]
  },
  {
   "cell_type": "markdown",
   "id": "ade11a1e",
   "metadata": {},
   "source": [
    "## Feature 13: The ratio of average personal monthly spending on same merchant to the average spending on all same merchant transaction over month"
   ]
  },
  {
   "cell_type": "code",
   "execution_count": 176,
   "id": "ea73d9d8",
   "metadata": {},
   "outputs": [],
   "source": [
    "# create average spending group by agency and merchant category and month\n",
    "stat_by_agency = df.groupby(['Agency_Name', 'Merchant_Category','Month'])['Amount'].mean()\n",
    "stat_by_agency = pd.DataFrame(stat_by_agency)\n",
    "stat_by_agency.columns = ['AVG_month_amount']"
   ]
  },
  {
   "cell_type": "code",
   "execution_count": 177,
   "id": "6034b852",
   "metadata": {},
   "outputs": [],
   "source": [
    "# create average spending group by cardholder,agency, merchant category and month\n",
    "stat_by_cust = df.groupby(['Cardholder_Last_Name', 'Cardholder_First_Initial','Agency_Name','Merchant_Category','Month'])['Amount'].mean()\n",
    "stat_by_cust = pd.DataFrame(stat_by_cust)\n",
    "stat_by_cust.columns = ['AVG_month_amount_cust']"
   ]
  },
  {
   "cell_type": "code",
   "execution_count": 178,
   "id": "ca26d2be",
   "metadata": {},
   "outputs": [],
   "source": [
    "# add the new feature average spending to the dataset \n",
    "df13 = pd.merge(df, stat_by_agency, how='left', on=['Agency_Name', 'Merchant_Category','Month'])\n",
    "df13 = pd.merge(df13, stat_by_cust, how='left', on=['Cardholder_Last_Name', 'Cardholder_First_Initial','Agency_Name','Merchant_Category','Month'])"
   ]
  },
  {
   "cell_type": "code",
   "execution_count": 179,
   "id": "ce7c7aaf",
   "metadata": {},
   "outputs": [],
   "source": [
    "colRatioName = 'agency_merchant_month_cust_avg_ratio_amount'\n",
    "df13[colRatioName] = np.where(df13['AVG_month_amount']==0,0, df13['AVG_month_amount_cust'] / df13['AVG_month_amount'])"
   ]
  },
  {
   "cell_type": "code",
   "execution_count": 180,
   "id": "81fb52cf",
   "metadata": {},
   "outputs": [],
   "source": [
    "var = colRatioName\n",
    "binned_var = var + '_D'\n",
    "percentile = [0,0.01,0.05,0.2,0.5,0.8,0.95,0.99,1]\n",
    "df13[binned_var] = pd.qcut(df13[var],percentile)"
   ]
  },
  {
   "cell_type": "code",
   "execution_count": 181,
   "id": "ec762dc4",
   "metadata": {},
   "outputs": [
    {
     "data": {
      "text/plain": [
       "[Text(0, 0, '(-131.879, 0.0]'),\n",
       " Text(1, 0, '(0.0, 0.0785]'),\n",
       " Text(2, 0, '(0.0785, 0.299]'),\n",
       " Text(3, 0, '(0.299, 0.865]'),\n",
       " Text(4, 0, '(0.865, 1.227]'),\n",
       " Text(5, 0, '(1.227, 2.663]'),\n",
       " Text(6, 0, '(2.663, 5.93]'),\n",
       " Text(7, 0, '(5.93, 97.934]')]"
      ]
     },
     "execution_count": 181,
     "metadata": {},
     "output_type": "execute_result"
    },
    {
     "data": {
      "image/png": "[encoded data removed]",
      "text/plain": [
       "<Figure size 432x288 with 1 Axes>"
      ]
     },
     "metadata": {},
     "output_type": "display_data"
    }
   ],
   "source": [
    "plt.figure(figsize=(6,4))\n",
    "g = sns.countplot(x=binned_var, data=df13)\n",
    "g.set_xticklabels(g.get_xticklabels(), rotation=90)"
   ]
  },
  {
   "cell_type": "code",
   "execution_count": 185,
   "id": "75daa0d3",
   "metadata": {},
   "outputs": [
    {
     "data": {
      "text/html": [
       "<div>\n",
       "<style scoped>\n",
       "    .dataframe tbody tr th:only-of-type {\n",
       "        vertical-align: middle;\n",
       "    }\n",
       "\n",
       "    .dataframe tbody tr th {\n",
       "        vertical-align: top;\n",
       "    }\n",
       "\n",
       "    .dataframe thead th {\n",
       "        text-align: right;\n",
       "    }\n",
       "</style>\n",
       "<table border=\"1\" class=\"dataframe\">\n",
       "  <thead>\n",
       "    <tr style=\"text-align: right;\">\n",
       "      <th></th>\n",
       "      <th>Agency_Number</th>\n",
       "      <th>Amount</th>\n",
       "      <th>Year</th>\n",
       "      <th>Month</th>\n",
       "      <th>Week_Number</th>\n",
       "      <th>AVG_month_amount</th>\n",
       "      <th>AVG_month_amount_cust</th>\n",
       "      <th>agency_merchant_month_cust_avg_ratio_amount</th>\n",
       "    </tr>\n",
       "  </thead>\n",
       "  <tbody>\n",
       "    <tr>\n",
       "      <th>count</th>\n",
       "      <td>21662.000000</td>\n",
       "      <td>2.166200e+04</td>\n",
       "      <td>21662.000000</td>\n",
       "      <td>21662.000000</td>\n",
       "      <td>21662.000000</td>\n",
       "      <td>21662.000000</td>\n",
       "      <td>2.166200e+04</td>\n",
       "      <td>21662.000000</td>\n",
       "    </tr>\n",
       "    <tr>\n",
       "      <th>mean</th>\n",
       "      <td>38159.454344</td>\n",
       "      <td>2.674905e+03</td>\n",
       "      <td>2013.512233</td>\n",
       "      <td>6.383159</td>\n",
       "      <td>26.012834</td>\n",
       "      <td>508.622288</td>\n",
       "      <td>2.674905e+03</td>\n",
       "      <td>5.051703</td>\n",
       "    </tr>\n",
       "    <tr>\n",
       "      <th>std</th>\n",
       "      <td>34826.447850</td>\n",
       "      <td>2.232524e+04</td>\n",
       "      <td>0.499862</td>\n",
       "      <td>3.333292</td>\n",
       "      <td>14.415777</td>\n",
       "      <td>1906.221102</td>\n",
       "      <td>2.005860e+04</td>\n",
       "      <td>4.217522</td>\n",
       "    </tr>\n",
       "    <tr>\n",
       "      <th>min</th>\n",
       "      <td>1000.000000</td>\n",
       "      <td>-3.410800e+04</td>\n",
       "      <td>2013.000000</td>\n",
       "      <td>1.000000</td>\n",
       "      <td>1.000000</td>\n",
       "      <td>-1174.825000</td>\n",
       "      <td>-4.987040e+03</td>\n",
       "      <td>2.700186</td>\n",
       "    </tr>\n",
       "    <tr>\n",
       "      <th>25%</th>\n",
       "      <td>1000.000000</td>\n",
       "      <td>3.421225e+02</td>\n",
       "      <td>2013.000000</td>\n",
       "      <td>4.000000</td>\n",
       "      <td>14.000000</td>\n",
       "      <td>135.672545</td>\n",
       "      <td>5.719400e+02</td>\n",
       "      <td>3.127318</td>\n",
       "    </tr>\n",
       "    <tr>\n",
       "      <th>50%</th>\n",
       "      <td>34500.000000</td>\n",
       "      <td>1.005420e+03</td>\n",
       "      <td>2014.000000</td>\n",
       "      <td>6.000000</td>\n",
       "      <td>26.000000</td>\n",
       "      <td>288.591358</td>\n",
       "      <td>1.187310e+03</td>\n",
       "      <td>3.848544</td>\n",
       "    </tr>\n",
       "    <tr>\n",
       "      <th>75%</th>\n",
       "      <td>76000.000000</td>\n",
       "      <td>2.292000e+03</td>\n",
       "      <td>2014.000000</td>\n",
       "      <td>9.000000</td>\n",
       "      <td>38.000000</td>\n",
       "      <td>474.508278</td>\n",
       "      <td>2.222000e+03</td>\n",
       "      <td>5.406691</td>\n",
       "    </tr>\n",
       "    <tr>\n",
       "      <th>max</th>\n",
       "      <td>98000.000000</td>\n",
       "      <td>1.903858e+06</td>\n",
       "      <td>2014.000000</td>\n",
       "      <td>12.000000</td>\n",
       "      <td>52.000000</td>\n",
       "      <td>109408.980625</td>\n",
       "      <td>1.903858e+06</td>\n",
       "      <td>97.933671</td>\n",
       "    </tr>\n",
       "  </tbody>\n",
       "</table>\n",
       "</div>"
      ],
      "text/plain": [
       "       Agency_Number        Amount          Year         Month   Week_Number  \\\n",
       "count   21662.000000  2.166200e+04  21662.000000  21662.000000  21662.000000   \n",
       "mean    38159.454344  2.674905e+03   2013.512233      6.383159     26.012834   \n",
       "std     34826.447850  2.232524e+04      0.499862      3.333292     14.415777   \n",
       "min      1000.000000 -3.410800e+04   2013.000000      1.000000      1.000000   \n",
       "25%      1000.000000  3.421225e+02   2013.000000      4.000000     14.000000   \n",
       "50%     34500.000000  1.005420e+03   2014.000000      6.000000     26.000000   \n",
       "75%     76000.000000  2.292000e+03   2014.000000      9.000000     38.000000   \n",
       "max     98000.000000  1.903858e+06   2014.000000     12.000000     52.000000   \n",
       "\n",
       "       AVG_month_amount  AVG_month_amount_cust  \\\n",
       "count      21662.000000           2.166200e+04   \n",
       "mean         508.622288           2.674905e+03   \n",
       "std         1906.221102           2.005860e+04   \n",
       "min        -1174.825000          -4.987040e+03   \n",
       "25%          135.672545           5.719400e+02   \n",
       "50%          288.591358           1.187310e+03   \n",
       "75%          474.508278           2.222000e+03   \n",
       "max       109408.980625           1.903858e+06   \n",
       "\n",
       "       agency_merchant_month_cust_avg_ratio_amount  \n",
       "count                                 21662.000000  \n",
       "mean                                      5.051703  \n",
       "std                                       4.217522  \n",
       "min                                       2.700186  \n",
       "25%                                       3.127318  \n",
       "50%                                       3.848544  \n",
       "75%                                       5.406691  \n",
       "max                                      97.933671  "
      ]
     },
     "execution_count": 185,
     "metadata": {},
     "output_type": "execute_result"
    }
   ],
   "source": [
    "df13[df13[var]>2.7].describe()"
   ]
  },
  {
   "cell_type": "markdown",
   "id": "3e5e85cb",
   "metadata": {},
   "source": [
    "### My thought process:\n",
    "This feature takes the number of months into account on the basis of feature 9.\n",
    "\n",
    "From the histogram, I chose a threshold of 2.7 and got about 210,000 data, the anomaly is increased compared to the base feature."
   ]
  },
  {
   "cell_type": "markdown",
   "id": "f6614c19",
   "metadata": {},
   "source": [
    "## Feature 14: The ratio of median personal monthly spending on same merchant to the median spending on all same merchant transaction over month"
   ]
  },
  {
   "cell_type": "code",
   "execution_count": 186,
   "id": "ca6ed545",
   "metadata": {},
   "outputs": [],
   "source": [
    "# create median spending group by agency and merchant category and month\n",
    "stat_by_agency = df.groupby(['Agency_Name', 'Merchant_Category','Month'])['Amount'].median()\n",
    "stat_by_agency = pd.DataFrame(stat_by_agency)\n",
    "stat_by_agency.columns = ['median_month_amount']"
   ]
  },
  {
   "cell_type": "code",
   "execution_count": 187,
   "id": "4cf114a5",
   "metadata": {},
   "outputs": [],
   "source": [
    "# create median spending group by cardholder,agency, merchant category and month\n",
    "stat_by_cust = df.groupby(['Cardholder_Last_Name', 'Cardholder_First_Initial','Agency_Name','Merchant_Category','Month'])['Amount'].median()\n",
    "stat_by_cust = pd.DataFrame(stat_by_cust)\n",
    "stat_by_cust.columns = ['median_month_amount_cust']"
   ]
  },
  {
   "cell_type": "code",
   "execution_count": 188,
   "id": "e51ada11",
   "metadata": {},
   "outputs": [],
   "source": [
    "# add the new feature median spending to the dataset \n",
    "df14 = pd.merge(df, stat_by_agency, how='left', on=['Agency_Name', 'Merchant_Category','Month'])\n",
    "df14 = pd.merge(df14, stat_by_cust, how='left', on=['Cardholder_Last_Name', 'Cardholder_First_Initial','Agency_Name','Merchant_Category','Month'])"
   ]
  },
  {
   "cell_type": "code",
   "execution_count": 189,
   "id": "a0d72a08",
   "metadata": {},
   "outputs": [],
   "source": [
    "colRatioName = 'agency_merchant_month_cust_median_ratio_amount'\n",
    "df14[colRatioName] = np.where(df14['median_month_amount']==0,0, df14['median_month_amount_cust'] / df14['median_month_amount'])"
   ]
  },
  {
   "cell_type": "code",
   "execution_count": 190,
   "id": "32d1ebd0",
   "metadata": {},
   "outputs": [],
   "source": [
    "var = colRatioName\n",
    "binned_var = var + '_D'\n",
    "percentile = [0,0.01,0.05,0.2,0.5,0.8,0.95,0.99,1]\n",
    "df14[binned_var] = pd.qcut(df14[var],percentile)"
   ]
  },
  {
   "cell_type": "code",
   "execution_count": 191,
   "id": "9364945d",
   "metadata": {},
   "outputs": [
    {
     "data": {
      "text/plain": [
       "[Text(0, 0, '(-29642.001, 0.0]'),\n",
       " Text(1, 0, '(0.0, 0.192]'),\n",
       " Text(2, 0, '(0.192, 0.585]'),\n",
       " Text(3, 0, '(0.585, 1.0]'),\n",
       " Text(4, 0, '(1.0, 1.86]'),\n",
       " Text(5, 0, '(1.86, 6.007]'),\n",
       " Text(6, 0, '(6.007, 19.526]'),\n",
       " Text(7, 0, '(19.526, 598420.506]')]"
      ]
     },
     "execution_count": 191,
     "metadata": {},
     "output_type": "execute_result"
    },
    {
     "data": {
      "image/png": "[encoded data removed]",
      "text/plain": [
       "<Figure size 432x288 with 1 Axes>"
      ]
     },
     "metadata": {},
     "output_type": "display_data"
    }
   ],
   "source": [
    "plt.figure(figsize=(6,4))\n",
    "g = sns.countplot(x=binned_var, data=df14)\n",
    "g.set_xticklabels(g.get_xticklabels(), rotation=90)"
   ]
  },
  {
   "cell_type": "code",
   "execution_count": 192,
   "id": "858d9aa4",
   "metadata": {},
   "outputs": [
    {
     "data": {
      "text/html": [
       "<div>\n",
       "<style scoped>\n",
       "    .dataframe tbody tr th:only-of-type {\n",
       "        vertical-align: middle;\n",
       "    }\n",
       "\n",
       "    .dataframe tbody tr th {\n",
       "        vertical-align: top;\n",
       "    }\n",
       "\n",
       "    .dataframe thead th {\n",
       "        text-align: right;\n",
       "    }\n",
       "</style>\n",
       "<table border=\"1\" class=\"dataframe\">\n",
       "  <thead>\n",
       "    <tr style=\"text-align: right;\">\n",
       "      <th></th>\n",
       "      <th>Agency_Number</th>\n",
       "      <th>Amount</th>\n",
       "      <th>Year</th>\n",
       "      <th>Month</th>\n",
       "      <th>Week_Number</th>\n",
       "      <th>median_month_amount</th>\n",
       "      <th>median_month_amount_cust</th>\n",
       "      <th>agency_merchant_month_cust_median_ratio_amount</th>\n",
       "    </tr>\n",
       "  </thead>\n",
       "  <tbody>\n",
       "    <tr>\n",
       "      <th>count</th>\n",
       "      <td>81539.000000</td>\n",
       "      <td>8.153900e+04</td>\n",
       "      <td>81539.000000</td>\n",
       "      <td>81539.000000</td>\n",
       "      <td>81539.000000</td>\n",
       "      <td>81539.000000</td>\n",
       "      <td>8.153900e+04</td>\n",
       "      <td>81539.000000</td>\n",
       "    </tr>\n",
       "    <tr>\n",
       "      <th>mean</th>\n",
       "      <td>37589.385447</td>\n",
       "      <td>1.151862e+03</td>\n",
       "      <td>2013.508947</td>\n",
       "      <td>6.403010</td>\n",
       "      <td>26.097745</td>\n",
       "      <td>149.255545</td>\n",
       "      <td>1.029684e+03</td>\n",
       "      <td>21.187855</td>\n",
       "    </tr>\n",
       "    <tr>\n",
       "      <th>std</th>\n",
       "      <td>34693.451505</td>\n",
       "      <td>1.163822e+04</td>\n",
       "      <td>0.499923</td>\n",
       "      <td>3.341638</td>\n",
       "      <td>14.449067</td>\n",
       "      <td>205.689458</td>\n",
       "      <td>1.021394e+04</td>\n",
       "      <td>2783.426801</td>\n",
       "    </tr>\n",
       "    <tr>\n",
       "      <th>min</th>\n",
       "      <td>1000.000000</td>\n",
       "      <td>-3.410800e+04</td>\n",
       "      <td>2013.000000</td>\n",
       "      <td>1.000000</td>\n",
       "      <td>1.000000</td>\n",
       "      <td>-1312.500000</td>\n",
       "      <td>-2.895000e+03</td>\n",
       "      <td>2.000081</td>\n",
       "    </tr>\n",
       "    <tr>\n",
       "      <th>25%</th>\n",
       "      <td>1000.000000</td>\n",
       "      <td>1.520100e+02</td>\n",
       "      <td>2013.000000</td>\n",
       "      <td>4.000000</td>\n",
       "      <td>14.000000</td>\n",
       "      <td>53.820000</td>\n",
       "      <td>2.010000e+02</td>\n",
       "      <td>2.575940</td>\n",
       "    </tr>\n",
       "    <tr>\n",
       "      <th>50%</th>\n",
       "      <td>34500.000000</td>\n",
       "      <td>3.906300e+02</td>\n",
       "      <td>2014.000000</td>\n",
       "      <td>6.000000</td>\n",
       "      <td>26.000000</td>\n",
       "      <td>97.300000</td>\n",
       "      <td>4.238250e+02</td>\n",
       "      <td>3.624701</td>\n",
       "    </tr>\n",
       "    <tr>\n",
       "      <th>75%</th>\n",
       "      <td>76000.000000</td>\n",
       "      <td>9.548400e+02</td>\n",
       "      <td>2014.000000</td>\n",
       "      <td>9.000000</td>\n",
       "      <td>39.000000</td>\n",
       "      <td>180.790000</td>\n",
       "      <td>8.950000e+02</td>\n",
       "      <td>6.404821</td>\n",
       "    </tr>\n",
       "    <tr>\n",
       "      <th>max</th>\n",
       "      <td>98000.000000</td>\n",
       "      <td>1.903858e+06</td>\n",
       "      <td>2014.000000</td>\n",
       "      <td>12.000000</td>\n",
       "      <td>52.000000</td>\n",
       "      <td>13396.000000</td>\n",
       "      <td>1.903858e+06</td>\n",
       "      <td>598420.505983</td>\n",
       "    </tr>\n",
       "  </tbody>\n",
       "</table>\n",
       "</div>"
      ],
      "text/plain": [
       "       Agency_Number        Amount          Year         Month   Week_Number  \\\n",
       "count   81539.000000  8.153900e+04  81539.000000  81539.000000  81539.000000   \n",
       "mean    37589.385447  1.151862e+03   2013.508947      6.403010     26.097745   \n",
       "std     34693.451505  1.163822e+04      0.499923      3.341638     14.449067   \n",
       "min      1000.000000 -3.410800e+04   2013.000000      1.000000      1.000000   \n",
       "25%      1000.000000  1.520100e+02   2013.000000      4.000000     14.000000   \n",
       "50%     34500.000000  3.906300e+02   2014.000000      6.000000     26.000000   \n",
       "75%     76000.000000  9.548400e+02   2014.000000      9.000000     39.000000   \n",
       "max     98000.000000  1.903858e+06   2014.000000     12.000000     52.000000   \n",
       "\n",
       "       median_month_amount  median_month_amount_cust  \\\n",
       "count         81539.000000              8.153900e+04   \n",
       "mean            149.255545              1.029684e+03   \n",
       "std             205.689458              1.021394e+04   \n",
       "min           -1312.500000             -2.895000e+03   \n",
       "25%              53.820000              2.010000e+02   \n",
       "50%              97.300000              4.238250e+02   \n",
       "75%             180.790000              8.950000e+02   \n",
       "max           13396.000000              1.903858e+06   \n",
       "\n",
       "       agency_merchant_month_cust_median_ratio_amount  \n",
       "count                                    81539.000000  \n",
       "mean                                        21.187855  \n",
       "std                                       2783.426801  \n",
       "min                                          2.000081  \n",
       "25%                                          2.575940  \n",
       "50%                                          3.624701  \n",
       "75%                                          6.404821  \n",
       "max                                     598420.505983  "
      ]
     },
     "execution_count": 192,
     "metadata": {},
     "output_type": "execute_result"
    }
   ],
   "source": [
    "df14[df14[var]>2].describe()"
   ]
  },
  {
   "cell_type": "markdown",
   "id": "364b473f",
   "metadata": {},
   "source": [
    "### My thought process:\n",
    "The same idea is used for the comparison of medians.\n",
    "\n",
    "I chose 2 as the threshold value and got 81,000 data, the anomaly is increased compared to the base feature"
   ]
  },
  {
   "cell_type": "markdown",
   "id": "da50aebb",
   "metadata": {},
   "source": [
    "## Feature 15: The ratio of average personal monthly spending on same merchant to the average spending on all same merchant transaction over week"
   ]
  },
  {
   "cell_type": "code",
   "execution_count": 90,
   "id": "8802f5eb",
   "metadata": {},
   "outputs": [],
   "source": [
    "# create average spending group by agency, merchant category and week number\n",
    "stat_by_agency = df.groupby(['Agency_Name', 'Merchant_Category','Week_Number'])['Amount'].mean()\n",
    "stat_by_agency = pd.DataFrame(stat_by_agency)\n",
    "stat_by_agency.columns = ['AVG_weekNum_amount']"
   ]
  },
  {
   "cell_type": "code",
   "execution_count": 91,
   "id": "94ac39a5",
   "metadata": {},
   "outputs": [],
   "source": [
    "# create average spending group by cardholder, agency and merchant category \n",
    "stat_by_cust = df.groupby(['Cardholder_Last_Name', 'Cardholder_First_Initial','Agency_Name','Merchant_Category','Week_Number'])['Amount'].mean()\n",
    "stat_by_cust = pd.DataFrame(stat_by_cust)\n",
    "stat_by_cust.columns = ['AVG_weekNum_amount_cust']"
   ]
  },
  {
   "cell_type": "code",
   "execution_count": 92,
   "id": "8852d7c6",
   "metadata": {},
   "outputs": [],
   "source": [
    "# add the new feature average spending to the dataset \n",
    "df15 = pd.merge(df, stat_by_agency, how='left', on=['Agency_Name', 'Merchant_Category','Week_Number'])\n",
    "df15 = pd.merge(df15, stat_by_cust, how='left', on=['Cardholder_Last_Name', 'Cardholder_First_Initial','Agency_Name','Merchant_Category','Week_Number'])"
   ]
  },
  {
   "cell_type": "code",
   "execution_count": 93,
   "id": "98e3aad9",
   "metadata": {},
   "outputs": [],
   "source": [
    "colRatioName = 'agency_merchant_cust_weekNum_avg_ratio_amount'\n",
    "df15[colRatioName] = np.where(df15['AVG_weekNum_amount']==0,0, df15['AVG_weekNum_amount_cust'] / df15['AVG_weekNum_amount'])"
   ]
  },
  {
   "cell_type": "code",
   "execution_count": 94,
   "id": "4b8952b7",
   "metadata": {},
   "outputs": [],
   "source": [
    "var = colRatioName\n",
    "binned_var = var + '_D'\n",
    "percentile = [0,0.01,0.05,0.2,0.5,0.8,0.95,0.99,1]\n",
    "df15[binned_var] = pd.qcut(df15[var],percentile)"
   ]
  },
  {
   "cell_type": "code",
   "execution_count": 95,
   "id": "8ad41660",
   "metadata": {},
   "outputs": [
    {
     "data": {
      "text/plain": [
       "[Text(0, 0, '(-1.480910221218939e+16, -0.0445]'),\n",
       " Text(1, 0, '(-0.0445, 0.0649]'),\n",
       " Text(2, 0, '(0.0649, 0.293]'),\n",
       " Text(3, 0, '(0.293, 0.96]'),\n",
       " Text(4, 0, '(0.96, 1.22]'),\n",
       " Text(5, 0, '(1.22, 2.684]'),\n",
       " Text(6, 0, '(2.684, 5.828]'),\n",
       " Text(7, 0, '(5.828, 2.961820442437878e+16]')]"
      ]
     },
     "execution_count": 95,
     "metadata": {},
     "output_type": "execute_result"
    },
    {
     "data": {
      "image/png": "[encoded data removed]",
      "text/plain": [
       "<Figure size 432x288 with 1 Axes>"
      ]
     },
     "metadata": {},
     "output_type": "display_data"
    }
   ],
   "source": [
    "plt.figure(figsize=(6,4))\n",
    "g = sns.countplot(x=binned_var, data=df15)\n",
    "g.set_xticklabels(g.get_xticklabels(), rotation=90)"
   ]
  },
  {
   "cell_type": "code",
   "execution_count": 96,
   "id": "821124f3",
   "metadata": {},
   "outputs": [
    {
     "data": {
      "text/html": [
       "<div>\n",
       "<style scoped>\n",
       "    .dataframe tbody tr th:only-of-type {\n",
       "        vertical-align: middle;\n",
       "    }\n",
       "\n",
       "    .dataframe tbody tr th {\n",
       "        vertical-align: top;\n",
       "    }\n",
       "\n",
       "    .dataframe thead th {\n",
       "        text-align: right;\n",
       "    }\n",
       "</style>\n",
       "<table border=\"1\" class=\"dataframe\">\n",
       "  <thead>\n",
       "    <tr style=\"text-align: right;\">\n",
       "      <th></th>\n",
       "      <th>Agency_Number</th>\n",
       "      <th>Amount</th>\n",
       "      <th>Year</th>\n",
       "      <th>Month</th>\n",
       "      <th>AVG_weekNum_amount</th>\n",
       "      <th>AVG_weekNum_amount_cust</th>\n",
       "      <th>agency_merchant_cust_weekNum_avg_ratio_amount</th>\n",
       "    </tr>\n",
       "  </thead>\n",
       "  <tbody>\n",
       "    <tr>\n",
       "      <th>count</th>\n",
       "      <td>21849.000000</td>\n",
       "      <td>2.184900e+04</td>\n",
       "      <td>21849.000000</td>\n",
       "      <td>21849.000000</td>\n",
       "      <td>21849.000000</td>\n",
       "      <td>2.184900e+04</td>\n",
       "      <td>2.184900e+04</td>\n",
       "    </tr>\n",
       "    <tr>\n",
       "      <th>mean</th>\n",
       "      <td>37727.159138</td>\n",
       "      <td>2.328746e+03</td>\n",
       "      <td>2013.515630</td>\n",
       "      <td>6.354570</td>\n",
       "      <td>507.822530</td>\n",
       "      <td>2.328746e+03</td>\n",
       "      <td>1.355586e+12</td>\n",
       "    </tr>\n",
       "    <tr>\n",
       "      <th>std</th>\n",
       "      <td>35140.409761</td>\n",
       "      <td>2.170599e+04</td>\n",
       "      <td>0.499767</td>\n",
       "      <td>3.333269</td>\n",
       "      <td>5100.902151</td>\n",
       "      <td>2.062840e+04</td>\n",
       "      <td>2.003747e+14</td>\n",
       "    </tr>\n",
       "    <tr>\n",
       "      <th>min</th>\n",
       "      <td>1000.000000</td>\n",
       "      <td>-4.174000e+04</td>\n",
       "      <td>2013.000000</td>\n",
       "      <td>1.000000</td>\n",
       "      <td>-2061.576316</td>\n",
       "      <td>-1.681967e+04</td>\n",
       "      <td>2.700003e+00</td>\n",
       "    </tr>\n",
       "    <tr>\n",
       "      <th>25%</th>\n",
       "      <td>1000.000000</td>\n",
       "      <td>3.444400e+02</td>\n",
       "      <td>2013.000000</td>\n",
       "      <td>4.000000</td>\n",
       "      <td>113.611746</td>\n",
       "      <td>4.653000e+02</td>\n",
       "      <td>3.131225e+00</td>\n",
       "    </tr>\n",
       "    <tr>\n",
       "      <th>50%</th>\n",
       "      <td>34500.000000</td>\n",
       "      <td>9.326200e+02</td>\n",
       "      <td>2014.000000</td>\n",
       "      <td>6.000000</td>\n",
       "      <td>246.900312</td>\n",
       "      <td>1.035430e+03</td>\n",
       "      <td>3.830443e+00</td>\n",
       "    </tr>\n",
       "    <tr>\n",
       "      <th>75%</th>\n",
       "      <td>76000.000000</td>\n",
       "      <td>2.059000e+03</td>\n",
       "      <td>2014.000000</td>\n",
       "      <td>9.000000</td>\n",
       "      <td>446.626667</td>\n",
       "      <td>2.017320e+03</td>\n",
       "      <td>5.289431e+00</td>\n",
       "    </tr>\n",
       "    <tr>\n",
       "      <th>max</th>\n",
       "      <td>98000.000000</td>\n",
       "      <td>1.903858e+06</td>\n",
       "      <td>2014.000000</td>\n",
       "      <td>12.000000</td>\n",
       "      <td>475969.140000</td>\n",
       "      <td>1.903858e+06</td>\n",
       "      <td>2.961820e+16</td>\n",
       "    </tr>\n",
       "  </tbody>\n",
       "</table>\n",
       "</div>"
      ],
      "text/plain": [
       "       Agency_Number        Amount          Year         Month  \\\n",
       "count   21849.000000  2.184900e+04  21849.000000  21849.000000   \n",
       "mean    37727.159138  2.328746e+03   2013.515630      6.354570   \n",
       "std     35140.409761  2.170599e+04      0.499767      3.333269   \n",
       "min      1000.000000 -4.174000e+04   2013.000000      1.000000   \n",
       "25%      1000.000000  3.444400e+02   2013.000000      4.000000   \n",
       "50%     34500.000000  9.326200e+02   2014.000000      6.000000   \n",
       "75%     76000.000000  2.059000e+03   2014.000000      9.000000   \n",
       "max     98000.000000  1.903858e+06   2014.000000     12.000000   \n",
       "\n",
       "       AVG_weekNum_amount  AVG_weekNum_amount_cust  \\\n",
       "count        21849.000000             2.184900e+04   \n",
       "mean           507.822530             2.328746e+03   \n",
       "std           5100.902151             2.062840e+04   \n",
       "min          -2061.576316            -1.681967e+04   \n",
       "25%            113.611746             4.653000e+02   \n",
       "50%            246.900312             1.035430e+03   \n",
       "75%            446.626667             2.017320e+03   \n",
       "max         475969.140000             1.903858e+06   \n",
       "\n",
       "       agency_merchant_cust_weekNum_avg_ratio_amount  \n",
       "count                                   2.184900e+04  \n",
       "mean                                    1.355586e+12  \n",
       "std                                     2.003747e+14  \n",
       "min                                     2.700003e+00  \n",
       "25%                                     3.131225e+00  \n",
       "50%                                     3.830443e+00  \n",
       "75%                                     5.289431e+00  \n",
       "max                                     2.961820e+16  "
      ]
     },
     "execution_count": 96,
     "metadata": {},
     "output_type": "execute_result"
    }
   ],
   "source": [
    "df15[df15[var]>2.7].describe()"
   ]
  },
  {
   "cell_type": "markdown",
   "id": "ab22afca",
   "metadata": {},
   "source": [
    "### My thought process:\n",
    "This feature is based on feature 9, adding week number as a consideration.\n",
    "\n",
    "The results are similar to before, I chose a threshold of 2.7, and got about 21,000 data, anomalies increased compared to the base feature."
   ]
  },
  {
   "cell_type": "markdown",
   "id": "3e2089a9",
   "metadata": {},
   "source": [
    "## Feature 16: The ratio of average personal monthly spending on same merchant to the average spending on all same merchant transaction over week"
   ]
  },
  {
   "cell_type": "code",
   "execution_count": 97,
   "id": "9ed29f8a",
   "metadata": {},
   "outputs": [],
   "source": [
    "# create median spending group by agency, merchant category and week number\n",
    "stat_by_agency = df.groupby(['Agency_Name', 'Merchant_Category','Week_Number'])['Amount'].median()\n",
    "stat_by_agency = pd.DataFrame(stat_by_agency)\n",
    "stat_by_agency.columns = ['median_weekNum_amount']"
   ]
  },
  {
   "cell_type": "code",
   "execution_count": 98,
   "id": "60810dee",
   "metadata": {},
   "outputs": [],
   "source": [
    "# create median spending group by cardholder, agency and merchant category \n",
    "stat_by_cust = df.groupby(['Cardholder_Last_Name', 'Cardholder_First_Initial','Agency_Name','Merchant_Category','Week_Number'])['Amount'].median()\n",
    "stat_by_cust = pd.DataFrame(stat_by_cust)\n",
    "stat_by_cust.columns = ['median_weekNum_amount_cust']"
   ]
  },
  {
   "cell_type": "code",
   "execution_count": 99,
   "id": "1c705e8e",
   "metadata": {},
   "outputs": [],
   "source": [
    "# add the new feature median spending to the dataset \n",
    "df16 = pd.merge(df, stat_by_agency, how='left', on=['Agency_Name', 'Merchant_Category','Week_Number'])\n",
    "df16 = pd.merge(df16, stat_by_cust, how='left', on=['Cardholder_Last_Name', 'Cardholder_First_Initial','Agency_Name','Merchant_Category','Week_Number'])"
   ]
  },
  {
   "cell_type": "code",
   "execution_count": 100,
   "id": "ffce7ddd",
   "metadata": {},
   "outputs": [],
   "source": [
    "colRatioName = 'agency_merchant_cust_weekNum_median_ratio_amount'\n",
    "df16[colRatioName] = np.where(df16['median_weekNum_amount']==0,0, df16['median_weekNum_amount_cust'] / df16['median_weekNum_amount'])"
   ]
  },
  {
   "cell_type": "code",
   "execution_count": 101,
   "id": "2c9975e4",
   "metadata": {},
   "outputs": [],
   "source": [
    "var = colRatioName\n",
    "binned_var = var + '_D'\n",
    "percentile = [0,0.01,0.05,0.2,0.5,0.8,0.95,0.99,1]\n",
    "df16[binned_var] = pd.qcut(df16[var],percentile)"
   ]
  },
  {
   "cell_type": "code",
   "execution_count": 102,
   "id": "cd557733",
   "metadata": {},
   "outputs": [
    {
     "data": {
      "text/plain": [
       "[Text(0, 0, '(-2811.001, -0.0456]'),\n",
       " Text(1, 0, '(-0.0456, 0.161]'),\n",
       " Text(2, 0, '(0.161, 0.603]'),\n",
       " Text(3, 0, '(0.603, 1.0]'),\n",
       " Text(4, 0, '(1.0, 1.76]'),\n",
       " Text(5, 0, '(1.76, 6.101]'),\n",
       " Text(6, 0, '(6.101, 20.77]'),\n",
       " Text(7, 0, '(20.77, 235424.342]')]"
      ]
     },
     "execution_count": 102,
     "metadata": {},
     "output_type": "execute_result"
    },
    {
     "data": {
      "image/png": "[encoded data removed]",
      "text/plain": [
       "<Figure size 432x288 with 1 Axes>"
      ]
     },
     "metadata": {},
     "output_type": "display_data"
    }
   ],
   "source": [
    "plt.figure(figsize=(6,4))\n",
    "g = sns.countplot(x=binned_var, data=df16)\n",
    "g.set_xticklabels(g.get_xticklabels(), rotation=90)"
   ]
  },
  {
   "cell_type": "code",
   "execution_count": 103,
   "id": "844552e5",
   "metadata": {},
   "outputs": [
    {
     "data": {
      "text/html": [
       "<div>\n",
       "<style scoped>\n",
       "    .dataframe tbody tr th:only-of-type {\n",
       "        vertical-align: middle;\n",
       "    }\n",
       "\n",
       "    .dataframe tbody tr th {\n",
       "        vertical-align: top;\n",
       "    }\n",
       "\n",
       "    .dataframe thead th {\n",
       "        text-align: right;\n",
       "    }\n",
       "</style>\n",
       "<table border=\"1\" class=\"dataframe\">\n",
       "  <thead>\n",
       "    <tr style=\"text-align: right;\">\n",
       "      <th></th>\n",
       "      <th>Agency_Number</th>\n",
       "      <th>Amount</th>\n",
       "      <th>Year</th>\n",
       "      <th>Month</th>\n",
       "      <th>median_weekNum_amount</th>\n",
       "      <th>median_weekNum_amount_cust</th>\n",
       "      <th>agency_merchant_cust_weekNum_median_ratio_amount</th>\n",
       "    </tr>\n",
       "  </thead>\n",
       "  <tbody>\n",
       "    <tr>\n",
       "      <th>count</th>\n",
       "      <td>75938.000000</td>\n",
       "      <td>7.593800e+04</td>\n",
       "      <td>75938.000000</td>\n",
       "      <td>75938.000000</td>\n",
       "      <td>75938.000000</td>\n",
       "      <td>7.593800e+04</td>\n",
       "      <td>75938.000000</td>\n",
       "    </tr>\n",
       "    <tr>\n",
       "      <th>mean</th>\n",
       "      <td>37528.469278</td>\n",
       "      <td>1.102421e+03</td>\n",
       "      <td>2013.508757</td>\n",
       "      <td>6.397667</td>\n",
       "      <td>146.451361</td>\n",
       "      <td>1.039169e+03</td>\n",
       "      <td>14.158417</td>\n",
       "    </tr>\n",
       "    <tr>\n",
       "      <th>std</th>\n",
       "      <td>35126.041285</td>\n",
       "      <td>1.181110e+04</td>\n",
       "      <td>0.499927</td>\n",
       "      <td>3.331146</td>\n",
       "      <td>311.086992</td>\n",
       "      <td>1.096339e+04</td>\n",
       "      <td>1192.764531</td>\n",
       "    </tr>\n",
       "    <tr>\n",
       "      <th>min</th>\n",
       "      <td>1000.000000</td>\n",
       "      <td>-3.410800e+04</td>\n",
       "      <td>2013.000000</td>\n",
       "      <td>1.000000</td>\n",
       "      <td>-2474.955000</td>\n",
       "      <td>-4.987040e+03</td>\n",
       "      <td>2.000006</td>\n",
       "    </tr>\n",
       "    <tr>\n",
       "      <th>25%</th>\n",
       "      <td>1000.000000</td>\n",
       "      <td>1.560750e+02</td>\n",
       "      <td>2013.000000</td>\n",
       "      <td>4.000000</td>\n",
       "      <td>47.906250</td>\n",
       "      <td>1.938900e+02</td>\n",
       "      <td>2.637830</td>\n",
       "    </tr>\n",
       "    <tr>\n",
       "      <th>50%</th>\n",
       "      <td>34500.000000</td>\n",
       "      <td>3.822000e+02</td>\n",
       "      <td>2014.000000</td>\n",
       "      <td>6.000000</td>\n",
       "      <td>87.500000</td>\n",
       "      <td>4.140800e+02</td>\n",
       "      <td>3.829424</td>\n",
       "    </tr>\n",
       "    <tr>\n",
       "      <th>75%</th>\n",
       "      <td>76000.000000</td>\n",
       "      <td>9.280000e+02</td>\n",
       "      <td>2014.000000</td>\n",
       "      <td>9.000000</td>\n",
       "      <td>172.975000</td>\n",
       "      <td>9.000000e+02</td>\n",
       "      <td>6.945693</td>\n",
       "    </tr>\n",
       "    <tr>\n",
       "      <th>max</th>\n",
       "      <td>98000.000000</td>\n",
       "      <td>1.903858e+06</td>\n",
       "      <td>2014.000000</td>\n",
       "      <td>12.000000</td>\n",
       "      <td>29999.840000</td>\n",
       "      <td>1.903858e+06</td>\n",
       "      <td>235424.341627</td>\n",
       "    </tr>\n",
       "  </tbody>\n",
       "</table>\n",
       "</div>"
      ],
      "text/plain": [
       "       Agency_Number        Amount          Year         Month  \\\n",
       "count   75938.000000  7.593800e+04  75938.000000  75938.000000   \n",
       "mean    37528.469278  1.102421e+03   2013.508757      6.397667   \n",
       "std     35126.041285  1.181110e+04      0.499927      3.331146   \n",
       "min      1000.000000 -3.410800e+04   2013.000000      1.000000   \n",
       "25%      1000.000000  1.560750e+02   2013.000000      4.000000   \n",
       "50%     34500.000000  3.822000e+02   2014.000000      6.000000   \n",
       "75%     76000.000000  9.280000e+02   2014.000000      9.000000   \n",
       "max     98000.000000  1.903858e+06   2014.000000     12.000000   \n",
       "\n",
       "       median_weekNum_amount  median_weekNum_amount_cust  \\\n",
       "count           75938.000000                7.593800e+04   \n",
       "mean              146.451361                1.039169e+03   \n",
       "std               311.086992                1.096339e+04   \n",
       "min             -2474.955000               -4.987040e+03   \n",
       "25%                47.906250                1.938900e+02   \n",
       "50%                87.500000                4.140800e+02   \n",
       "75%               172.975000                9.000000e+02   \n",
       "max             29999.840000                1.903858e+06   \n",
       "\n",
       "       agency_merchant_cust_weekNum_median_ratio_amount  \n",
       "count                                      75938.000000  \n",
       "mean                                          14.158417  \n",
       "std                                         1192.764531  \n",
       "min                                            2.000006  \n",
       "25%                                            2.637830  \n",
       "50%                                            3.829424  \n",
       "75%                                            6.945693  \n",
       "max                                       235424.341627  "
      ]
     },
     "execution_count": 103,
     "metadata": {},
     "output_type": "execute_result"
    }
   ],
   "source": [
    "df16[df16[var]>2].describe()"
   ]
  },
  {
   "cell_type": "markdown",
   "id": "9ae89143",
   "metadata": {},
   "source": [
    "### My thought process:\n",
    "The same idea is used for the comparison of medians.\n",
    "\n",
    "I chose 2 as the threshold and got about 75,000 data, which is an anomalous increase compared to feature 10."
   ]
  },
  {
   "cell_type": "markdown",
   "id": "0889993e",
   "metadata": {},
   "source": [
    "## Feature 17: The ratio of the amount of the same merchant purchased on the same day by an individual to the total amount of the same  merchant purchased"
   ]
  },
  {
   "cell_type": "code",
   "execution_count": 193,
   "id": "6c7ef505",
   "metadata": {},
   "outputs": [],
   "source": [
    "# create number of transaction group by cardholder, agency and merchant category \n",
    "cust = df.groupby(['Cardholder_Last_Name', 'Cardholder_First_Initial','Agency_Name','Merchant_Category','Week_Number','Day_of_Week'])['Amount'].count()\n",
    "cust = pd.DataFrame(cust)\n",
    "\n",
    "colName = 'Num_purchase_agency'\n",
    "cust.columns = [colName]"
   ]
  },
  {
   "cell_type": "code",
   "execution_count": 194,
   "id": "2e1b06c6",
   "metadata": {},
   "outputs": [],
   "source": [
    "# create number of transaction spending group by agency and merchant category \n",
    "stat_by_agency = df.groupby(['Agency_Name','Merchant_Category'])['Amount'].count()\n",
    "stat_by_agency = pd.DataFrame(stat_by_agency)\n",
    "\n",
    "colName = 'Total_purchase_agency'\n",
    "stat_by_agency.columns = [colName]"
   ]
  },
  {
   "cell_type": "code",
   "execution_count": 195,
   "id": "a398cdec",
   "metadata": {},
   "outputs": [],
   "source": [
    "# add the new feature average spending to the dataset \n",
    "df17 = pd.merge(df, stat_by_agency, how='left', on=['Agency_Name','Merchant_Category'])\n",
    "df17 = pd.merge(df17, cust, how='left', on=['Cardholder_Last_Name', 'Cardholder_First_Initial','Agency_Name','Merchant_Category','Week_Number','Day_of_Week'])\n",
    "\n",
    "\n"
   ]
  },
  {
   "cell_type": "code",
   "execution_count": 196,
   "id": "db9f26c6",
   "metadata": {},
   "outputs": [],
   "source": [
    "df17['agency_merchant_total_ratio'] = np.where(df17['Num_purchase_agency']==0,0, df17['Num_purchase_agency'] / df17['Total_purchase_agency'])"
   ]
  },
  {
   "cell_type": "code",
   "execution_count": 197,
   "id": "ce75c785",
   "metadata": {},
   "outputs": [],
   "source": [
    "# cut by percentile for plotting\n",
    "var = 'agency_merchant_total_ratio'\n",
    "binned_var = var + '_D'\n",
    "percentile = [0,0.01,0.05,0.2,0.5,0.8,0.95,0.99,1]\n",
    "df17[binned_var] = pd.qcut( df17[var],percentile,duplicates = 'drop')"
   ]
  },
  {
   "cell_type": "code",
   "execution_count": 198,
   "id": "aed05ba1",
   "metadata": {},
   "outputs": [
    {
     "data": {
      "text/plain": [
       "[Text(0, 0, '(-0.000877, 0.000182]'),\n",
       " Text(1, 0, '(0.000182, 0.000502]'),\n",
       " Text(2, 0, '(0.000502, 0.00269]'),\n",
       " Text(3, 0, '(0.00269, 0.0175]'),\n",
       " Text(4, 0, '(0.0175, 0.133]'),\n",
       " Text(5, 0, '(0.133, 0.5]'),\n",
       " Text(6, 0, '(0.5, 1.0]')]"
      ]
     },
     "execution_count": 198,
     "metadata": {},
     "output_type": "execute_result"
    },
    {
     "data": {
      "image/png": "[encoded data removed]",
      "text/plain": [
       "<Figure size 432x288 with 1 Axes>"
      ]
     },
     "metadata": {},
     "output_type": "display_data"
    }
   ],
   "source": [
    "plt.figure(figsize=(6,4))\n",
    "g = sns.countplot(x=binned_var ,data=df17)\n",
    "g.set_xticklabels(g.get_xticklabels(), rotation=90)"
   ]
  },
  {
   "cell_type": "code",
   "execution_count": 199,
   "id": "ffc0f537",
   "metadata": {},
   "outputs": [
    {
     "data": {
      "text/html": [
       "<div>\n",
       "<style scoped>\n",
       "    .dataframe tbody tr th:only-of-type {\n",
       "        vertical-align: middle;\n",
       "    }\n",
       "\n",
       "    .dataframe tbody tr th {\n",
       "        vertical-align: top;\n",
       "    }\n",
       "\n",
       "    .dataframe thead th {\n",
       "        text-align: right;\n",
       "    }\n",
       "</style>\n",
       "<table border=\"1\" class=\"dataframe\">\n",
       "  <thead>\n",
       "    <tr style=\"text-align: right;\">\n",
       "      <th></th>\n",
       "      <th>Agency_Number</th>\n",
       "      <th>Amount</th>\n",
       "      <th>Year</th>\n",
       "      <th>Month</th>\n",
       "      <th>Total_purchase_agency</th>\n",
       "      <th>Num_purchase_agency</th>\n",
       "      <th>agency_merchant_total_ratio</th>\n",
       "    </tr>\n",
       "  </thead>\n",
       "  <tbody>\n",
       "    <tr>\n",
       "      <th>count</th>\n",
       "      <td>22461.000000</td>\n",
       "      <td>22461.000000</td>\n",
       "      <td>22461.000000</td>\n",
       "      <td>22461.000000</td>\n",
       "      <td>22461.000000</td>\n",
       "      <td>22461.000000</td>\n",
       "      <td>22461.000000</td>\n",
       "    </tr>\n",
       "    <tr>\n",
       "      <th>mean</th>\n",
       "      <td>42868.554383</td>\n",
       "      <td>428.168847</td>\n",
       "      <td>2013.522417</td>\n",
       "      <td>6.369930</td>\n",
       "      <td>17.036196</td>\n",
       "      <td>4.748097</td>\n",
       "      <td>0.388381</td>\n",
       "    </tr>\n",
       "    <tr>\n",
       "      <th>std</th>\n",
       "      <td>25547.722425</td>\n",
       "      <td>2697.067043</td>\n",
       "      <td>0.499508</td>\n",
       "      <td>3.305593</td>\n",
       "      <td>37.688510</td>\n",
       "      <td>9.331938</td>\n",
       "      <td>0.273765</td>\n",
       "    </tr>\n",
       "    <tr>\n",
       "      <th>min</th>\n",
       "      <td>1000.000000</td>\n",
       "      <td>-5000.000000</td>\n",
       "      <td>2013.000000</td>\n",
       "      <td>1.000000</td>\n",
       "      <td>1.000000</td>\n",
       "      <td>1.000000</td>\n",
       "      <td>0.130435</td>\n",
       "    </tr>\n",
       "    <tr>\n",
       "      <th>25%</th>\n",
       "      <td>24100.000000</td>\n",
       "      <td>63.270000</td>\n",
       "      <td>2013.000000</td>\n",
       "      <td>4.000000</td>\n",
       "      <td>3.000000</td>\n",
       "      <td>1.000000</td>\n",
       "      <td>0.187500</td>\n",
       "    </tr>\n",
       "    <tr>\n",
       "      <th>50%</th>\n",
       "      <td>41500.000000</td>\n",
       "      <td>166.000000</td>\n",
       "      <td>2014.000000</td>\n",
       "      <td>6.000000</td>\n",
       "      <td>6.000000</td>\n",
       "      <td>2.000000</td>\n",
       "      <td>0.269231</td>\n",
       "    </tr>\n",
       "    <tr>\n",
       "      <th>75%</th>\n",
       "      <td>64500.000000</td>\n",
       "      <td>435.800000</td>\n",
       "      <td>2014.000000</td>\n",
       "      <td>9.000000</td>\n",
       "      <td>15.000000</td>\n",
       "      <td>4.000000</td>\n",
       "      <td>0.500000</td>\n",
       "    </tr>\n",
       "    <tr>\n",
       "      <th>max</th>\n",
       "      <td>98000.000000</td>\n",
       "      <td>343148.500000</td>\n",
       "      <td>2014.000000</td>\n",
       "      <td>12.000000</td>\n",
       "      <td>383.000000</td>\n",
       "      <td>93.000000</td>\n",
       "      <td>1.000000</td>\n",
       "    </tr>\n",
       "  </tbody>\n",
       "</table>\n",
       "</div>"
      ],
      "text/plain": [
       "       Agency_Number         Amount          Year         Month  \\\n",
       "count   22461.000000   22461.000000  22461.000000  22461.000000   \n",
       "mean    42868.554383     428.168847   2013.522417      6.369930   \n",
       "std     25547.722425    2697.067043      0.499508      3.305593   \n",
       "min      1000.000000   -5000.000000   2013.000000      1.000000   \n",
       "25%     24100.000000      63.270000   2013.000000      4.000000   \n",
       "50%     41500.000000     166.000000   2014.000000      6.000000   \n",
       "75%     64500.000000     435.800000   2014.000000      9.000000   \n",
       "max     98000.000000  343148.500000   2014.000000     12.000000   \n",
       "\n",
       "       Total_purchase_agency  Num_purchase_agency  agency_merchant_total_ratio  \n",
       "count           22461.000000         22461.000000                 22461.000000  \n",
       "mean               17.036196             4.748097                     0.388381  \n",
       "std                37.688510             9.331938                     0.273765  \n",
       "min                 1.000000             1.000000                     0.130435  \n",
       "25%                 3.000000             1.000000                     0.187500  \n",
       "50%                 6.000000             2.000000                     0.269231  \n",
       "75%                15.000000             4.000000                     0.500000  \n",
       "max               383.000000            93.000000                     1.000000  "
      ]
     },
     "execution_count": 199,
     "metadata": {},
     "output_type": "execute_result"
    }
   ],
   "source": [
    "df17[df17[var]>0.13].describe()"
   ]
  },
  {
   "cell_type": "markdown",
   "id": "4da9a973",
   "metadata": {},
   "source": [
    "### My thought process:\n",
    "For the last feature, I consider that if an item is purchased in the same day in a large proportion of the number of purchases for the year, it should be treated as an unusual transaction.\n",
    "\n",
    "From the frequency histogram, it can be seen that the ratio rises abnormally fast in more than 95% of the distribution, so I chose 0.13 as the threshold and got 22,000 abnormal data."
   ]
  },
  {
   "cell_type": "markdown",
   "id": "d7fcaee8",
   "metadata": {},
   "source": [
    "# Conclusion"
   ]
  },
  {
   "cell_type": "markdown",
   "id": "60e1fdb4",
   "metadata": {},
   "source": [
    "* Feature 1,2,3,4,5,6,7,8 are based on anomaly detection for the same agency and the same merchant in different time frames.\n",
    "* Feature 9,10,13,14,15,16 are based on the cardholder's spending over a different range of time frames.\n",
    "* Feature 11,12,17 are based on the cardholder's purchase frequency to detect anomalies.\n",
    "* The frequency distribution histograms of the mean and median are significantly different, mainly in the 50% to 80% frequency distribution. In addition, for the histogram of the median, the spread of values in the 80% to 95% distribution starts to increase rapidly. \n",
    "* The data for anomaly detection will increase as the qualifying constrain continue to increase."
   ]
  },
  {
   "cell_type": "markdown",
   "id": "72122994",
   "metadata": {},
   "source": [
    "# Insight\n",
    "* When applying to fraud detection, the R-F-M principle will guide us on how to build more and more meaningful features.\n",
    "    * Recency — Time passed since last purchase\n",
    "    * Frequency — Total number of transactions\n",
    "    * Monetary — Average amount of transactions\n",
    "* When constructing features, the limitations of the features are taken into account. For example, as I talked about in my Frequency feature, there are some cases that should not be treated as anomalies and we should try to avoid them.\n",
    "* In credit card fraud detection, we are more likely to face the Type 1 Error(false positive) where a normal transactions are treated as anomaly. Too many Type 1 Error can lead to a loss of confidence in the cardholder's credit card institution. So how to improve the accuracy of detection will be an important aspect to explore and affect the accuracy of the model."
   ]
  },
  {
   "cell_type": "code",
   "execution_count": null,
   "id": "2c5f99a3",
   "metadata": {},
   "outputs": [],
   "source": []
  }
 ],
 "metadata": {
  "kernelspec": {
   "display_name": "Python 3 (ipykernel)",
   "language": "python",
   "name": "python3"
  },
  "language_info": {
   "codemirror_mode": {
    "name": "ipython",
    "version": 3
   },
   "file_extension": ".py",
   "mimetype": "text/x-python",
   "name": "python",
   "nbconvert_exporter": "python",
   "pygments_lexer": "ipython3",
   "version": "3.9.7"
  },
  "toc": {
   "base_numbering": 1,
   "nav_menu": {},
   "number_sections": false,
   "sideBar": true,
   "skip_h1_title": false,
   "title_cell": "Table of Contents",
   "title_sidebar": "Contents",
   "toc_cell": true,
   "toc_position": {},
   "toc_section_display": true,
   "toc_window_display": false
  }
 },
 "nbformat": 4,
 "nbformat_minor": 5
}
