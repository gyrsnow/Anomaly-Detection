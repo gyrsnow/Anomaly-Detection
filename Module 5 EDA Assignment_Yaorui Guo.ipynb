{
 "cells": [
  {
   "cell_type": "markdown",
   "id": "da8e140c",
   "metadata": {},
   "source": [
    "# EDA Assignment 5\n",
    "APAN5420: Anomaly Detection\n"
   ]
  },
  {
   "cell_type": "markdown",
   "id": "aa122fcd",
   "metadata": {},
   "source": [
    "Yaorui Guo"
   ]
  },
  {
   "cell_type": "markdown",
   "id": "8601785d",
   "metadata": {
    "toc": true
   },
   "source": [
    "<h1>Table of Contents<span class=\"tocSkip\"></span></h1>\n",
    "<div class=\"toc\"><ul class=\"toc-item\"><li><span><a href=\"#EDA-Assignment-5\" data-toc-modified-id=\"EDA-Assignment-5-1\">EDA Assignment 5</a></span></li><li><span><a href=\"#1.1-Data-Preparation\" data-toc-modified-id=\"1.1-Data-Preparation-2\">1.1 Data Preparation</a></span></li><li><span><a href=\"#1.2-Create-Date-Fields\" data-toc-modified-id=\"1.2-Create-Date-Fields-3\">1.2 Create Date Fields</a></span></li><li><span><a href=\"#2.-Feature-Engineering\" data-toc-modified-id=\"2.-Feature-Engineering-4\">2. Feature Engineering</a></span><ul class=\"toc-item\"><li><span><a href=\"#Feature-1:-Ratio-of-amount-spending-and-average-amount-by-agency-and-merchant-category\" data-toc-modified-id=\"Feature-1:-Ratio-of-amount-spending-and-average-amount-by-agency-and-merchant-category-4.1\">Feature 1: Ratio of amount spending and average amount by agency and merchant category</a></span></li><li><span><a href=\"#Feature-2:-Ratio-of-amount-spending-and-median-amount-by-agency-and-merchant-category\" data-toc-modified-id=\"Feature-2:-Ratio-of-amount-spending-and-median-amount-by-agency-and-merchant-category-4.2\">Feature 2: Ratio of amount spending and median amount by agency and merchant category</a></span></li><li><span><a href=\"#Feature-3:-The-ratio-to-average-amount-spent-per-transaction-over-a-month-on-all-transactions\" data-toc-modified-id=\"Feature-3:-The-ratio-to-average-amount-spent-per-transaction-over-a-month-on-all-transactions-4.3\">Feature 3: The ratio to average amount spent per transaction over a month on all transactions</a></span></li><li><span><a href=\"#Feature-4:-The-ratio-to-the-median-amount-spent-per-transaction-over-a-month-on-all-transactions\" data-toc-modified-id=\"Feature-4:-The-ratio-to-the-median-amount-spent-per-transaction-over-a-month-on-all-transactions-4.4\">Feature 4: The ratio to the median amount spent per transaction over a month on all transactions</a></span></li><li><span><a href=\"#Feature-5:-The-ratio-to-average-amount-spent-per-transaction-over-day-of-week-on-all-transactions\" data-toc-modified-id=\"Feature-5:-The-ratio-to-average-amount-spent-per-transaction-over-day-of-week-on-all-transactions-4.5\">Feature 5: The ratio to average amount spent per transaction over day of week on all transactions</a></span></li><li><span><a href=\"#Feature-6:-The-ratio-to-median-amount-spent-per-transaction-over-day-of-week-on-all-transactions\" data-toc-modified-id=\"Feature-6:-The-ratio-to-median-amount-spent-per-transaction-over-day-of-week-on-all-transactions-4.6\">Feature 6: The ratio to median amount spent per transaction over day of week on all transactions</a></span></li><li><span><a href=\"#Feature-7:-The-ratio-to-average-amount-spent-per-transaction-over-a-week-on-all-transactions\" data-toc-modified-id=\"Feature-7:-The-ratio-to-average-amount-spent-per-transaction-over-a-week-on-all-transactions-4.7\">Feature 7: The ratio to average amount spent per transaction over a week on all transactions</a></span></li><li><span><a href=\"#Feature-8:-The-ratio-to-median-amount-spent-per-transaction-over-a-week-on-all-transactions\" data-toc-modified-id=\"Feature-8:-The-ratio-to-median-amount-spent-per-transaction-over-a-week-on-all-transactions-4.8\">Feature 8: The ratio to median amount spent per transaction over a week on all transactions</a></span></li><li><span><a href=\"#Feature-9:-The-ratio-of-average-personal-monthly-spending-on-same-merchant-to-the-average-spending-on-all-same-merchant-transaction\" data-toc-modified-id=\"Feature-9:-The-ratio-of-average-personal-monthly-spending-on-same-merchant-to-the-average-spending-on-all-same-merchant-transaction-4.9\">Feature 9: The ratio of average personal monthly spending on same merchant to the average spending on all same merchant transaction</a></span></li><li><span><a href=\"#Feature-10:-The-ratio-of-median-personal-monthly-spending-on-same-merchant-to-the-median-spending-on-all-same-merchant-transaction\" data-toc-modified-id=\"Feature-10:-The-ratio-of-median-personal-monthly-spending-on-same-merchant-to-the-median-spending-on-all-same-merchant-transaction-4.10\">Feature 10: The ratio of median personal monthly spending on same merchant to the median spending on all same merchant transaction</a></span></li><li><span><a href=\"#Revised-Feature-11:-Average-amounts-per-day-in-the-past-1-week-by-agency-and-cardholder\" data-toc-modified-id=\"Revised-Feature-11:-Average-amounts-per-day-in-the-past-1-week-by-agency-and-cardholder-4.11\">Revised Feature 11: Average amounts per day in the past 1 week by agency and cardholder</a></span></li><li><span><a href=\"#Revised-Feature-12:-Average-amounts-per-day-in-the-past-1-month-by-agency-and-cardholder\" data-toc-modified-id=\"Revised-Feature-12:-Average-amounts-per-day-in-the-past-1-month-by-agency-and-cardholder-4.12\">Revised Feature 12: Average amounts per day in the past 1 month by agency and cardholder</a></span></li><li><span><a href=\"#Feature-13:-Number-of-transactions-in-the-same-day-by-agency-and-cardholder\" data-toc-modified-id=\"Feature-13:-Number-of-transactions-in-the-same-day-by-agency-and-cardholder-4.13\">Feature 13: Number of transactions in the same day by agency and cardholder</a></span></li><li><span><a href=\"#Feature-14:-Number-of-transactions-in-the-past-1-month-by-agency,-cardholder,-and-merchant-category\" data-toc-modified-id=\"Feature-14:-Number-of-transactions-in-the-past-1-month-by-agency,-cardholder,-and-merchant-category-4.14\">Feature 14: Number of transactions in the past 1 month by agency, cardholder, and merchant category</a></span></li><li><span><a href=\"#Feature-15:-The-ratio-of-average-personal-monthly-spending-on-same-merchant-to-the-average-spending-on-all-same-merchant-transaction-over-week\" data-toc-modified-id=\"Feature-15:-The-ratio-of-average-personal-monthly-spending-on-same-merchant-to-the-average-spending-on-all-same-merchant-transaction-over-week-4.15\">Feature 15: The ratio of average personal monthly spending on same merchant to the average spending on all same merchant transaction over week</a></span></li><li><span><a href=\"#Feature-16:-The-ratio-of-median-personal-monthly-spending-on-same-merchant-to-the-average-spending-on-all-same-merchant-transaction-over-week\" data-toc-modified-id=\"Feature-16:-The-ratio-of-median-personal-monthly-spending-on-same-merchant-to-the-average-spending-on-all-same-merchant-transaction-over-week-4.16\">Feature 16: The ratio of median personal monthly spending on same merchant to the average spending on all same merchant transaction over week</a></span></li></ul></li><li><span><a href=\"#3.-Merged-dataset-with-New-Features\" data-toc-modified-id=\"3.-Merged-dataset-with-New-Features-5\">3. Merged dataset with New Features</a></span></li><li><span><a href=\"#4.-Modeling\" data-toc-modified-id=\"4.-Modeling-6\">4. Modeling</a></span><ul class=\"toc-item\"><li><span><a href=\"#What-is-KNN\" data-toc-modified-id=\"What-is-KNN-6.1\">What is KNN</a></span></li><li><span><a href=\"#I-generate-6-k-NN-models-and-collect-all-the-model-predictions-in-one-dataset.\" data-toc-modified-id=\"I-generate-6-k-NN-models-and-collect-all-the-model-predictions-in-one-dataset.-6.2\">I generate 6 k-NN models and collect all the model predictions in one dataset.</a></span></li><li><span><a href=\"#Combining-Outlier-Scores-from-Various-Base-Detectors\" data-toc-modified-id=\"Combining-Outlier-Scores-from-Various-Base-Detectors-6.3\">Combining Outlier Scores from Various Base Detectors</a></span></li><li><span><a href=\"#4.1-Method-1:-Average\" data-toc-modified-id=\"4.1-Method-1:-Average-6.4\">4.1 Method 1: Average</a></span></li><li><span><a href=\"#Determine-a-reasonable-boundary\" data-toc-modified-id=\"Determine-a-reasonable-boundary-6.5\">Determine a reasonable boundary</a></span></li><li><span><a href=\"#From-this-histogram,-we-can-see-that-most-of-the-data-points-are-distributed-at-less-than-0.5.-I-chose-0.5-as-the-cut-point,-so-I-can-suggest-those->=-0.5-to-be-outliers.\" data-toc-modified-id=\"From-this-histogram,-we-can-see-that-most-of-the-data-points-are-distributed-at-less-than-0.5.-I-chose-0.5-as-the-cut-point,-so-I-can-suggest-those->=-0.5-to-be-outliers.-6.6\">From this histogram, we can see that most of the data points are distributed at less than 0.5. I chose 0.5 as the cut point, so I can suggest those &gt;= 0.5 to be outliers.</a></span></li><li><span><a href=\"#In-average-method-it-identifies-377-data-points-that-have-the-outlier-scores-higher-than-0.5.\" data-toc-modified-id=\"In-average-method-it-identifies-377-data-points-that-have-the-outlier-scores-higher-than-0.5.-6.7\">In average method it identifies 377 data points that have the outlier scores higher than 0.5.</a></span></li><li><span><a href=\"#I-have-16-Features-here.-Suppose-a-high-value-in-each-Feature-means-abnormal.-The-summary-statistics-show-the-average-anomaly-score-of-Cluster-0-is-smaller-than-that-of-Cluster-1,-indicating-Cluster-1-to-be-the-anomaly-group.-The-fact-is-that-each-Feature-have-lower-means-and-average-score-in-Cluster-0.\" data-toc-modified-id=\"I-have-16-Features-here.-Suppose-a-high-value-in-each-Feature-means-abnormal.-The-summary-statistics-show-the-average-anomaly-score-of-Cluster-0-is-smaller-than-that-of-Cluster-1,-indicating-Cluster-1-to-be-the-anomaly-group.-The-fact-is-that-each-Feature-have-lower-means-and-average-score-in-Cluster-0.-6.8\">I have 16 Features here. Suppose a high value in each Feature means abnormal. The summary statistics show the average anomaly score of Cluster 0 is smaller than that of Cluster 1, indicating Cluster 1 to be the anomaly group. The fact is that each Feature have lower means and average score in Cluster 0.</a></span></li><li><span><a href=\"#4.2-Method-2:-The-Maximum-of-Maximum-(MOM)\" data-toc-modified-id=\"4.2-Method-2:-The-Maximum-of-Maximum-(MOM)-6.9\">4.2 Method 2: The Maximum of Maximum (MOM)</a></span></li><li><span><a href=\"#From-this-histogram,-we-can-see-that-most-of-the-data-points-are-distributed-at-less-than-0.5.-I-chose-0.5-as-the-cut-point,-so-I-can-suggest-those->=-0.5-to-be-outliers.\" data-toc-modified-id=\"From-this-histogram,-we-can-see-that-most-of-the-data-points-are-distributed-at-less-than-0.5.-I-chose-0.5-as-the-cut-point,-so-I-can-suggest-those->=-0.5-to-be-outliers.-6.10\">From this histogram, we can see that most of the data points are distributed at less than 0.5. I chose 0.5 as the cut point, so I can suggest those &gt;= 0.5 to be outliers.</a></span></li><li><span><a href=\"#In-MOM-method-it-identifies-503-data-points-that-have-the-outlier-scores-higher-than-0.5.\" data-toc-modified-id=\"In-MOM-method-it-identifies-503-data-points-that-have-the-outlier-scores-higher-than-0.5.-6.11\">In MOM method it identifies 503 data points that have the outlier scores higher than 0.5.</a></span></li><li><span><a href=\"#The-summary-statistics-show-the-average-anomaly-score-of-Cluster-0-is-smaller-than-that-of-Cluster-1,-indicating-Cluster-1-to-be-the-anomaly-group.-The-fact-is-that-each-Feature-have-lower-means-and-MOM-score-in-Cluster-0.\" data-toc-modified-id=\"The-summary-statistics-show-the-average-anomaly-score-of-Cluster-0-is-smaller-than-that-of-Cluster-1,-indicating-Cluster-1-to-be-the-anomaly-group.-The-fact-is-that-each-Feature-have-lower-means-and-MOM-score-in-Cluster-0.-6.12\">The summary statistics show the average anomaly score of Cluster 0 is smaller than that of Cluster 1, indicating Cluster 1 to be the anomaly group. The fact is that each Feature have lower means and MOM score in Cluster 0.</a></span></li><li><span><a href=\"#4.3-Method-3:-The-Average-of-Maximum-(AOM)\" data-toc-modified-id=\"4.3-Method-3:-The-Average-of-Maximum-(AOM)-6.13\">4.3 Method 3: The Average of Maximum (AOM)</a></span></li><li><span><a href=\"#From-this-histogram,-we-can-see-that-most-of-the-data-points-are-distributed-at-less-than-0.5.-I-chose-0.5-as-the-cut-point,-so-I-can-suggest-those->=-0.5-to-be-outliers.\" data-toc-modified-id=\"From-this-histogram,-we-can-see-that-most-of-the-data-points-are-distributed-at-less-than-0.5.-I-chose-0.5-as-the-cut-point,-so-I-can-suggest-those->=-0.5-to-be-outliers.-6.14\">From this histogram, we can see that most of the data points are distributed at less than 0.5. I chose 0.5 as the cut point, so I can suggest those &gt;= 0.5 to be outliers.</a></span></li><li><span><a href=\"#In-AOM-method-it-identifies-460-data-points-that-have-the-outlier-scores-higher-than-0.5.\" data-toc-modified-id=\"In-AOM-method-it-identifies-460-data-points-that-have-the-outlier-scores-higher-than-0.5.-6.15\">In AOM method it identifies 460 data points that have the outlier scores higher than 0.5.</a></span></li><li><span><a href=\"#The-summary-statistics-show-the-average-anomaly-score-of-Cluster-0-is-smaller-than-that-of-Cluster-1,-indicating-Cluster-1-to-be-the-anomaly-group.-The-fact-is-that-each-Feature-have-lower-means-and-AOM-score-in-Cluster-0.\" data-toc-modified-id=\"The-summary-statistics-show-the-average-anomaly-score-of-Cluster-0-is-smaller-than-that-of-Cluster-1,-indicating-Cluster-1-to-be-the-anomaly-group.-The-fact-is-that-each-Feature-have-lower-means-and-AOM-score-in-Cluster-0.-6.16\">The summary statistics show the average anomaly score of Cluster 0 is smaller than that of Cluster 1, indicating Cluster 1 to be the anomaly group. The fact is that each Feature have lower means and AOM score in Cluster 0.</a></span></li><li><span><a href=\"#4.4-Method-4:-The-maximum-of-average-(MOA)\" data-toc-modified-id=\"4.4-Method-4:-The-maximum-of-average-(MOA)-6.17\">4.4 Method 4: The maximum of average (MOA)</a></span></li><li><span><a href=\"#From-this-histogram,-we-can-see-that-most-of-the-data-points-are-distributed-at-less-than-0.5.-I-chose-0.5-as-the-cut-point,-so-I-can-suggest-those->=-0.5-to-be-outliers.\" data-toc-modified-id=\"From-this-histogram,-we-can-see-that-most-of-the-data-points-are-distributed-at-less-than-0.5.-I-chose-0.5-as-the-cut-point,-so-I-can-suggest-those->=-0.5-to-be-outliers.-6.18\">From this histogram, we can see that most of the data points are distributed at less than 0.5. I chose 0.5 as the cut point, so I can suggest those &gt;= 0.5 to be outliers.</a></span></li><li><span><a href=\"#In-MOA-method-it-identifies-461-data-points-that-have-the-outlier-scores-higher-than-0.5\" data-toc-modified-id=\"In-MOA-method-it-identifies-461-data-points-that-have-the-outlier-scores-higher-than-0.5-6.19\">In MOA method it identifies 461 data points that have the outlier scores higher than 0.5</a></span></li><li><span><a href=\"#The-summary-statistics-show-the-average-anomaly-score-of-Cluster-0-is-smaller-than-that-of-Cluster-1,-indicating-Cluster-1-to-be-the-anomaly-group.-The-fact-is-that-each-Feature-have-lower-means-and-MOA-score-in-Cluster-0.\" data-toc-modified-id=\"The-summary-statistics-show-the-average-anomaly-score-of-Cluster-0-is-smaller-than-that-of-Cluster-1,-indicating-Cluster-1-to-be-the-anomaly-group.-The-fact-is-that-each-Feature-have-lower-means-and-MOA-score-in-Cluster-0.-6.20\">The summary statistics show the average anomaly score of Cluster 0 is smaller than that of Cluster 1, indicating Cluster 1 to be the anomaly group. The fact is that each Feature have lower means and MOA score in Cluster 0.</a></span></li></ul></li><li><span><a href=\"#5.-Conclusion\" data-toc-modified-id=\"5.-Conclusion-7\">5. Conclusion</a></span><ul class=\"toc-item\"><li><span><a href=\"#Business-Insight\" data-toc-modified-id=\"Business-Insight-7.1\">Business Insight</a></span></li><li><span><a href=\"#Limitation\" data-toc-modified-id=\"Limitation-7.2\">Limitation</a></span></li></ul></li></ul></div>"
   ]
  },
  {
   "cell_type": "markdown",
   "id": "5107a3a9",
   "metadata": {},
   "source": [
    "# 1.1 Data Preparation"
   ]
  },
  {
   "cell_type": "code",
   "execution_count": 4,
   "id": "b92c5412",
   "metadata": {},
   "outputs": [],
   "source": [
    "# !pip install pyod\n",
    "# !pip install combo"
   ]
  },
  {
   "cell_type": "code",
   "execution_count": 57,
   "id": "70c864c4",
   "metadata": {},
   "outputs": [],
   "source": [
    "import numpy as np\n",
    "import pandas as pd\n",
    "import matplotlib.pyplot as plt\n",
    "from pyod.utils.data import generate_data\n",
    "from pyod.models.knn import KNN\n",
    "from pyod.models.combination import aom, moa, average, maximization\n",
    "from pyod.utils.utility import standardizer"
   ]
  },
  {
   "cell_type": "code",
   "execution_count": 8,
   "id": "5c5b8215",
   "metadata": {},
   "outputs": [
    {
     "data": {
      "text/html": [
       "<div>\n",
       "<style scoped>\n",
       "    .dataframe tbody tr th:only-of-type {\n",
       "        vertical-align: middle;\n",
       "    }\n",
       "\n",
       "    .dataframe tbody tr th {\n",
       "        vertical-align: top;\n",
       "    }\n",
       "\n",
       "    .dataframe thead th {\n",
       "        text-align: right;\n",
       "    }\n",
       "</style>\n",
       "<table border=\"1\" class=\"dataframe\">\n",
       "  <thead>\n",
       "    <tr style=\"text-align: right;\">\n",
       "      <th></th>\n",
       "      <th>Year-Month</th>\n",
       "      <th>Agency Number</th>\n",
       "      <th>Agency Name</th>\n",
       "      <th>Cardholder Last Name</th>\n",
       "      <th>Cardholder First Initial</th>\n",
       "      <th>Description</th>\n",
       "      <th>Amount</th>\n",
       "      <th>Vendor</th>\n",
       "      <th>Transaction Date</th>\n",
       "      <th>Posted Date</th>\n",
       "      <th>Merchant Category Code (MCC)</th>\n",
       "    </tr>\n",
       "  </thead>\n",
       "  <tbody>\n",
       "    <tr>\n",
       "      <th>0</th>\n",
       "      <td>201307</td>\n",
       "      <td>1000</td>\n",
       "      <td>OKLAHOMA STATE UNIVERSITY</td>\n",
       "      <td>Mason</td>\n",
       "      <td>C</td>\n",
       "      <td>GENERAL PURCHASE</td>\n",
       "      <td>890.00</td>\n",
       "      <td>NACAS</td>\n",
       "      <td>07/30/2013 12:00:00 AM</td>\n",
       "      <td>07/31/2013 12:00:00 AM</td>\n",
       "      <td>CHARITABLE AND SOCIAL SERVICE ORGANIZATIONS</td>\n",
       "    </tr>\n",
       "    <tr>\n",
       "      <th>1</th>\n",
       "      <td>201307</td>\n",
       "      <td>1000</td>\n",
       "      <td>OKLAHOMA STATE UNIVERSITY</td>\n",
       "      <td>Mason</td>\n",
       "      <td>C</td>\n",
       "      <td>ROOM CHARGES</td>\n",
       "      <td>368.96</td>\n",
       "      <td>SHERATON HOTEL</td>\n",
       "      <td>07/30/2013 12:00:00 AM</td>\n",
       "      <td>07/31/2013 12:00:00 AM</td>\n",
       "      <td>SHERATON</td>\n",
       "    </tr>\n",
       "    <tr>\n",
       "      <th>2</th>\n",
       "      <td>201307</td>\n",
       "      <td>1000</td>\n",
       "      <td>OKLAHOMA STATE UNIVERSITY</td>\n",
       "      <td>Massey</td>\n",
       "      <td>J</td>\n",
       "      <td>GENERAL PURCHASE</td>\n",
       "      <td>165.82</td>\n",
       "      <td>SEARS.COM 9300</td>\n",
       "      <td>07/29/2013 12:00:00 AM</td>\n",
       "      <td>07/31/2013 12:00:00 AM</td>\n",
       "      <td>DIRCT MARKETING/DIRCT MARKETERS--NOT ELSEWHERE...</td>\n",
       "    </tr>\n",
       "    <tr>\n",
       "      <th>3</th>\n",
       "      <td>201307</td>\n",
       "      <td>1000</td>\n",
       "      <td>OKLAHOMA STATE UNIVERSITY</td>\n",
       "      <td>Massey</td>\n",
       "      <td>T</td>\n",
       "      <td>GENERAL PURCHASE</td>\n",
       "      <td>96.39</td>\n",
       "      <td>WAL-MART #0137</td>\n",
       "      <td>07/30/2013 12:00:00 AM</td>\n",
       "      <td>07/31/2013 12:00:00 AM</td>\n",
       "      <td>GROCERY STORES,AND SUPERMARKETS</td>\n",
       "    </tr>\n",
       "    <tr>\n",
       "      <th>4</th>\n",
       "      <td>201307</td>\n",
       "      <td>1000</td>\n",
       "      <td>OKLAHOMA STATE UNIVERSITY</td>\n",
       "      <td>Mauro-Herrera</td>\n",
       "      <td>M</td>\n",
       "      <td>HAMMERMILL COPY PLUS COPY EA</td>\n",
       "      <td>125.96</td>\n",
       "      <td>STAPLES DIRECT</td>\n",
       "      <td>07/30/2013 12:00:00 AM</td>\n",
       "      <td>07/31/2013 12:00:00 AM</td>\n",
       "      <td>STATIONERY, OFFICE SUPPLIES, PRINTING AND WRIT...</td>\n",
       "    </tr>\n",
       "  </tbody>\n",
       "</table>\n",
       "</div>"
      ],
      "text/plain": [
       "   Year-Month  Agency Number                Agency Name Cardholder Last Name  \\\n",
       "0      201307           1000  OKLAHOMA STATE UNIVERSITY                Mason   \n",
       "1      201307           1000  OKLAHOMA STATE UNIVERSITY                Mason   \n",
       "2      201307           1000  OKLAHOMA STATE UNIVERSITY               Massey   \n",
       "3      201307           1000  OKLAHOMA STATE UNIVERSITY               Massey   \n",
       "4      201307           1000  OKLAHOMA STATE UNIVERSITY        Mauro-Herrera   \n",
       "\n",
       "  Cardholder First Initial                   Description  Amount  \\\n",
       "0                        C              GENERAL PURCHASE  890.00   \n",
       "1                        C                  ROOM CHARGES  368.96   \n",
       "2                        J              GENERAL PURCHASE  165.82   \n",
       "3                        T              GENERAL PURCHASE   96.39   \n",
       "4                        M  HAMMERMILL COPY PLUS COPY EA  125.96   \n",
       "\n",
       "           Vendor        Transaction Date             Posted Date  \\\n",
       "0           NACAS  07/30/2013 12:00:00 AM  07/31/2013 12:00:00 AM   \n",
       "1  SHERATON HOTEL  07/30/2013 12:00:00 AM  07/31/2013 12:00:00 AM   \n",
       "2  SEARS.COM 9300  07/29/2013 12:00:00 AM  07/31/2013 12:00:00 AM   \n",
       "3  WAL-MART #0137  07/30/2013 12:00:00 AM  07/31/2013 12:00:00 AM   \n",
       "4  STAPLES DIRECT  07/30/2013 12:00:00 AM  07/31/2013 12:00:00 AM   \n",
       "\n",
       "                        Merchant Category Code (MCC)  \n",
       "0        CHARITABLE AND SOCIAL SERVICE ORGANIZATIONS  \n",
       "1                                           SHERATON  \n",
       "2  DIRCT MARKETING/DIRCT MARKETERS--NOT ELSEWHERE...  \n",
       "3                    GROCERY STORES,AND SUPERMARKETS  \n",
       "4  STATIONERY, OFFICE SUPPLIES, PRINTING AND WRIT...  "
      ]
     },
     "execution_count": 8,
     "metadata": {},
     "output_type": "execute_result"
    }
   ],
   "source": [
    "# Import the dataset\n",
    "path = '/Users/gyr/Desktop/5420_Anomaly detection/2 Fraud in financial instition/Assignment2/' \n",
    "df = pd.read_csv(path + 'purchase_credit_card.csv')    \n",
    "df.head(5)  "
   ]
  },
  {
   "cell_type": "code",
   "execution_count": 9,
   "id": "e60c2c30",
   "metadata": {},
   "outputs": [],
   "source": [
    "# Change column names \n",
    "df.columns = ['Year_Month', 'Agency_Number', 'Agency_Name', 'Cardholder_Last_Name',\n",
    "              'Cardholder_First_Initial', 'Description', 'Amount', 'Vendor', 'Transaction_Date',\n",
    "              'Posted_Date', 'Merchant_Category']"
   ]
  },
  {
   "cell_type": "code",
   "execution_count": 10,
   "id": "f3fa2186",
   "metadata": {},
   "outputs": [
    {
     "name": "stdout",
     "output_type": "stream",
     "text": [
      "<class 'pandas.core.frame.DataFrame'>\n",
      "RangeIndex: 442458 entries, 0 to 442457\n",
      "Data columns (total 11 columns):\n",
      " #   Column                    Non-Null Count   Dtype  \n",
      "---  ------                    --------------   -----  \n",
      " 0   Year_Month                442458 non-null  int64  \n",
      " 1   Agency_Number             442458 non-null  int64  \n",
      " 2   Agency_Name               442458 non-null  object \n",
      " 3   Cardholder_Last_Name      442458 non-null  object \n",
      " 4   Cardholder_First_Initial  442458 non-null  object \n",
      " 5   Description               442458 non-null  object \n",
      " 6   Amount                    442458 non-null  float64\n",
      " 7   Vendor                    442458 non-null  object \n",
      " 8   Transaction_Date          442458 non-null  object \n",
      " 9   Posted_Date               442458 non-null  object \n",
      " 10  Merchant_Category         442458 non-null  object \n",
      "dtypes: float64(1), int64(2), object(8)\n",
      "memory usage: 37.1+ MB\n"
     ]
    }
   ],
   "source": [
    "df.info()"
   ]
  },
  {
   "cell_type": "markdown",
   "id": "d39f5706",
   "metadata": {},
   "source": [
    "# 1.2 Create Date Fields"
   ]
  },
  {
   "cell_type": "code",
   "execution_count": 11,
   "id": "7ba44007",
   "metadata": {},
   "outputs": [
    {
     "data": {
      "text/plain": [
       "Wednesday    89644\n",
       "Thursday     87537\n",
       "Tuesday      86919\n",
       "Friday       79917\n",
       "Monday       61809\n",
       "Saturday     26307\n",
       "Sunday       10325\n",
       "Name: Day_of_Week, dtype: int64"
      ]
     },
     "execution_count": 11,
     "metadata": {},
     "output_type": "execute_result"
    }
   ],
   "source": [
    "#Creating separate Year and Month columns for future feature engineering\n",
    "# Converting Transaction_Date and Posted_date from Python Object data type to datetime\n",
    "df['Transaction_Date']=pd.to_datetime(df['Transaction_Date'])\n",
    "df['Posted_Date']=pd.to_datetime(df['Posted_Date'])\n",
    "\n",
    "df['Year_Month'].dtype\n",
    "df['Year_Month']=pd.to_datetime(df['Year_Month'], format='%Y%m')\n",
    "df['Year'] = df['Year_Month'].dt.year\n",
    "df['Month'] = df['Year_Month'].dt.month\n",
    "#Creating 'Week_Number' from 'Transaction_Date'\n",
    "df['Week_Number'] = df['Transaction_Date'].dt.isocalendar().week\n",
    "\n",
    "#Creating 'Day_of_Week' from 'Transaction_Date'\n",
    "dayOfWeek={0:'Monday', 1:'Tuesday', 2:'Wednesday', 3:'Thursday', 4:'Friday', 5:'Saturday', 6:'Sunday'}\n",
    "df['Day_of_Week'] = df['Transaction_Date'].dt.dayofweek.map(dayOfWeek)\n",
    "\n",
    "df['Day_of_Week'].value_counts()"
   ]
  },
  {
   "cell_type": "code",
   "execution_count": 13,
   "id": "dfb515c9",
   "metadata": {},
   "outputs": [
    {
     "name": "stdout",
     "output_type": "stream",
     "text": [
      "<class 'pandas.core.frame.DataFrame'>\n",
      "RangeIndex: 442458 entries, 0 to 442457\n",
      "Data columns (total 15 columns):\n",
      " #   Column                    Non-Null Count   Dtype         \n",
      "---  ------                    --------------   -----         \n",
      " 0   Year_Month                442458 non-null  datetime64[ns]\n",
      " 1   Agency_Number             442458 non-null  int64         \n",
      " 2   Agency_Name               442458 non-null  object        \n",
      " 3   Cardholder_Last_Name      442458 non-null  object        \n",
      " 4   Cardholder_First_Initial  442458 non-null  object        \n",
      " 5   Description               442458 non-null  object        \n",
      " 6   Amount                    442458 non-null  float64       \n",
      " 7   Vendor                    442458 non-null  object        \n",
      " 8   Transaction_Date          442458 non-null  datetime64[ns]\n",
      " 9   Posted_Date               442458 non-null  datetime64[ns]\n",
      " 10  Merchant_Category         442458 non-null  object        \n",
      " 11  Year                      442458 non-null  int64         \n",
      " 12  Month                     442458 non-null  int64         \n",
      " 13  Week_Number               442458 non-null  UInt32        \n",
      " 14  Day_of_Week               442458 non-null  object        \n",
      "dtypes: UInt32(1), datetime64[ns](3), float64(1), int64(3), object(7)\n",
      "memory usage: 49.4+ MB\n"
     ]
    }
   ],
   "source": [
    "df.info()"
   ]
  },
  {
   "cell_type": "markdown",
   "id": "f230bd47",
   "metadata": {},
   "source": [
    "# 2. Feature Engineering"
   ]
  },
  {
   "cell_type": "markdown",
   "id": "7ef4fcdf",
   "metadata": {},
   "source": [
    "## Feature 1: Ratio of amount spending and average amount by agency and merchant category"
   ]
  },
  {
   "cell_type": "code",
   "execution_count": 17,
   "id": "e00ed348",
   "metadata": {},
   "outputs": [
    {
     "data": {
      "text/plain": [
       "count    442458.000000\n",
       "mean          0.999724\n",
       "std           7.225363\n",
       "min       -2735.680000\n",
       "25%           0.177145\n",
       "50%           0.515301\n",
       "75%           1.102916\n",
       "max        2735.680000\n",
       "Name: agency_merchant_avg_ratio_amount, dtype: float64"
      ]
     },
     "execution_count": 17,
     "metadata": {},
     "output_type": "execute_result"
    }
   ],
   "source": [
    "# Create average spending group by agency and merchant category \n",
    "avg_by_agency_merchant = df.groupby(['Agency_Name', 'Merchant_Category'])['Amount'].mean()\n",
    "avg_by_agency_merchant = pd.DataFrame(avg_by_agency_merchant)\n",
    "avg_by_agency_merchant.columns = ['AVG_amount_merchant']\n",
    "avg_by_agency_merchant\n",
    "\n",
    "# Add the new average spending feature to the dataset \n",
    "df1 = pd.merge(df, avg_by_agency_merchant, how='left', on=['Agency_Name', 'Merchant_Category'])\n",
    "# Feature 1: The ratio of amount spending and average amount by agency and merchant category \n",
    "df1['agency_merchant_avg_ratio_amount'] = np.where(df1['AVG_amount_merchant']==0,0, df1['Amount'] / df1['AVG_amount_merchant'])\n",
    "df1['agency_merchant_avg_ratio_amount'].describe()"
   ]
  },
  {
   "cell_type": "markdown",
   "id": "ca647245",
   "metadata": {},
   "source": [
    "## Feature 2: Ratio of amount spending and median amount by agency and merchant category"
   ]
  },
  {
   "cell_type": "code",
   "execution_count": 19,
   "id": "5cb1043b",
   "metadata": {},
   "outputs": [
    {
     "data": {
      "text/plain": [
       "count    442458.000000\n",
       "mean          4.952685\n",
       "std        1078.581350\n",
       "min       -1003.176471\n",
       "25%           0.466090\n",
       "50%           1.000000\n",
       "75%           2.121102\n",
       "max      528116.052705\n",
       "Name: agency_merchant_median_ratio_amount, dtype: float64"
      ]
     },
     "execution_count": 19,
     "metadata": {},
     "output_type": "execute_result"
    }
   ],
   "source": [
    "# Create median spending group by agency and merchant category \n",
    "median_by_agency_merchant = df.groupby(['Agency_Name', 'Merchant_Category'])['Amount'].median() \n",
    "median_by_agency_merchant = pd.DataFrame(median_by_agency_merchant)\n",
    "median_by_agency_merchant.columns = ['Median_amount_merchant']\n",
    "\n",
    "# Add the new median spending feature to the dataset \n",
    "df2 = pd.merge(df, median_by_agency_merchant, how='left', on=['Agency_Name', 'Merchant_Category'])\n",
    "\n",
    "# Feature 2: The ratio of amount spending and median amount by agency and merchant category\n",
    "df2['agency_merchant_median_ratio_amount'] = np.where(df2['Median_amount_merchant']==0, 0, df2['Amount'] / df2['Median_amount_merchant'])\n",
    "df2['agency_merchant_median_ratio_amount'].describe()"
   ]
  },
  {
   "cell_type": "markdown",
   "id": "5765878f",
   "metadata": {},
   "source": [
    "## Feature 3: The ratio to average amount spent per transaction over a month on all transactions"
   ]
  },
  {
   "cell_type": "code",
   "execution_count": 20,
   "id": "8fe2a66e",
   "metadata": {},
   "outputs": [],
   "source": [
    "# create average spending group by agency, merchant category and month\n",
    "stat_by_agency = df.groupby(['Agency_Name', 'Merchant_Category','Month'])['Amount'].mean()\n",
    "stat_by_agency = pd.DataFrame(stat_by_agency)\n",
    "stat_by_agency.columns = ['AVG_month_amount']\n",
    "\n",
    "# add the new feature average spending to the dataset \n",
    "df3 = pd.merge(df, stat_by_agency, how='left', on=['Agency_Name', 'Merchant_Category','Month'])\n",
    "\n",
    "df3['agency_merchant_month_avg_ratio_amount'] = np.where(df3['AVG_month_amount']==0,0, df3['Amount'] / df3['AVG_month_amount'])"
   ]
  },
  {
   "cell_type": "markdown",
   "id": "b5bad06f",
   "metadata": {},
   "source": [
    "## Feature 4: The ratio to the median amount spent per transaction over a month on all transactions"
   ]
  },
  {
   "cell_type": "code",
   "execution_count": 21,
   "id": "5be6f981",
   "metadata": {},
   "outputs": [],
   "source": [
    "# create average spending group by agency, merchant category and month\n",
    "stat_by_agency = df.groupby(['Agency_Name', 'Merchant_Category','Month'])['Amount'].median() \n",
    "stat_by_agency = pd.DataFrame(stat_by_agency)\n",
    "stat_by_agency.columns = ['Median_month_amount']\n",
    "\n",
    "# add the new feature average spending to the dataset \n",
    "df4 = pd.merge(df, stat_by_agency, how='left', on=['Agency_Name', 'Merchant_Category','Month'])\n",
    "\n",
    "df4['agency_merchant_month_median_ratio_amount'] = np.where(df4['Median_month_amount']==0,0, df4['Amount'] / df4['Median_month_amount'])"
   ]
  },
  {
   "cell_type": "markdown",
   "id": "fdaad3dc",
   "metadata": {},
   "source": [
    "## Feature 5: The ratio to average amount spent per transaction over day of week on all transactions"
   ]
  },
  {
   "cell_type": "code",
   "execution_count": 22,
   "id": "e9062c41",
   "metadata": {},
   "outputs": [],
   "source": [
    "# create average spending group by agency,merchant category, month and day of week\n",
    "stat_by_agency = df.groupby(['Agency_Name', 'Merchant_Category','Month','Day_of_Week'])['Amount'].mean()\n",
    "stat_by_agency = pd.DataFrame(stat_by_agency)\n",
    "\n",
    "colName = 'AVG_month_week_amount'\n",
    "stat_by_agency.columns = [colName]\n",
    "\n",
    "# add the new feature average spending to the dataset \n",
    "df5 = pd.merge(df, stat_by_agency, how='left', on=['Agency_Name', 'Merchant_Category','Month','Day_of_Week'])\n",
    "\n",
    "colRatioName = 'agency_merchant_month_week_avg_ratio_amount'\n",
    "df5[colRatioName] = np.where(df5[colName]==0,0, df5['Amount'] / df5[colName])"
   ]
  },
  {
   "cell_type": "markdown",
   "id": "47280f5e",
   "metadata": {},
   "source": [
    "## Feature 6: The ratio to median amount spent per transaction over day of week on all transactions"
   ]
  },
  {
   "cell_type": "code",
   "execution_count": 174,
   "id": "f29c2d76",
   "metadata": {},
   "outputs": [],
   "source": [
    "# create average spending group by agency, merchant category, month and day of week\n",
    "stat_by_agency = df.groupby(['Agency_Name', 'Merchant_Category','Month','Day_of_Week'])['Amount'].median() \n",
    "stat_by_agency = pd.DataFrame(stat_by_agency)\n",
    "\n",
    "colName = 'Median_month_week_amount'\n",
    "stat_by_agency.columns = [colName]\n",
    "\n",
    "# add the new feature average spending to the dataset \n",
    "df6 = pd.merge(df, stat_by_agency, how='left', on=['Agency_Name', 'Merchant_Category','Month','Day_of_Week'])\n",
    "\n",
    "colRatioName = 'agency_merchant_month_week_median_ratio_amount'\n",
    "df6[colRatioName] = np.where(df6[colName]==0,0, df6['Amount'] / df6[colName])"
   ]
  },
  {
   "cell_type": "markdown",
   "id": "ad0f6da7",
   "metadata": {},
   "source": [
    "## Feature 7: The ratio to average amount spent per transaction over a week on all transactions"
   ]
  },
  {
   "cell_type": "code",
   "execution_count": 24,
   "id": "f2cd328e",
   "metadata": {},
   "outputs": [],
   "source": [
    "# create average spending group by agency, merchant category and week number\n",
    "stat_by_agency = df.groupby(['Agency_Name','Merchant_Category','Week_Number'])['Amount'].mean()\n",
    "stat_by_agency = pd.DataFrame(stat_by_agency)\n",
    "\n",
    "colName = 'AVG_week_amount'\n",
    "stat_by_agency.columns = [colName]\n",
    "\n",
    "# add the new feature average spending to the dataset \n",
    "df7 = pd.merge(df, stat_by_agency, how='left', on=['Agency_Name','Merchant_Category','Week_Number'])\n",
    "\n",
    "colRatioName = 'agency_Merchant_week_avg_ratio_amount'\n",
    "df7[colRatioName] = np.where(df7[colName]==0,0, df7['Amount'] / df7[colName])"
   ]
  },
  {
   "cell_type": "markdown",
   "id": "c765b014",
   "metadata": {},
   "source": [
    "## Feature 8: The ratio to median amount spent per transaction over a week on all transactions"
   ]
  },
  {
   "cell_type": "code",
   "execution_count": 25,
   "id": "384242e7",
   "metadata": {},
   "outputs": [],
   "source": [
    "# create average spending group by agency, merchant category and week number\n",
    "stat_by_agency = df.groupby(['Agency_Name', 'Merchant_Category','Week_Number'])['Amount'].median() \n",
    "stat_by_agency = pd.DataFrame(stat_by_agency)\n",
    "\n",
    "colName = 'Median_week_amount'\n",
    "stat_by_agency.columns = [colName]\n",
    "\n",
    "# add the new feature average spending to the dataset \n",
    "df8 = pd.merge(df, stat_by_agency, how='left', on=['Agency_Name', 'Merchant_Category','Week_Number'])\n",
    "\n",
    "colRatioName = 'agency_merchant_week_median_ratio_amount'\n",
    "df8[colRatioName] = np.where(df8[colName]==0,0, df8['Amount'] / df8[colName])"
   ]
  },
  {
   "cell_type": "markdown",
   "id": "10412a3c",
   "metadata": {},
   "source": [
    "## Feature 9: The ratio of average personal monthly spending on same merchant to the average spending on all same merchant transaction"
   ]
  },
  {
   "cell_type": "code",
   "execution_count": 34,
   "id": "4435049f",
   "metadata": {},
   "outputs": [],
   "source": [
    "# create average spending group by agency and merchant category \n",
    "stat_by_agency = df.groupby(['Agency_Name', 'Merchant_Category'])['Amount'].mean()\n",
    "stat_by_agency = pd.DataFrame(stat_by_agency)\n",
    "stat_by_agency.columns = ['AVG_amount']\n",
    "\n",
    "# create average spending group by cardholder, agency and merchant category \n",
    "stat_by_cust = df.groupby(['Cardholder_Last_Name', 'Cardholder_First_Initial','Agency_Name','Merchant_Category'])['Amount'].mean()\n",
    "stat_by_cust = pd.DataFrame(stat_by_cust)\n",
    "stat_by_cust.columns = ['AVG_amount_cust']\n",
    "\n",
    "# add the new feature average spending to the dataset \n",
    "df9 = pd.merge(df, stat_by_agency, how='left', on=['Agency_Name', 'Merchant_Category'])\n",
    "df9 = pd.merge(df9, stat_by_cust, how='left', on=['Cardholder_Last_Name', 'Cardholder_First_Initial','Agency_Name','Merchant_Category'])\n",
    "colRatioName = 'agency_merchant_cust_avg_ratio_amount'\n",
    "df9[colRatioName] = np.where(df9['AVG_amount']==0,0, df9['AVG_amount_cust'] / df9['AVG_amount'])"
   ]
  },
  {
   "cell_type": "markdown",
   "id": "da3999a2",
   "metadata": {},
   "source": [
    "## Feature 10: The ratio of median personal monthly spending on same merchant to the median spending on all same merchant transaction"
   ]
  },
  {
   "cell_type": "code",
   "execution_count": 35,
   "id": "9bb980e5",
   "metadata": {},
   "outputs": [],
   "source": [
    "# create median spending group by agency and merchant category \n",
    "stat_by_agency = df.groupby(['Agency_Name', 'Merchant_Category'])['Amount'].median()\n",
    "stat_by_agency = pd.DataFrame(stat_by_agency)\n",
    "stat_by_agency.columns = ['median_amount']\n",
    "# create median spending group by cardholder, agency and merchant category \n",
    "stat_by_cust = df.groupby(['Cardholder_Last_Name', 'Cardholder_First_Initial','Agency_Name','Merchant_Category'])['Amount'].median()\n",
    "stat_by_cust = pd.DataFrame(stat_by_cust)\n",
    "stat_by_cust.columns = ['median_amount_cust']\n",
    "\n",
    "# add the new feature average spending to the dataset \n",
    "df10 = pd.merge(df, stat_by_agency, how='left', on=['Agency_Name', 'Merchant_Category'])\n",
    "df10 = pd.merge(df10, stat_by_cust, how='left', on=['Cardholder_Last_Name', 'Cardholder_First_Initial','Agency_Name','Merchant_Category'])\n",
    "colRatioName = 'agency_merchant_cust_median_ratio_amount'\n",
    "df10[colRatioName] = np.where(df10['median_amount']==0,0, df10['median_amount_cust'] / df10['median_amount'])\n"
   ]
  },
  {
   "cell_type": "markdown",
   "id": "806f30d1",
   "metadata": {},
   "source": [
    "## Revised Feature 11: Average amounts per day in the past 1 week by agency and cardholder"
   ]
  },
  {
   "cell_type": "code",
   "execution_count": 28,
   "id": "f010d53a",
   "metadata": {},
   "outputs": [
    {
     "data": {
      "text/plain": [
       "count    442458.000000\n",
       "mean       1101.666009\n",
       "std        4368.497208\n",
       "min       -7208.428571\n",
       "25%          53.255000\n",
       "50%         203.076429\n",
       "75%         705.565714\n",
       "max      271979.767143\n",
       "Name: agency_cardholder_avg_amount_perDay_1Week, dtype: float64"
      ]
     },
     "execution_count": 28,
     "metadata": {},
     "output_type": "execute_result"
    }
   ],
   "source": [
    "# Calculate total transaction amounts group by agency, cardholder, and date\n",
    "# Group by date, and calculate the total amounts\n",
    "amount_avg_daily_cardholder_1W = df.groupby(['Agency_Name','Cardholder_Last_Name','Cardholder_First_Initial',\\\n",
    "                                             'Transaction_Date'])['Amount'].\\\n",
    "                                    agg(Sum='sum')\n",
    "amount_avg_daily_cardholder_1W = pd.DataFrame(amount_avg_daily_cardholder_1W)\n",
    "amount_avg_daily_cardholder_1W.reset_index(inplace=True)\n",
    "\n",
    "# Calculate total transaction amounts group by agency and cardholder for the past 1 week\n",
    "# Group by cardholder, and calculate rolling total amounts\n",
    "amount_avg_daily_cardholder_1W = amount_avg_daily_cardholder_1W.groupby(['Agency_Name','Cardholder_Last_Name',\\\n",
    "                                                                         'Cardholder_First_Initial']).\\\n",
    "                                                                rolling('7D', on='Transaction_Date').agg({'Sum':'sum'})\n",
    "amount_avg_daily_cardholder_1W = pd.DataFrame(amount_avg_daily_cardholder_1W)\n",
    "\n",
    "# Calculate the average amounts per day in the past 1 week\n",
    "# Divide the total amounts by 7\n",
    "amount_avg_daily_cardholder_1W['agency_cardholder_avg_amount_perDay_1Week'] = amount_avg_daily_cardholder_1W.Sum/7\n",
    "\n",
    "amount_avg_daily_cardholder_1W\n",
    "\n",
    "\n",
    "df11 = pd.merge(df, amount_avg_daily_cardholder_1W, how='left',\\\n",
    "                on=['Agency_Name','Cardholder_Last_Name','Cardholder_First_Initial', 'Transaction_Date'])\n",
    "\n",
    "df11['agency_cardholder_avg_amount_perDay_1Week'].describe()"
   ]
  },
  {
   "cell_type": "code",
   "execution_count": 170,
   "id": "8f082aee",
   "metadata": {},
   "outputs": [],
   "source": [
    "# Add the feature 11 to the dataset\n",
    "# Feature 11: Average amounts per day in the past 1 week by agency and cardholder\n",
    "df11 = pd.merge(df, amount_avg_daily_cardholder_1W, how='left',\\\n",
    "                on=['Agency_Name','Cardholder_Last_Name','Cardholder_First_Initial', 'Transaction_Date'])"
   ]
  },
  {
   "cell_type": "code",
   "execution_count": 171,
   "id": "aad9db83",
   "metadata": {},
   "outputs": [],
   "source": [
    "# Cut by percentile for plotting\n",
    "var = 'agency_cardholder_avg_amount_perDay_1Week'\n",
    "binned_var = var + '_D'\n",
    "percentile = [0,0.05,0.2,0.5,0.8,0.95,0.99,1]\n",
    "df11[binned_var] = pd.qcut(df11[var],percentile)"
   ]
  },
  {
   "cell_type": "code",
   "execution_count": 172,
   "id": "1d998004",
   "metadata": {},
   "outputs": [
    {
     "data": {
      "text/plain": [
       "Text(0.5, 1.0, 'Figure 3.12 Distribution of agency_cardholder_avg_amount_perDay_1Week')"
      ]
     },
     "execution_count": 172,
     "metadata": {},
     "output_type": "execute_result"
    },
    {
     "data": {
      "image/png": "[encoded data removed]",
      "text/plain": [
       "<Figure size 432x288 with 1 Axes>"
      ]
     },
     "metadata": {
      "needs_background": "light"
     },
     "output_type": "display_data"
    }
   ],
   "source": [
    "# Plot the distribution\n",
    "import seaborn as sns\n",
    "plt.figure(figsize=(6,4))\n",
    "g = sns.countplot(x=\"agency_cardholder_avg_amount_perDay_1Week_D\", data=df11)\n",
    "g.set_xticklabels(g.get_xticklabels(), rotation=90)\n",
    "plt.title('Figure 3.12 Distribution of agency_cardholder_avg_amount_perDay_1Week')"
   ]
  },
  {
   "cell_type": "markdown",
   "id": "773496fa",
   "metadata": {},
   "source": [
    "## Revised Feature 12: Average amounts per day in the past 1 month by agency and cardholder"
   ]
  },
  {
   "cell_type": "code",
   "execution_count": 29,
   "id": "167c6195",
   "metadata": {},
   "outputs": [
    {
     "data": {
      "text/plain": [
       "count    442458.000000\n",
       "mean        940.307840\n",
       "std        3450.731308\n",
       "min       -1193.519333\n",
       "25%          48.281750\n",
       "50%         165.935333\n",
       "75%         538.476417\n",
       "max      118293.621333\n",
       "Name: agency_cardholder_avg_amount_perDay_1Month, dtype: float64"
      ]
     },
     "execution_count": 29,
     "metadata": {},
     "output_type": "execute_result"
    }
   ],
   "source": [
    "# Calculate total transaction amounts group by agency, cardholder, and date\n",
    "# Group by date, and calculate the total amounts\n",
    "amount_avg_daily_cardholder_1M = df.groupby(['Agency_Name','Cardholder_Last_Name','Cardholder_First_Initial',\\\n",
    "                                             'Transaction_Date'])['Amount'].\\\n",
    "                                    agg(Sum='sum')\n",
    "amount_avg_daily_cardholder_1M = pd.DataFrame(amount_avg_daily_cardholder_1M)\n",
    "amount_avg_daily_cardholder_1M.reset_index(inplace=True)\n",
    "\n",
    "# Calculate total transaction amounts group by agency and cardholder for the past 1 month\n",
    "# Group by cardholder, and calculate rolling total amounts\n",
    "amount_avg_daily_cardholder_1M = amount_avg_daily_cardholder_1M.groupby(['Agency_Name','Cardholder_Last_Name',\\\n",
    "                                                                         'Cardholder_First_Initial']).\\\n",
    "                                                                rolling('30D', on='Transaction_Date').agg({'Sum':'sum'})\n",
    "amount_avg_daily_cardholder_1M = pd.DataFrame(amount_avg_daily_cardholder_1M)\n",
    "\n",
    "# Calculate the average amounts per day in the past 1 month\n",
    "# Divide the total amounts by 30\n",
    "amount_avg_daily_cardholder_1M['agency_cardholder_avg_amount_perDay_1Month'] = amount_avg_daily_cardholder_1M.Sum/30\n",
    "\n",
    "amount_avg_daily_cardholder_1M\n",
    "\n",
    "df12 = pd.merge(df, amount_avg_daily_cardholder_1M, how='left', \\\n",
    "                on=['Agency_Name','Cardholder_Last_Name','Cardholder_First_Initial', 'Transaction_Date'])\n",
    "\n",
    "df12['agency_cardholder_avg_amount_perDay_1Month'].describe()"
   ]
  },
  {
   "cell_type": "code",
   "execution_count": 167,
   "id": "c6d55215",
   "metadata": {},
   "outputs": [],
   "source": [
    "# Add the feature 12 to the dataset\n",
    "# Feature 12: Average amounts per day in the past 1 month by agency and cardholder\n",
    "df12 = pd.merge(df, amount_avg_daily_cardholder_1M, how='left', \\\n",
    "                on=['Agency_Name','Cardholder_Last_Name','Cardholder_First_Initial', 'Transaction_Date'])"
   ]
  },
  {
   "cell_type": "code",
   "execution_count": 168,
   "id": "9b8c4bc2",
   "metadata": {},
   "outputs": [],
   "source": [
    "# Cut by percentile for plotting\n",
    "var = 'agency_cardholder_avg_amount_perDay_1Month'\n",
    "binned_var = var + '_D'\n",
    "percentile = [0,0.05,0.2,0.5,0.8,0.95,0.99,1]\n",
    "df12[binned_var] = pd.qcut(df12[var],percentile)"
   ]
  },
  {
   "cell_type": "code",
   "execution_count": 173,
   "id": "5de7d34c",
   "metadata": {},
   "outputs": [
    {
     "data": {
      "text/plain": [
       "Text(0.5, 1.0, 'Figure 3.13 Distribution of agency_cardholder_avg_amount_perDay_1Month')"
      ]
     },
     "execution_count": 173,
     "metadata": {},
     "output_type": "execute_result"
    },
    {
     "data": {
      "image/png": "[encoded data removed]",
      "text/plain": [
       "<Figure size 432x288 with 1 Axes>"
      ]
     },
     "metadata": {
      "needs_background": "light"
     },
     "output_type": "display_data"
    }
   ],
   "source": [
    "# Plot the distribution\n",
    "plt.figure(figsize=(6,4))\n",
    "g = sns.countplot(x=\"agency_cardholder_avg_amount_perDay_1Month_D\", data=df12)\n",
    "g.set_xticklabels(g.get_xticklabels(), rotation=90)\n",
    "plt.title('Figure 3.13 Distribution of agency_cardholder_avg_amount_perDay_1Month')"
   ]
  },
  {
   "cell_type": "markdown",
   "id": "55f5abc4",
   "metadata": {},
   "source": [
    "## Feature 13: Number of transactions in the same day by agency and cardholder"
   ]
  },
  {
   "cell_type": "code",
   "execution_count": 175,
   "id": "902203d5",
   "metadata": {},
   "outputs": [],
   "source": [
    "# Calculate number of transactions grouped by agency, cardholder, and date\n",
    "# Group by cardholder and date, and count the records\n",
    "amount_count_cardholder_sameday = df.groupby(['Agency_Name','Cardholder_Last_Name','Cardholder_First_Initial','Transaction_Date'])['Amount'].\\\n",
    "                                     agg(Count='count')\n",
    "\n",
    "amount_count_cardholder_sameday = pd.DataFrame(amount_count_cardholder_sameday)\n",
    "amount_count_cardholder_sameday.columns = ['agency_cardholder_total_count_sameDay']\n",
    "\n",
    "amount_count_cardholder_sameday\n",
    "df13 = pd.merge(df, amount_count_cardholder_sameday, how='left',\\\n",
    "               on=['Agency_Name', 'Cardholder_Last_Name', 'Cardholder_First_Initial','Transaction_Date'])\n"
   ]
  },
  {
   "cell_type": "markdown",
   "id": "ee9a44b6",
   "metadata": {},
   "source": [
    "## Feature 14: Number of transactions in the past 1 month by agency, cardholder, and merchant category"
   ]
  },
  {
   "cell_type": "code",
   "execution_count": 176,
   "id": "7474059c",
   "metadata": {},
   "outputs": [],
   "source": [
    "# Calculate number of transactions group by agency, cardholder, merchant category, and date\n",
    "# Group by date, and count the records\n",
    "amount_count_cardholder_merchant_1M = df.groupby(['Agency_Name','Cardholder_Last_Name','Cardholder_First_Initial',\\\n",
    "                                                  'Merchant_Category','Transaction_Date'])['Amount'].agg(Count='count')\n",
    "amount_count_cardholder_merchant_1M = pd.DataFrame(amount_count_cardholder_merchant_1M)\n",
    "amount_count_cardholder_merchant_1M.reset_index(inplace=True)\n",
    "\n",
    "# Calculate number of transactions group by agency, cardholder, and merchant category for the past 1 month\n",
    "# Group by cardholder and merchant category, and calculate rolling total counts\n",
    "amount_count_cardholder_merchant_1M = amount_count_cardholder_merchant_1M.groupby(['Agency_Name','Cardholder_Last_Name',\\\n",
    "                                                                                   'Cardholder_First_Initial','Merchant_Category']).\\\n",
    "                                                                          rolling('30D', on='Transaction_Date').agg({'Count':'sum'})\n",
    "\n",
    "amount_count_cardholder_merchant_1M = pd.DataFrame(amount_count_cardholder_merchant_1M)\n",
    "amount_count_cardholder_merchant_1M.columns = ['agency_cardholder_merchant_total_count_1Month']\n",
    "\n",
    "amount_count_cardholder_merchant_1M\n",
    "\n",
    "\n",
    "df14 = pd.merge(df, amount_count_cardholder_merchant_1M, \n",
    "                how='left', on=['Agency_Name', 'Cardholder_Last_Name','Cardholder_First_Initial',\\\n",
    "                                                                        'Merchant_Category','Transaction_Date'])"
   ]
  },
  {
   "cell_type": "markdown",
   "id": "276a448e",
   "metadata": {},
   "source": [
    "## Feature 15: The ratio of average personal monthly spending on same merchant to the average spending on all same merchant transaction over week"
   ]
  },
  {
   "cell_type": "code",
   "execution_count": 32,
   "id": "42ebfb8f",
   "metadata": {},
   "outputs": [],
   "source": [
    "# create average spending group by agency, merchant category and week number\n",
    "stat_by_agency = df.groupby(['Agency_Name', 'Merchant_Category','Week_Number'])['Amount'].mean()\n",
    "stat_by_agency = pd.DataFrame(stat_by_agency)\n",
    "stat_by_agency.columns = ['AVG_weekNum_amount']\n",
    "# create average spending group by cardholder, agency and merchant category \n",
    "stat_by_cust = df.groupby(['Cardholder_Last_Name', 'Cardholder_First_Initial','Agency_Name','Merchant_Category','Week_Number'])['Amount'].mean()\n",
    "stat_by_cust = pd.DataFrame(stat_by_cust)\n",
    "stat_by_cust.columns = ['AVG_weekNum_amount_cust']\n",
    "\n",
    "# add the new feature average spending to the dataset \n",
    "df15 = pd.merge(df, stat_by_agency, how='left', on=['Agency_Name', 'Merchant_Category','Week_Number'])\n",
    "df15 = pd.merge(df15, stat_by_cust, how='left', on=['Cardholder_Last_Name', 'Cardholder_First_Initial','Agency_Name','Merchant_Category','Week_Number'])\n",
    "colRatioName = 'agency_merchant_cust_weekNum_avg_ratio_amount'\n",
    "df15[colRatioName] = np.where(df15['AVG_weekNum_amount']==0,0, df15['AVG_weekNum_amount_cust'] / df15['AVG_weekNum_amount'])"
   ]
  },
  {
   "cell_type": "markdown",
   "id": "5d3f05fc",
   "metadata": {},
   "source": [
    "## Feature 16: The ratio of median personal monthly spending on same merchant to the average spending on all same merchant transaction over week"
   ]
  },
  {
   "cell_type": "code",
   "execution_count": 33,
   "id": "62a46fd6",
   "metadata": {},
   "outputs": [],
   "source": [
    "# create median spending group by agency, merchant category and week number\n",
    "stat_by_agency = df.groupby(['Agency_Name', 'Merchant_Category','Week_Number'])['Amount'].median()\n",
    "stat_by_agency = pd.DataFrame(stat_by_agency)\n",
    "stat_by_agency.columns = ['median_weekNum_amount']\n",
    "# create median spending group by cardholder, agency and merchant category \n",
    "stat_by_cust = df.groupby(['Cardholder_Last_Name', 'Cardholder_First_Initial','Agency_Name','Merchant_Category','Week_Number'])['Amount'].median()\n",
    "stat_by_cust = pd.DataFrame(stat_by_cust)\n",
    "stat_by_cust.columns = ['median_weekNum_amount_cust']\n",
    "\n",
    "# add the new feature median spending to the dataset \n",
    "df16 = pd.merge(df, stat_by_agency, how='left', on=['Agency_Name', 'Merchant_Category','Week_Number'])\n",
    "df16 = pd.merge(df16, stat_by_cust, how='left', on=['Cardholder_Last_Name', 'Cardholder_First_Initial','Agency_Name','Merchant_Category','Week_Number'])\n",
    "colRatioName = 'agency_merchant_cust_weekNum_median_ratio_amount'\n",
    "df16[colRatioName] = np.where(df16['median_weekNum_amount']==0,0, df16['median_weekNum_amount_cust'] / df16['median_weekNum_amount'])"
   ]
  },
  {
   "cell_type": "markdown",
   "id": "9334af15",
   "metadata": {},
   "source": [
    "# 3. Merged dataset with New Features"
   ]
  },
  {
   "cell_type": "code",
   "execution_count": 38,
   "id": "44f5ee74",
   "metadata": {},
   "outputs": [],
   "source": [
    "df_merged = df1.merge(df2['agency_merchant_median_ratio_amount'], how='left', left_index=True, right_index=True).\\\n",
    "                merge(df3['agency_merchant_month_avg_ratio_amount'], how='left', left_index=True, right_index=True).\\\n",
    "                merge(df4['agency_merchant_month_median_ratio_amount'], how='left', left_index=True, right_index=True).\\\n",
    "                merge(df5['agency_merchant_month_week_avg_ratio_amount'], how='left', left_index=True, right_index=True).\\\n",
    "                merge(df6['agency_merchant_month_week_median_ratio_amount'], how='left', left_index=True, right_index=True).\\\n",
    "                merge(df7['agency_Merchant_week_avg_ratio_amount'], how='left', left_index=True, right_index=True).\\\n",
    "                merge(df8['agency_merchant_week_median_ratio_amount'], how='left', left_index=True, right_index=True).\\\n",
    "                merge(df9['agency_merchant_cust_avg_ratio_amount'], how='left', left_index=True, right_index=True).\\\n",
    "                merge(df10['agency_merchant_cust_median_ratio_amount'], how='left', left_index=True, right_index=True).\\\n",
    "                merge(df11['agency_cardholder_avg_amount_perDay_1Week'], how='left', left_index=True, right_index=True).\\\n",
    "                merge(df12['agency_cardholder_avg_amount_perDay_1Month'], how='left', left_index=True, right_index=True).\\\n",
    "                merge(df13['agency_cardholder_total_count_sameDay'], how='left', left_index=True, right_index=True).\\\n",
    "                merge(df14['agency_cardholder_merchant_total_count_1Month'], how='left', left_index=True, right_index=True).\\\n",
    "                merge(df15['agency_merchant_cust_weekNum_avg_ratio_amount'], how='left', left_index=True, right_index=True).\\\n",
    "                merge(df16['agency_merchant_cust_weekNum_median_ratio_amount'], how='left', left_index=True, right_index=True)\n"
   ]
  },
  {
   "cell_type": "code",
   "execution_count": 39,
   "id": "c38cfec5",
   "metadata": {},
   "outputs": [
    {
     "name": "stdout",
     "output_type": "stream",
     "text": [
      "<class 'pandas.core.frame.DataFrame'>\n",
      "Int64Index: 442458 entries, 0 to 442457\n",
      "Data columns (total 32 columns):\n",
      " #   Column                                            Non-Null Count   Dtype         \n",
      "---  ------                                            --------------   -----         \n",
      " 0   Year_Month                                        442458 non-null  datetime64[ns]\n",
      " 1   Agency_Number                                     442458 non-null  int64         \n",
      " 2   Agency_Name                                       442458 non-null  object        \n",
      " 3   Cardholder_Last_Name                              442458 non-null  object        \n",
      " 4   Cardholder_First_Initial                          442458 non-null  object        \n",
      " 5   Description                                       442458 non-null  object        \n",
      " 6   Amount                                            442458 non-null  float64       \n",
      " 7   Vendor                                            442458 non-null  object        \n",
      " 8   Transaction_Date                                  442458 non-null  datetime64[ns]\n",
      " 9   Posted_Date                                       442458 non-null  datetime64[ns]\n",
      " 10  Merchant_Category                                 442458 non-null  object        \n",
      " 11  Year                                              442458 non-null  int64         \n",
      " 12  Month                                             442458 non-null  int64         \n",
      " 13  Week_Number                                       442458 non-null  UInt32        \n",
      " 14  Day_of_Week                                       442458 non-null  object        \n",
      " 15  AVG_amount_merchant                               442458 non-null  float64       \n",
      " 16  agency_merchant_avg_ratio_amount                  442458 non-null  float64       \n",
      " 17  agency_merchant_median_ratio_amount               442458 non-null  float64       \n",
      " 18  agency_merchant_month_avg_ratio_amount            442458 non-null  float64       \n",
      " 19  agency_merchant_month_median_ratio_amount         442458 non-null  float64       \n",
      " 20  agency_merchant_month_week_avg_ratio_amount       442458 non-null  float64       \n",
      " 21  agency_merchant_month_week_median_ratio_amount    442458 non-null  float64       \n",
      " 22  agency_Merchant_week_avg_ratio_amount             442458 non-null  float64       \n",
      " 23  agency_merchant_week_median_ratio_amount          442458 non-null  float64       \n",
      " 24  agency_merchant_cust_avg_ratio_amount             442458 non-null  float64       \n",
      " 25  agency_merchant_cust_median_ratio_amount          442458 non-null  float64       \n",
      " 26  agency_cardholder_avg_amount_perDay_1Week         442458 non-null  float64       \n",
      " 27  agency_cardholder_avg_amount_perDay_1Month        442458 non-null  float64       \n",
      " 28  agency_cardholder_total_count_sameDay             442458 non-null  int64         \n",
      " 29  agency_cardholder_merchant_total_count_1Month     442458 non-null  float64       \n",
      " 30  agency_merchant_cust_weekNum_avg_ratio_amount     442458 non-null  float64       \n",
      " 31  agency_merchant_cust_weekNum_median_ratio_amount  442458 non-null  float64       \n",
      "dtypes: UInt32(1), datetime64[ns](3), float64(17), int64(4), object(7)\n",
      "memory usage: 126.3+ MB\n"
     ]
    }
   ],
   "source": [
    "df_merged.info()"
   ]
  },
  {
   "cell_type": "markdown",
   "id": "c3a7e9c5",
   "metadata": {},
   "source": [
    "# 4. Modeling"
   ]
  },
  {
   "cell_type": "markdown",
   "id": "b82d8fa7",
   "metadata": {},
   "source": [
    "## What is KNN\n",
    "\n",
    "The Euclidean distance between one observation and other observations is calculated using the unsupervised k-NN approach. There are no parameters to tune for the unsupervised KNN to improve performance. It merely determines the distances between neighbors.The distance to a point's k-th nearest neighbor is used to define the outlier score since an outlier is a point that is far from its nearby points. There will be an outlier score for each point."
   ]
  },
  {
   "cell_type": "code",
   "execution_count": 56,
   "id": "ca33ccbb",
   "metadata": {},
   "outputs": [],
   "source": [
    "# Select the column where the required 16 feature works are located\n",
    "d = df_merged.iloc[:,16:]"
   ]
  },
  {
   "cell_type": "code",
   "execution_count": 140,
   "id": "56c55408",
   "metadata": {},
   "outputs": [],
   "source": [
    "# Random sampling to reduce the file size. I choose to use 20% of sample from entire dataset.\n",
    "ds = d.sample(frac = 0.2,random_state = 1024, axis =0)"
   ]
  },
  {
   "cell_type": "code",
   "execution_count": 141,
   "id": "64320e9e",
   "metadata": {},
   "outputs": [
    {
     "name": "stdout",
     "output_type": "stream",
     "text": [
      "Original dataset characteristics： (88492, 16) \n",
      "Train dataset characteristics： (70793, 16) \n",
      "Test dataset characteristics： (17699, 16)\n"
     ]
    }
   ],
   "source": [
    "# data split\n",
    "from sklearn.model_selection import train_test_split \n",
    "X_train, X_test= train_test_split(ds , train_size=.8,random_state = 0)\n",
    "\n",
    "print ('Original dataset characteristics：',ds.shape, \n",
    "       '\\nTrain dataset characteristics：',X_train.shape,\n",
    "      '\\nTest dataset characteristics：',X_test.shape)"
   ]
  },
  {
   "cell_type": "code",
   "execution_count": 142,
   "id": "672ebca8",
   "metadata": {},
   "outputs": [],
   "source": [
    "# Standardize data\n",
    "X_train_norm, X_test_norm = standardizer(X_train, X_test)"
   ]
  },
  {
   "cell_type": "markdown",
   "id": "29b98d5b",
   "metadata": {},
   "source": [
    "## I generate 6 k-NN models and collect all the model predictions in one dataset."
   ]
  },
  {
   "cell_type": "code",
   "execution_count": 144,
   "id": "d8138796",
   "metadata": {},
   "outputs": [],
   "source": [
    "k_list = [10, 20, 50, 100, 150, 200]\n",
    "n_clf = len(k_list)\n",
    "# Just prepare data frames so we can store the model results\n",
    "train_scores = np.zeros([X_train.shape[0], n_clf])\n",
    "test_scores = np.zeros([X_test.shape[0], n_clf])\n",
    "train_scores.shape\n",
    "\n",
    "# Modeling\n",
    "for i in range(n_clf):\n",
    "    k = k_list[i]\n",
    "    clf = KNN(n_neighbors=k, method='largest')\n",
    "    clf.fit(X_train_norm)\n",
    "\n",
    "    # Store the results in each column:\n",
    "    train_scores[:, i] = clf.decision_scores_\n",
    "    test_scores[:, i] = clf.decision_function(X_test_norm) \n",
    "    \n",
    "# Decision scores have to be normalized before combination\n",
    "train_scores_norm, test_scores_norm = standardizer(train_scores,test_scores)"
   ]
  },
  {
   "cell_type": "markdown",
   "id": "ed7e31a3",
   "metadata": {},
   "source": [
    "## Combining Outlier Scores from Various Base Detectors\n"
   ]
  },
  {
   "cell_type": "markdown",
   "id": "67127960",
   "metadata": {},
   "source": [
    "## 4.1 Method 1: Average"
   ]
  },
  {
   "cell_type": "markdown",
   "id": "ae10c24c",
   "metadata": {},
   "source": [
    "\n",
    "Average : average scores of all detectors."
   ]
  },
  {
   "cell_type": "markdown",
   "id": "52f9f3b4",
   "metadata": {},
   "source": [
    "## Determine a reasonable boundary"
   ]
  },
  {
   "cell_type": "markdown",
   "id": "5f60b5aa",
   "metadata": {},
   "source": [
    "Most of the data points have low anomaly scores, hence a data point with a high anomaly score is abnormal.The histogram below shows the count by the anomaly score. "
   ]
  },
  {
   "cell_type": "code",
   "execution_count": 145,
   "id": "5a29f0d7",
   "metadata": {},
   "outputs": [
    {
     "data": {
      "image/png": "[encoded data removed]",
      "text/plain": [
       "<Figure size 432x288 with 1 Axes>"
      ]
     },
     "metadata": {
      "needs_background": "light"
     },
     "output_type": "display_data"
    }
   ],
   "source": [
    "# Combination by average\n",
    "# The \"average\" function will take the average of the 20 columns. The result \"y_by_average\" is a single column: \n",
    "y_by_average = average(test_scores_norm)\n",
    "import matplotlib.pyplot as plt\n",
    "from matplotlib.pyplot import MultipleLocator\n",
    "plt.hist(y_by_average, bins='auto') # arguments are passed to np.histogram\n",
    "plt.title(\"Combination by average\")\n",
    "\n",
    "x_major_locator=MultipleLocator(0.5)\n",
    "ax=plt.gca()\n",
    "ax.xaxis.set_major_locator(x_major_locator)\n",
    "plt.xlim(-1,5)\n",
    "\n",
    "plt.show()"
   ]
  },
  {
   "cell_type": "markdown",
   "id": "1dad2dec",
   "metadata": {},
   "source": [
    "## From this histogram, we can see that most of the data points are distributed at less than 0.5. I chose 0.5 as the cut point, so I can suggest those >= 0.5 to be outliers."
   ]
  },
  {
   "cell_type": "code",
   "execution_count": 146,
   "id": "ad8eedfc",
   "metadata": {},
   "outputs": [
    {
     "data": {
      "text/plain": [
       "0    17322\n",
       "1      377\n",
       "Name: y_by_average_cluster, dtype: int64"
      ]
     },
     "execution_count": 146,
     "metadata": {},
     "output_type": "execute_result"
    }
   ],
   "source": [
    "df_test = pd.DataFrame(X_test)\n",
    "df_test['y_by_average_score'] = y_by_average\n",
    "df_test['y_by_average_cluster'] = np.where(df_test['y_by_average_score']<0.5, 0, 1)\n",
    "df_test['y_by_average_cluster'].value_counts()"
   ]
  },
  {
   "cell_type": "markdown",
   "id": "2aaf5734",
   "metadata": {},
   "source": [
    "## In average method it identifies 377 data points that have the outlier scores higher than 0.5."
   ]
  },
  {
   "cell_type": "code",
   "execution_count": 147,
   "id": "b8188996",
   "metadata": {},
   "outputs": [
    {
     "data": {
      "text/html": [
       "<div>\n",
       "<style scoped>\n",
       "    .dataframe tbody tr th:only-of-type {\n",
       "        vertical-align: middle;\n",
       "    }\n",
       "\n",
       "    .dataframe tbody tr th {\n",
       "        vertical-align: top;\n",
       "    }\n",
       "\n",
       "    .dataframe thead th {\n",
       "        text-align: right;\n",
       "    }\n",
       "</style>\n",
       "<table border=\"1\" class=\"dataframe\">\n",
       "  <thead>\n",
       "    <tr style=\"text-align: right;\">\n",
       "      <th></th>\n",
       "      <th>agency_merchant_avg_ratio_amount</th>\n",
       "      <th>agency_merchant_median_ratio_amount</th>\n",
       "      <th>agency_merchant_month_avg_ratio_amount</th>\n",
       "      <th>agency_merchant_month_median_ratio_amount</th>\n",
       "      <th>agency_merchant_month_week_avg_ratio_amount</th>\n",
       "      <th>agency_merchant_month_week_median_ratio_amount</th>\n",
       "      <th>agency_Merchant_week_avg_ratio_amount</th>\n",
       "      <th>agency_merchant_week_median_ratio_amount</th>\n",
       "      <th>agency_merchant_cust_avg_ratio_amount</th>\n",
       "      <th>agency_merchant_cust_median_ratio_amount</th>\n",
       "      <th>agency_cardholder_avg_amount_perDay_1Week</th>\n",
       "      <th>agency_cardholder_avg_amount_perDay_1Month</th>\n",
       "      <th>agency_cardholder_total_count_sameDay</th>\n",
       "      <th>agency_cardholder_merchant_total_count_1Month</th>\n",
       "      <th>agency_merchant_cust_weekNum_avg_ratio_amount</th>\n",
       "      <th>agency_merchant_cust_weekNum_median_ratio_amount</th>\n",
       "      <th>y_by_average_score</th>\n",
       "    </tr>\n",
       "    <tr>\n",
       "      <th>y_by_average_cluster</th>\n",
       "      <th></th>\n",
       "      <th></th>\n",
       "      <th></th>\n",
       "      <th></th>\n",
       "      <th></th>\n",
       "      <th></th>\n",
       "      <th></th>\n",
       "      <th></th>\n",
       "      <th></th>\n",
       "      <th></th>\n",
       "      <th></th>\n",
       "      <th></th>\n",
       "      <th></th>\n",
       "      <th></th>\n",
       "      <th></th>\n",
       "      <th></th>\n",
       "      <th></th>\n",
       "    </tr>\n",
       "  </thead>\n",
       "  <tbody>\n",
       "    <tr>\n",
       "      <th>0</th>\n",
       "      <td>0.877634</td>\n",
       "      <td>2.003692</td>\n",
       "      <td>0.895534</td>\n",
       "      <td>1.896733</td>\n",
       "      <td>1.005321</td>\n",
       "      <td>1.759179</td>\n",
       "      <td>9.406210e-01</td>\n",
       "      <td>1.775316</td>\n",
       "      <td>0.923281</td>\n",
       "      <td>1.470183</td>\n",
       "      <td>881.032233</td>\n",
       "      <td>767.132741</td>\n",
       "      <td>5.692010</td>\n",
       "      <td>19.171689</td>\n",
       "      <td>0.949131</td>\n",
       "      <td>1.624157</td>\n",
       "      <td>-0.051237</td>\n",
       "    </tr>\n",
       "    <tr>\n",
       "      <th>1</th>\n",
       "      <td>9.817727</td>\n",
       "      <td>1314.239233</td>\n",
       "      <td>5.229187</td>\n",
       "      <td>1613.034264</td>\n",
       "      <td>3.924562</td>\n",
       "      <td>20.921352</td>\n",
       "      <td>2.552000e+15</td>\n",
       "      <td>648.483839</td>\n",
       "      <td>5.113183</td>\n",
       "      <td>14.172354</td>\n",
       "      <td>12494.197048</td>\n",
       "      <td>9939.636271</td>\n",
       "      <td>21.037135</td>\n",
       "      <td>54.183024</td>\n",
       "      <td>2.414055</td>\n",
       "      <td>645.699144</td>\n",
       "      <td>42.369330</td>\n",
       "    </tr>\n",
       "  </tbody>\n",
       "</table>\n",
       "</div>"
      ],
      "text/plain": [
       "                      agency_merchant_avg_ratio_amount  \\\n",
       "y_by_average_cluster                                     \n",
       "0                                             0.877634   \n",
       "1                                             9.817727   \n",
       "\n",
       "                      agency_merchant_median_ratio_amount  \\\n",
       "y_by_average_cluster                                        \n",
       "0                                                2.003692   \n",
       "1                                             1314.239233   \n",
       "\n",
       "                      agency_merchant_month_avg_ratio_amount  \\\n",
       "y_by_average_cluster                                           \n",
       "0                                                   0.895534   \n",
       "1                                                   5.229187   \n",
       "\n",
       "                      agency_merchant_month_median_ratio_amount  \\\n",
       "y_by_average_cluster                                              \n",
       "0                                                      1.896733   \n",
       "1                                                   1613.034264   \n",
       "\n",
       "                      agency_merchant_month_week_avg_ratio_amount  \\\n",
       "y_by_average_cluster                                                \n",
       "0                                                        1.005321   \n",
       "1                                                        3.924562   \n",
       "\n",
       "                      agency_merchant_month_week_median_ratio_amount  \\\n",
       "y_by_average_cluster                                                   \n",
       "0                                                           1.759179   \n",
       "1                                                          20.921352   \n",
       "\n",
       "                      agency_Merchant_week_avg_ratio_amount  \\\n",
       "y_by_average_cluster                                          \n",
       "0                                              9.406210e-01   \n",
       "1                                              2.552000e+15   \n",
       "\n",
       "                      agency_merchant_week_median_ratio_amount  \\\n",
       "y_by_average_cluster                                             \n",
       "0                                                     1.775316   \n",
       "1                                                   648.483839   \n",
       "\n",
       "                      agency_merchant_cust_avg_ratio_amount  \\\n",
       "y_by_average_cluster                                          \n",
       "0                                                  0.923281   \n",
       "1                                                  5.113183   \n",
       "\n",
       "                      agency_merchant_cust_median_ratio_amount  \\\n",
       "y_by_average_cluster                                             \n",
       "0                                                     1.470183   \n",
       "1                                                    14.172354   \n",
       "\n",
       "                      agency_cardholder_avg_amount_perDay_1Week  \\\n",
       "y_by_average_cluster                                              \n",
       "0                                                    881.032233   \n",
       "1                                                  12494.197048   \n",
       "\n",
       "                      agency_cardholder_avg_amount_perDay_1Month  \\\n",
       "y_by_average_cluster                                               \n",
       "0                                                     767.132741   \n",
       "1                                                    9939.636271   \n",
       "\n",
       "                      agency_cardholder_total_count_sameDay  \\\n",
       "y_by_average_cluster                                          \n",
       "0                                                  5.692010   \n",
       "1                                                 21.037135   \n",
       "\n",
       "                      agency_cardholder_merchant_total_count_1Month  \\\n",
       "y_by_average_cluster                                                  \n",
       "0                                                         19.171689   \n",
       "1                                                         54.183024   \n",
       "\n",
       "                      agency_merchant_cust_weekNum_avg_ratio_amount  \\\n",
       "y_by_average_cluster                                                  \n",
       "0                                                          0.949131   \n",
       "1                                                          2.414055   \n",
       "\n",
       "                      agency_merchant_cust_weekNum_median_ratio_amount  \\\n",
       "y_by_average_cluster                                                     \n",
       "0                                                             1.624157   \n",
       "1                                                           645.699144   \n",
       "\n",
       "                      y_by_average_score  \n",
       "y_by_average_cluster                      \n",
       "0                              -0.051237  \n",
       "1                              42.369330  "
      ]
     },
     "execution_count": 147,
     "metadata": {},
     "output_type": "execute_result"
    }
   ],
   "source": [
    "# summary statistics of the normal and abnormal clusters\n",
    "df_test.groupby('y_by_average_cluster').mean()"
   ]
  },
  {
   "cell_type": "markdown",
   "id": "1930d55f",
   "metadata": {},
   "source": [
    "## I have 16 Features here. Suppose a high value in each Feature means abnormal. The summary statistics show the average anomaly score of Cluster 0 is smaller than that of Cluster 1, indicating Cluster 1 to be the anomaly group. The fact is that each Feature have lower means and average score in Cluster 0. "
   ]
  },
  {
   "cell_type": "markdown",
   "id": "eab376c9",
   "metadata": {},
   "source": [
    "## 4.2 Method 2: The Maximum of Maximum (MOM)"
   ]
  },
  {
   "cell_type": "markdown",
   "id": "d6abe02f",
   "metadata": {},
   "source": [
    "Maximization : maximum score across all detectors."
   ]
  },
  {
   "cell_type": "code",
   "execution_count": 148,
   "id": "5d9b88a7",
   "metadata": {},
   "outputs": [
    {
     "data": {
      "image/png": "[encoded data removed]",
      "text/plain": [
       "<Figure size 432x288 with 1 Axes>"
      ]
     },
     "metadata": {
      "needs_background": "light"
     },
     "output_type": "display_data"
    }
   ],
   "source": [
    "# Combination by mom\n",
    "y_by_maximization = maximization(test_scores_norm)\n",
    "             \n",
    "import matplotlib.pyplot as plt\n",
    "plt.hist(y_by_maximization, bins='auto')  # arguments are passed to np.histogram\n",
    "plt.title(\"Combination by max\")\n",
    "\n",
    "x_major_locator=MultipleLocator(0.5)\n",
    "ax=plt.gca()\n",
    "ax.xaxis.set_major_locator(x_major_locator)\n",
    "plt.xlim(-1,5)\n",
    "\n",
    "plt.show()"
   ]
  },
  {
   "cell_type": "markdown",
   "id": "93f6ccc7",
   "metadata": {},
   "source": [
    "## From this histogram, we can see that most of the data points are distributed at less than 0.5. I chose 0.5 as the cut point, so I can suggest those >= 0.5 to be outliers."
   ]
  },
  {
   "cell_type": "code",
   "execution_count": 149,
   "id": "7f1ddbda",
   "metadata": {},
   "outputs": [
    {
     "data": {
      "text/plain": [
       "0    17196\n",
       "1      503\n",
       "Name: y_by_maximization_cluster, dtype: int64"
      ]
     },
     "execution_count": 149,
     "metadata": {},
     "output_type": "execute_result"
    }
   ],
   "source": [
    "df_test = pd.DataFrame(X_test)\n",
    "df_test['y_by_maximization_score'] = y_by_maximization\n",
    "df_test['y_by_maximization_cluster'] = np.where(df_test['y_by_maximization_score']<0.5, 0, 1)\n",
    "df_test['y_by_maximization_cluster'].value_counts()"
   ]
  },
  {
   "cell_type": "markdown",
   "id": "9f0992b9",
   "metadata": {},
   "source": [
    "## In MOM method it identifies 503 data points that have the outlier scores higher than 0.5."
   ]
  },
  {
   "cell_type": "code",
   "execution_count": 150,
   "id": "f7d680aa",
   "metadata": {},
   "outputs": [
    {
     "data": {
      "text/html": [
       "<div>\n",
       "<style scoped>\n",
       "    .dataframe tbody tr th:only-of-type {\n",
       "        vertical-align: middle;\n",
       "    }\n",
       "\n",
       "    .dataframe tbody tr th {\n",
       "        vertical-align: top;\n",
       "    }\n",
       "\n",
       "    .dataframe thead th {\n",
       "        text-align: right;\n",
       "    }\n",
       "</style>\n",
       "<table border=\"1\" class=\"dataframe\">\n",
       "  <thead>\n",
       "    <tr style=\"text-align: right;\">\n",
       "      <th></th>\n",
       "      <th>agency_merchant_avg_ratio_amount</th>\n",
       "      <th>agency_merchant_median_ratio_amount</th>\n",
       "      <th>agency_merchant_month_avg_ratio_amount</th>\n",
       "      <th>agency_merchant_month_median_ratio_amount</th>\n",
       "      <th>agency_merchant_month_week_avg_ratio_amount</th>\n",
       "      <th>agency_merchant_month_week_median_ratio_amount</th>\n",
       "      <th>agency_Merchant_week_avg_ratio_amount</th>\n",
       "      <th>agency_merchant_week_median_ratio_amount</th>\n",
       "      <th>agency_merchant_cust_avg_ratio_amount</th>\n",
       "      <th>agency_merchant_cust_median_ratio_amount</th>\n",
       "      <th>agency_cardholder_avg_amount_perDay_1Week</th>\n",
       "      <th>agency_cardholder_avg_amount_perDay_1Month</th>\n",
       "      <th>agency_cardholder_total_count_sameDay</th>\n",
       "      <th>agency_cardholder_merchant_total_count_1Month</th>\n",
       "      <th>agency_merchant_cust_weekNum_avg_ratio_amount</th>\n",
       "      <th>agency_merchant_cust_weekNum_median_ratio_amount</th>\n",
       "      <th>y_by_average_score</th>\n",
       "      <th>y_by_average_cluster</th>\n",
       "      <th>y_by_maximization_score</th>\n",
       "    </tr>\n",
       "    <tr>\n",
       "      <th>y_by_maximization_cluster</th>\n",
       "      <th></th>\n",
       "      <th></th>\n",
       "      <th></th>\n",
       "      <th></th>\n",
       "      <th></th>\n",
       "      <th></th>\n",
       "      <th></th>\n",
       "      <th></th>\n",
       "      <th></th>\n",
       "      <th></th>\n",
       "      <th></th>\n",
       "      <th></th>\n",
       "      <th></th>\n",
       "      <th></th>\n",
       "      <th></th>\n",
       "      <th></th>\n",
       "      <th></th>\n",
       "      <th></th>\n",
       "      <th></th>\n",
       "    </tr>\n",
       "  </thead>\n",
       "  <tbody>\n",
       "    <tr>\n",
       "      <th>0</th>\n",
       "      <td>0.862494</td>\n",
       "      <td>1.959026</td>\n",
       "      <td>0.882077</td>\n",
       "      <td>1.859020</td>\n",
       "      <td>0.995416</td>\n",
       "      <td>1.729816</td>\n",
       "      <td>9.271093e-01</td>\n",
       "      <td>1.745360</td>\n",
       "      <td>0.913756</td>\n",
       "      <td>1.447374</td>\n",
       "      <td>835.362670</td>\n",
       "      <td>729.104357</td>\n",
       "      <td>5.423645</td>\n",
       "      <td>17.927599</td>\n",
       "      <td>0.941331</td>\n",
       "      <td>1.606477</td>\n",
       "      <td>-0.054715</td>\n",
       "      <td>0.000000</td>\n",
       "      <td>-0.030269</td>\n",
       "    </tr>\n",
       "    <tr>\n",
       "      <th>1</th>\n",
       "      <td>8.095826</td>\n",
       "      <td>987.055148</td>\n",
       "      <td>4.603671</td>\n",
       "      <td>1210.738392</td>\n",
       "      <td>3.531924</td>\n",
       "      <td>17.125111</td>\n",
       "      <td>1.912732e+15</td>\n",
       "      <td>487.509386</td>\n",
       "      <td>4.389236</td>\n",
       "      <td>11.770275</td>\n",
       "      <td>11146.433681</td>\n",
       "      <td>8942.023250</td>\n",
       "      <td>26.367793</td>\n",
       "      <td>87.944334</td>\n",
       "      <td>2.313765</td>\n",
       "      <td>484.964681</td>\n",
       "      <td>31.862002</td>\n",
       "      <td>0.749503</td>\n",
       "      <td>34.308472</td>\n",
       "    </tr>\n",
       "  </tbody>\n",
       "</table>\n",
       "</div>"
      ],
      "text/plain": [
       "                           agency_merchant_avg_ratio_amount  \\\n",
       "y_by_maximization_cluster                                     \n",
       "0                                                  0.862494   \n",
       "1                                                  8.095826   \n",
       "\n",
       "                           agency_merchant_median_ratio_amount  \\\n",
       "y_by_maximization_cluster                                        \n",
       "0                                                     1.959026   \n",
       "1                                                   987.055148   \n",
       "\n",
       "                           agency_merchant_month_avg_ratio_amount  \\\n",
       "y_by_maximization_cluster                                           \n",
       "0                                                        0.882077   \n",
       "1                                                        4.603671   \n",
       "\n",
       "                           agency_merchant_month_median_ratio_amount  \\\n",
       "y_by_maximization_cluster                                              \n",
       "0                                                           1.859020   \n",
       "1                                                        1210.738392   \n",
       "\n",
       "                           agency_merchant_month_week_avg_ratio_amount  \\\n",
       "y_by_maximization_cluster                                                \n",
       "0                                                             0.995416   \n",
       "1                                                             3.531924   \n",
       "\n",
       "                           agency_merchant_month_week_median_ratio_amount  \\\n",
       "y_by_maximization_cluster                                                   \n",
       "0                                                                1.729816   \n",
       "1                                                               17.125111   \n",
       "\n",
       "                           agency_Merchant_week_avg_ratio_amount  \\\n",
       "y_by_maximization_cluster                                          \n",
       "0                                                   9.271093e-01   \n",
       "1                                                   1.912732e+15   \n",
       "\n",
       "                           agency_merchant_week_median_ratio_amount  \\\n",
       "y_by_maximization_cluster                                             \n",
       "0                                                          1.745360   \n",
       "1                                                        487.509386   \n",
       "\n",
       "                           agency_merchant_cust_avg_ratio_amount  \\\n",
       "y_by_maximization_cluster                                          \n",
       "0                                                       0.913756   \n",
       "1                                                       4.389236   \n",
       "\n",
       "                           agency_merchant_cust_median_ratio_amount  \\\n",
       "y_by_maximization_cluster                                             \n",
       "0                                                          1.447374   \n",
       "1                                                         11.770275   \n",
       "\n",
       "                           agency_cardholder_avg_amount_perDay_1Week  \\\n",
       "y_by_maximization_cluster                                              \n",
       "0                                                         835.362670   \n",
       "1                                                       11146.433681   \n",
       "\n",
       "                           agency_cardholder_avg_amount_perDay_1Month  \\\n",
       "y_by_maximization_cluster                                               \n",
       "0                                                          729.104357   \n",
       "1                                                         8942.023250   \n",
       "\n",
       "                           agency_cardholder_total_count_sameDay  \\\n",
       "y_by_maximization_cluster                                          \n",
       "0                                                       5.423645   \n",
       "1                                                      26.367793   \n",
       "\n",
       "                           agency_cardholder_merchant_total_count_1Month  \\\n",
       "y_by_maximization_cluster                                                  \n",
       "0                                                              17.927599   \n",
       "1                                                              87.944334   \n",
       "\n",
       "                           agency_merchant_cust_weekNum_avg_ratio_amount  \\\n",
       "y_by_maximization_cluster                                                  \n",
       "0                                                               0.941331   \n",
       "1                                                               2.313765   \n",
       "\n",
       "                           agency_merchant_cust_weekNum_median_ratio_amount  \\\n",
       "y_by_maximization_cluster                                                     \n",
       "0                                                                  1.606477   \n",
       "1                                                                484.964681   \n",
       "\n",
       "                           y_by_average_score  y_by_average_cluster  \\\n",
       "y_by_maximization_cluster                                             \n",
       "0                                   -0.054715              0.000000   \n",
       "1                                   31.862002              0.749503   \n",
       "\n",
       "                           y_by_maximization_score  \n",
       "y_by_maximization_cluster                           \n",
       "0                                        -0.030269  \n",
       "1                                        34.308472  "
      ]
     },
     "execution_count": 150,
     "metadata": {},
     "output_type": "execute_result"
    }
   ],
   "source": [
    "# summary statistics of the normal and abnormal clusters\n",
    "df_test.groupby('y_by_maximization_cluster').mean()"
   ]
  },
  {
   "cell_type": "markdown",
   "id": "f795372e",
   "metadata": {},
   "source": [
    "## The summary statistics show the average anomaly score of Cluster 0 is smaller than that of Cluster 1, indicating Cluster 1 to be the anomaly group. The fact is that each Feature have lower means and MOM score in Cluster 0."
   ]
  },
  {
   "cell_type": "markdown",
   "id": "818dbc68",
   "metadata": {},
   "source": [
    "## 4.3 Method 3: The Average of Maximum (AOM)"
   ]
  },
  {
   "cell_type": "markdown",
   "id": "371b2837",
   "metadata": {},
   "source": [
    "Average of Maximum (AOM) : divide base detectors into subgroups and take the maximum score for each subgroup. The final score is the average of all subgroup scores."
   ]
  },
  {
   "cell_type": "code",
   "execution_count": 160,
   "id": "5c7c0e74",
   "metadata": {},
   "outputs": [
    {
     "data": {
      "image/png": "[encoded data removed]",
      "text/plain": [
       "<Figure size 432x288 with 1 Axes>"
      ]
     },
     "metadata": {
      "needs_background": "light"
     },
     "output_type": "display_data"
    }
   ],
   "source": [
    "# Combination by aom\n",
    "y_by_aom = aom(test_scores_norm, n_buckets=2)\n",
    "             \n",
    "import matplotlib.pyplot as plt\n",
    "plt.hist(y_by_aom, bins='auto')  # arguments are passed to np.histogram\n",
    "plt.title(\"Average of Maximum\")\n",
    "\n",
    "x_major_locator=MultipleLocator(0.5)\n",
    "ax=plt.gca()\n",
    "ax.xaxis.set_major_locator(x_major_locator)\n",
    "plt.xlim(-1,5)\n",
    "\n",
    "plt.show()"
   ]
  },
  {
   "cell_type": "markdown",
   "id": "17fe4565",
   "metadata": {},
   "source": [
    "## From this histogram, we can see that most of the data points are distributed at less than 0.5. I chose 0.5 as the cut point, so I can suggest those >= 0.5 to be outliers."
   ]
  },
  {
   "cell_type": "code",
   "execution_count": 161,
   "id": "6f446e92",
   "metadata": {},
   "outputs": [
    {
     "data": {
      "text/plain": [
       "0    17239\n",
       "1      460\n",
       "Name: y_by_aom_cluster, dtype: int64"
      ]
     },
     "execution_count": 161,
     "metadata": {},
     "output_type": "execute_result"
    }
   ],
   "source": [
    "df_test = pd.DataFrame(X_test)\n",
    "df_test['y_by_aom_score'] = y_by_aom\n",
    "df_test['y_by_aom_cluster'] = np.where(df_test['y_by_aom_score']<0.5, 0, 1)\n",
    "df_test['y_by_aom_cluster'].value_counts()"
   ]
  },
  {
   "cell_type": "markdown",
   "id": "f7afe86f",
   "metadata": {},
   "source": [
    "## In AOM method it identifies 460 data points that have the outlier scores higher than 0.5."
   ]
  },
  {
   "cell_type": "code",
   "execution_count": 162,
   "id": "1e2b7003",
   "metadata": {},
   "outputs": [
    {
     "data": {
      "text/html": [
       "<div>\n",
       "<style scoped>\n",
       "    .dataframe tbody tr th:only-of-type {\n",
       "        vertical-align: middle;\n",
       "    }\n",
       "\n",
       "    .dataframe tbody tr th {\n",
       "        vertical-align: top;\n",
       "    }\n",
       "\n",
       "    .dataframe thead th {\n",
       "        text-align: right;\n",
       "    }\n",
       "</style>\n",
       "<table border=\"1\" class=\"dataframe\">\n",
       "  <thead>\n",
       "    <tr style=\"text-align: right;\">\n",
       "      <th></th>\n",
       "      <th>agency_merchant_avg_ratio_amount</th>\n",
       "      <th>agency_merchant_median_ratio_amount</th>\n",
       "      <th>agency_merchant_month_avg_ratio_amount</th>\n",
       "      <th>agency_merchant_month_median_ratio_amount</th>\n",
       "      <th>agency_merchant_month_week_avg_ratio_amount</th>\n",
       "      <th>agency_merchant_month_week_median_ratio_amount</th>\n",
       "      <th>agency_Merchant_week_avg_ratio_amount</th>\n",
       "      <th>agency_merchant_week_median_ratio_amount</th>\n",
       "      <th>agency_merchant_cust_avg_ratio_amount</th>\n",
       "      <th>agency_merchant_cust_median_ratio_amount</th>\n",
       "      <th>...</th>\n",
       "      <th>agency_cardholder_avg_amount_perDay_1Month</th>\n",
       "      <th>agency_cardholder_total_count_sameDay</th>\n",
       "      <th>agency_cardholder_merchant_total_count_1Month</th>\n",
       "      <th>agency_merchant_cust_weekNum_avg_ratio_amount</th>\n",
       "      <th>agency_merchant_cust_weekNum_median_ratio_amount</th>\n",
       "      <th>y_by_average_score</th>\n",
       "      <th>y_by_average_cluster</th>\n",
       "      <th>y_by_maximization_score</th>\n",
       "      <th>y_by_maximization_cluster</th>\n",
       "      <th>y_by_aom_score</th>\n",
       "    </tr>\n",
       "    <tr>\n",
       "      <th>y_by_aom_cluster</th>\n",
       "      <th></th>\n",
       "      <th></th>\n",
       "      <th></th>\n",
       "      <th></th>\n",
       "      <th></th>\n",
       "      <th></th>\n",
       "      <th></th>\n",
       "      <th></th>\n",
       "      <th></th>\n",
       "      <th></th>\n",
       "      <th></th>\n",
       "      <th></th>\n",
       "      <th></th>\n",
       "      <th></th>\n",
       "      <th></th>\n",
       "      <th></th>\n",
       "      <th></th>\n",
       "      <th></th>\n",
       "      <th></th>\n",
       "      <th></th>\n",
       "      <th></th>\n",
       "    </tr>\n",
       "  </thead>\n",
       "  <tbody>\n",
       "    <tr>\n",
       "      <th>0</th>\n",
       "      <td>0.865521</td>\n",
       "      <td>1.970512</td>\n",
       "      <td>0.884904</td>\n",
       "      <td>1.869098</td>\n",
       "      <td>0.996913</td>\n",
       "      <td>1.734652</td>\n",
       "      <td>9.319010e-01</td>\n",
       "      <td>1.752048</td>\n",
       "      <td>0.915960</td>\n",
       "      <td>1.452931</td>\n",
       "      <td>...</td>\n",
       "      <td>742.382095</td>\n",
       "      <td>5.518244</td>\n",
       "      <td>18.428621</td>\n",
       "      <td>0.942975</td>\n",
       "      <td>1.609355</td>\n",
       "      <td>-0.053610</td>\n",
       "      <td>0.000000</td>\n",
       "      <td>-0.028883</td>\n",
       "      <td>0.002494</td>\n",
       "      <td>-0.034316</td>\n",
       "    </tr>\n",
       "    <tr>\n",
       "      <th>1</th>\n",
       "      <td>8.658576</td>\n",
       "      <td>1078.709766</td>\n",
       "      <td>4.845590</td>\n",
       "      <td>1323.364664</td>\n",
       "      <td>3.712935</td>\n",
       "      <td>18.383012</td>\n",
       "      <td>2.091530e+15</td>\n",
       "      <td>532.667135</td>\n",
       "      <td>4.631527</td>\n",
       "      <td>12.527006</td>\n",
       "      <td>...</td>\n",
       "      <td>9212.154944</td>\n",
       "      <td>24.780435</td>\n",
       "      <td>75.713043</td>\n",
       "      <td>2.380441</td>\n",
       "      <td>530.040327</td>\n",
       "      <td>34.804129</td>\n",
       "      <td>0.819565</td>\n",
       "      <td>37.466481</td>\n",
       "      <td>1.000000</td>\n",
       "      <td>36.934802</td>\n",
       "    </tr>\n",
       "  </tbody>\n",
       "</table>\n",
       "<p>2 rows × 21 columns</p>\n",
       "</div>"
      ],
      "text/plain": [
       "                  agency_merchant_avg_ratio_amount  \\\n",
       "y_by_aom_cluster                                     \n",
       "0                                         0.865521   \n",
       "1                                         8.658576   \n",
       "\n",
       "                  agency_merchant_median_ratio_amount  \\\n",
       "y_by_aom_cluster                                        \n",
       "0                                            1.970512   \n",
       "1                                         1078.709766   \n",
       "\n",
       "                  agency_merchant_month_avg_ratio_amount  \\\n",
       "y_by_aom_cluster                                           \n",
       "0                                               0.884904   \n",
       "1                                               4.845590   \n",
       "\n",
       "                  agency_merchant_month_median_ratio_amount  \\\n",
       "y_by_aom_cluster                                              \n",
       "0                                                  1.869098   \n",
       "1                                               1323.364664   \n",
       "\n",
       "                  agency_merchant_month_week_avg_ratio_amount  \\\n",
       "y_by_aom_cluster                                                \n",
       "0                                                    0.996913   \n",
       "1                                                    3.712935   \n",
       "\n",
       "                  agency_merchant_month_week_median_ratio_amount  \\\n",
       "y_by_aom_cluster                                                   \n",
       "0                                                       1.734652   \n",
       "1                                                      18.383012   \n",
       "\n",
       "                  agency_Merchant_week_avg_ratio_amount  \\\n",
       "y_by_aom_cluster                                          \n",
       "0                                          9.319010e-01   \n",
       "1                                          2.091530e+15   \n",
       "\n",
       "                  agency_merchant_week_median_ratio_amount  \\\n",
       "y_by_aom_cluster                                             \n",
       "0                                                 1.752048   \n",
       "1                                               532.667135   \n",
       "\n",
       "                  agency_merchant_cust_avg_ratio_amount  \\\n",
       "y_by_aom_cluster                                          \n",
       "0                                              0.915960   \n",
       "1                                              4.631527   \n",
       "\n",
       "                  agency_merchant_cust_median_ratio_amount  ...  \\\n",
       "y_by_aom_cluster                                            ...   \n",
       "0                                                 1.452931  ...   \n",
       "1                                                12.527006  ...   \n",
       "\n",
       "                  agency_cardholder_avg_amount_perDay_1Month  \\\n",
       "y_by_aom_cluster                                               \n",
       "0                                                 742.382095   \n",
       "1                                                9212.154944   \n",
       "\n",
       "                  agency_cardholder_total_count_sameDay  \\\n",
       "y_by_aom_cluster                                          \n",
       "0                                              5.518244   \n",
       "1                                             24.780435   \n",
       "\n",
       "                  agency_cardholder_merchant_total_count_1Month  \\\n",
       "y_by_aom_cluster                                                  \n",
       "0                                                     18.428621   \n",
       "1                                                     75.713043   \n",
       "\n",
       "                  agency_merchant_cust_weekNum_avg_ratio_amount  \\\n",
       "y_by_aom_cluster                                                  \n",
       "0                                                      0.942975   \n",
       "1                                                      2.380441   \n",
       "\n",
       "                  agency_merchant_cust_weekNum_median_ratio_amount  \\\n",
       "y_by_aom_cluster                                                     \n",
       "0                                                         1.609355   \n",
       "1                                                       530.040327   \n",
       "\n",
       "                  y_by_average_score  y_by_average_cluster  \\\n",
       "y_by_aom_cluster                                             \n",
       "0                          -0.053610              0.000000   \n",
       "1                          34.804129              0.819565   \n",
       "\n",
       "                  y_by_maximization_score  y_by_maximization_cluster  \\\n",
       "y_by_aom_cluster                                                       \n",
       "0                               -0.028883                   0.002494   \n",
       "1                               37.466481                   1.000000   \n",
       "\n",
       "                  y_by_aom_score  \n",
       "y_by_aom_cluster                  \n",
       "0                      -0.034316  \n",
       "1                      36.934802  \n",
       "\n",
       "[2 rows x 21 columns]"
      ]
     },
     "execution_count": 162,
     "metadata": {},
     "output_type": "execute_result"
    }
   ],
   "source": [
    "# summary statistics of the normal and abnormal clusters\n",
    "df_test.groupby('y_by_aom_cluster').mean()"
   ]
  },
  {
   "cell_type": "markdown",
   "id": "693c59b5",
   "metadata": {},
   "source": [
    "## The summary statistics show the average anomaly score of Cluster 0 is smaller than that of Cluster 1, indicating Cluster 1 to be the anomaly group. The fact is that each Feature have lower means and AOM score in Cluster 0."
   ]
  },
  {
   "cell_type": "markdown",
   "id": "2797db80",
   "metadata": {},
   "source": [
    "## 4.4 Method 4: The maximum of average (MOA)"
   ]
  },
  {
   "cell_type": "markdown",
   "id": "bd51c56c",
   "metadata": {},
   "source": [
    "Maximum of Average (MOA) : divide base detectors into subgroups and take the average score for each subgroup. The final score is the maximum of all subgroup scores."
   ]
  },
  {
   "cell_type": "code",
   "execution_count": 166,
   "id": "85bec478",
   "metadata": {},
   "outputs": [
    {
     "data": {
      "image/png": "[encoded data removed]",
      "text/plain": [
       "<Figure size 432x288 with 1 Axes>"
      ]
     },
     "metadata": {
      "needs_background": "light"
     },
     "output_type": "display_data"
    }
   ],
   "source": [
    "# Combination by moa\n",
    "y_by_moa = moa(test_scores_norm, n_buckets=2)\n",
    "\n",
    "import matplotlib.pyplot as plt\n",
    "plt.hist(y_by_moa, bins='auto')  # arguments are passed to np.histogram\n",
    "plt.title(\"Maximum of Average\")\n",
    "\n",
    "x_major_locator=MultipleLocator(0.5)\n",
    "ax=plt.gca()\n",
    "ax.xaxis.set_major_locator(x_major_locator)\n",
    "plt.xlim(-1,5)\n",
    "\n",
    "plt.show()"
   ]
  },
  {
   "cell_type": "markdown",
   "id": "1f0f181b",
   "metadata": {},
   "source": [
    "## From this histogram, we can see that most of the data points are distributed at less than 0.5. I chose 0.5 as the cut point, so I can suggest those >= 0.5 to be outliers."
   ]
  },
  {
   "cell_type": "code",
   "execution_count": 164,
   "id": "581cf903",
   "metadata": {},
   "outputs": [
    {
     "data": {
      "text/plain": [
       "0    17238\n",
       "1      461\n",
       "Name: y_by_moa_cluster, dtype: int64"
      ]
     },
     "execution_count": 164,
     "metadata": {},
     "output_type": "execute_result"
    }
   ],
   "source": [
    "df_test = pd.DataFrame(X_test)\n",
    "df_test['y_by_moa_score'] = y_by_moa\n",
    "df_test['y_by_moa_cluster'] = np.where(df_test['y_by_moa_score']<0.5, 0, 1)\n",
    "df_test['y_by_moa_cluster'].value_counts()"
   ]
  },
  {
   "cell_type": "markdown",
   "id": "ef107129",
   "metadata": {},
   "source": [
    "## In MOA method it identifies 461 data points that have the outlier scores higher than 0.5"
   ]
  },
  {
   "cell_type": "code",
   "execution_count": 165,
   "id": "fada71e9",
   "metadata": {},
   "outputs": [
    {
     "data": {
      "text/html": [
       "<div>\n",
       "<style scoped>\n",
       "    .dataframe tbody tr th:only-of-type {\n",
       "        vertical-align: middle;\n",
       "    }\n",
       "\n",
       "    .dataframe tbody tr th {\n",
       "        vertical-align: top;\n",
       "    }\n",
       "\n",
       "    .dataframe thead th {\n",
       "        text-align: right;\n",
       "    }\n",
       "</style>\n",
       "<table border=\"1\" class=\"dataframe\">\n",
       "  <thead>\n",
       "    <tr style=\"text-align: right;\">\n",
       "      <th></th>\n",
       "      <th>agency_merchant_avg_ratio_amount</th>\n",
       "      <th>agency_merchant_median_ratio_amount</th>\n",
       "      <th>agency_merchant_month_avg_ratio_amount</th>\n",
       "      <th>agency_merchant_month_median_ratio_amount</th>\n",
       "      <th>agency_merchant_month_week_avg_ratio_amount</th>\n",
       "      <th>agency_merchant_month_week_median_ratio_amount</th>\n",
       "      <th>agency_Merchant_week_avg_ratio_amount</th>\n",
       "      <th>agency_merchant_week_median_ratio_amount</th>\n",
       "      <th>agency_merchant_cust_avg_ratio_amount</th>\n",
       "      <th>agency_merchant_cust_median_ratio_amount</th>\n",
       "      <th>...</th>\n",
       "      <th>agency_cardholder_merchant_total_count_1Month</th>\n",
       "      <th>agency_merchant_cust_weekNum_avg_ratio_amount</th>\n",
       "      <th>agency_merchant_cust_weekNum_median_ratio_amount</th>\n",
       "      <th>y_by_average_score</th>\n",
       "      <th>y_by_average_cluster</th>\n",
       "      <th>y_by_maximization_score</th>\n",
       "      <th>y_by_maximization_cluster</th>\n",
       "      <th>y_by_aom_score</th>\n",
       "      <th>y_by_aom_cluster</th>\n",
       "      <th>y_by_moa_score</th>\n",
       "    </tr>\n",
       "    <tr>\n",
       "      <th>y_by_moa_cluster</th>\n",
       "      <th></th>\n",
       "      <th></th>\n",
       "      <th></th>\n",
       "      <th></th>\n",
       "      <th></th>\n",
       "      <th></th>\n",
       "      <th></th>\n",
       "      <th></th>\n",
       "      <th></th>\n",
       "      <th></th>\n",
       "      <th></th>\n",
       "      <th></th>\n",
       "      <th></th>\n",
       "      <th></th>\n",
       "      <th></th>\n",
       "      <th></th>\n",
       "      <th></th>\n",
       "      <th></th>\n",
       "      <th></th>\n",
       "      <th></th>\n",
       "      <th></th>\n",
       "    </tr>\n",
       "  </thead>\n",
       "  <tbody>\n",
       "    <tr>\n",
       "      <th>0</th>\n",
       "      <td>0.865850</td>\n",
       "      <td>1.970998</td>\n",
       "      <td>0.885360</td>\n",
       "      <td>1.869565</td>\n",
       "      <td>0.996759</td>\n",
       "      <td>1.734139</td>\n",
       "      <td>9.318971e-01</td>\n",
       "      <td>1.752091</td>\n",
       "      <td>0.915988</td>\n",
       "      <td>1.452856</td>\n",
       "      <td>...</td>\n",
       "      <td>18.429342</td>\n",
       "      <td>0.942971</td>\n",
       "      <td>1.609390</td>\n",
       "      <td>-0.053636</td>\n",
       "      <td>0.000000</td>\n",
       "      <td>-0.028916</td>\n",
       "      <td>0.002436</td>\n",
       "      <td>-0.034347</td>\n",
       "      <td>0.000000</td>\n",
       "      <td>-0.038565</td>\n",
       "    </tr>\n",
       "    <tr>\n",
       "      <th>1</th>\n",
       "      <td>8.629351</td>\n",
       "      <td>1076.355923</td>\n",
       "      <td>4.819946</td>\n",
       "      <td>1320.480618</td>\n",
       "      <td>3.712767</td>\n",
       "      <td>18.366078</td>\n",
       "      <td>2.086993e+15</td>\n",
       "      <td>531.513844</td>\n",
       "      <td>4.622436</td>\n",
       "      <td>12.505766</td>\n",
       "      <td>...</td>\n",
       "      <td>75.561822</td>\n",
       "      <td>2.377446</td>\n",
       "      <td>528.892734</td>\n",
       "      <td>34.729489</td>\n",
       "      <td>0.817787</td>\n",
       "      <td>37.386373</td>\n",
       "      <td>1.000000</td>\n",
       "      <td>36.855764</td>\n",
       "      <td>0.997831</td>\n",
       "      <td>36.297281</td>\n",
       "    </tr>\n",
       "  </tbody>\n",
       "</table>\n",
       "<p>2 rows × 23 columns</p>\n",
       "</div>"
      ],
      "text/plain": [
       "                  agency_merchant_avg_ratio_amount  \\\n",
       "y_by_moa_cluster                                     \n",
       "0                                         0.865850   \n",
       "1                                         8.629351   \n",
       "\n",
       "                  agency_merchant_median_ratio_amount  \\\n",
       "y_by_moa_cluster                                        \n",
       "0                                            1.970998   \n",
       "1                                         1076.355923   \n",
       "\n",
       "                  agency_merchant_month_avg_ratio_amount  \\\n",
       "y_by_moa_cluster                                           \n",
       "0                                               0.885360   \n",
       "1                                               4.819946   \n",
       "\n",
       "                  agency_merchant_month_median_ratio_amount  \\\n",
       "y_by_moa_cluster                                              \n",
       "0                                                  1.869565   \n",
       "1                                               1320.480618   \n",
       "\n",
       "                  agency_merchant_month_week_avg_ratio_amount  \\\n",
       "y_by_moa_cluster                                                \n",
       "0                                                    0.996759   \n",
       "1                                                    3.712767   \n",
       "\n",
       "                  agency_merchant_month_week_median_ratio_amount  \\\n",
       "y_by_moa_cluster                                                   \n",
       "0                                                       1.734139   \n",
       "1                                                      18.366078   \n",
       "\n",
       "                  agency_Merchant_week_avg_ratio_amount  \\\n",
       "y_by_moa_cluster                                          \n",
       "0                                          9.318971e-01   \n",
       "1                                          2.086993e+15   \n",
       "\n",
       "                  agency_merchant_week_median_ratio_amount  \\\n",
       "y_by_moa_cluster                                             \n",
       "0                                                 1.752091   \n",
       "1                                               531.513844   \n",
       "\n",
       "                  agency_merchant_cust_avg_ratio_amount  \\\n",
       "y_by_moa_cluster                                          \n",
       "0                                              0.915988   \n",
       "1                                              4.622436   \n",
       "\n",
       "                  agency_merchant_cust_median_ratio_amount  ...  \\\n",
       "y_by_moa_cluster                                            ...   \n",
       "0                                                 1.452856  ...   \n",
       "1                                                12.505766  ...   \n",
       "\n",
       "                  agency_cardholder_merchant_total_count_1Month  \\\n",
       "y_by_moa_cluster                                                  \n",
       "0                                                     18.429342   \n",
       "1                                                     75.561822   \n",
       "\n",
       "                  agency_merchant_cust_weekNum_avg_ratio_amount  \\\n",
       "y_by_moa_cluster                                                  \n",
       "0                                                      0.942971   \n",
       "1                                                      2.377446   \n",
       "\n",
       "                  agency_merchant_cust_weekNum_median_ratio_amount  \\\n",
       "y_by_moa_cluster                                                     \n",
       "0                                                         1.609390   \n",
       "1                                                       528.892734   \n",
       "\n",
       "                  y_by_average_score  y_by_average_cluster  \\\n",
       "y_by_moa_cluster                                             \n",
       "0                          -0.053636              0.000000   \n",
       "1                          34.729489              0.817787   \n",
       "\n",
       "                  y_by_maximization_score  y_by_maximization_cluster  \\\n",
       "y_by_moa_cluster                                                       \n",
       "0                               -0.028916                   0.002436   \n",
       "1                               37.386373                   1.000000   \n",
       "\n",
       "                  y_by_aom_score  y_by_aom_cluster  y_by_moa_score  \n",
       "y_by_moa_cluster                                                    \n",
       "0                      -0.034347          0.000000       -0.038565  \n",
       "1                      36.855764          0.997831       36.297281  \n",
       "\n",
       "[2 rows x 23 columns]"
      ]
     },
     "execution_count": 165,
     "metadata": {},
     "output_type": "execute_result"
    }
   ],
   "source": [
    "# summary statistics of the normal and abnormal clusters\n",
    "df_test.groupby('y_by_moa_cluster').mean()"
   ]
  },
  {
   "cell_type": "markdown",
   "id": "a3e1c376",
   "metadata": {},
   "source": [
    "## The summary statistics show the average anomaly score of Cluster 0 is smaller than that of Cluster 1, indicating Cluster 1 to be the anomaly group. The fact is that each Feature have lower means and MOA score in Cluster 0."
   ]
  },
  {
   "cell_type": "markdown",
   "id": "7e3f6c9e",
   "metadata": {},
   "source": [
    "# 5. Conclusion"
   ]
  },
  {
   "cell_type": "markdown",
   "id": "d9353b0f",
   "metadata": {},
   "source": [
    "## Business Insight\n",
    "- Outliers exist for every variable. However, not all outliers are fraud. The majority of anomalies are common business practices. Fraudulent actions are more likely to occur in the outliers because a fraudster wants to acquire a big quantity of merchants as soon as possible. We can more efficiently discover scammers by concentrating on the outliers.\n",
    "- Feature engineering has a big impact on the construction of the model. From the summary statistics, it can be seen that some feature engineering has a very huge score gap between the normal and abnormal clusters, while some of the gap is not so obvious.In particular, for the same type of characteristic works but taking different statistical indicators (mean vs. median). For this dataset, I prefer to use the median as benchmark of the ratio feature because there is a more significant difference in scores\n",
    "- The characteristics of credit card fraud are reflected in RFM (Recency-Frequency-Monetary), the number of purchases and the rise in monetary value in a short period of time. A shift in purchase patterns that do not match long-term purchase patterns for certain specific institutions or merchant.\n",
    "- The average method found the least number of anomalous data points, while the MOM method found the most anomalies. the AOM and MOA methods found very similar data points and anomaly scores.\n",
    "\n",
    "## Limitation\n",
    "- Limited by hardware and time, I randomly sampled 20% of the entire dataset. If the model can be trained with samples from the whole dataset, the model performance should be improved.\n",
    "- A very critical step in determining anomalous data points is how to determine the reasonable boundary. All we can do is to determine the approximate threshold from the distribution of the histogram, if there is a better way to help determine the threshold will be able to make the results better.\n",
    "- Although the model can be used to detect anomalies, we have no way of knowing exactly how accurate the model is. The determination of anomalies also differs between models, and different unsupervised models can be tried to decide on a better one."
   ]
  }
 ],
 "metadata": {
  "kernelspec": {
   "display_name": "Python 3 (ipykernel)",
   "language": "python",
   "name": "python3"
  },
  "language_info": {
   "codemirror_mode": {
    "name": "ipython",
    "version": 3
   },
   "file_extension": ".py",
   "mimetype": "text/x-python",
   "name": "python",
   "nbconvert_exporter": "python",
   "pygments_lexer": "ipython3",
   "version": "3.9.7"
  },
  "toc": {
   "base_numbering": 1,
   "nav_menu": {},
   "number_sections": false,
   "sideBar": true,
   "skip_h1_title": false,
   "title_cell": "Table of Contents",
   "title_sidebar": "Contents",
   "toc_cell": true,
   "toc_position": {
    "height": "calc(100% - 180px)",
    "left": "10px",
    "top": "150px",
    "width": "373.333px"
   },
   "toc_section_display": true,
   "toc_window_display": false
  }
 },
 "nbformat": 4,
 "nbformat_minor": 5
}
